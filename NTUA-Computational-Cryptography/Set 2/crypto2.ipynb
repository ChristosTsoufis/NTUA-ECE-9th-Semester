{
  "nbformat": 4,
  "nbformat_minor": 0,
  "metadata": {
    "colab": {
      "name": "crypto2.ipynb",
      "provenance": [],
      "collapsed_sections": []
    },
    "kernelspec": {
      "name": "python3",
      "display_name": "Python 3"
    },
    "language_info": {
      "name": "python"
    }
  },
  "cells": [
    {
      "cell_type": "markdown",
      "source": [
        "## National Technical University of Athens\n",
        "### School of Electrical & Computer Engineering\n",
        "### Course: **Computational Cryptography**\n",
        "##### *9th Semester, 2021-2022*\n",
        "\n",
        "<br>\n",
        "\n",
        "###### Full Name: Christos Tsoufis\n",
        "###### A.M.: 031 17 176\n",
        "\n",
        "<br>\n",
        "\n",
        "#### Complimentary Code for Homework #2\n"
      ],
      "metadata": {
        "id": "41LhQ--Mjuyn"
      }
    },
    {
      "cell_type": "markdown",
      "source": [
        "### Installation of packages & libraris"
      ],
      "metadata": {
        "id": "LOKbNqqp9ZJj"
      }
    },
    {
      "cell_type": "code",
      "source": [
        "import random\n",
        "import math\n",
        "from math import gcd\n",
        "import time\n",
        "from sympy.ntheory.factor_ import totient as phi"
      ],
      "metadata": {
        "id": "W2GkDhTb9c5z"
      },
      "execution_count": 1,
      "outputs": []
    },
    {
      "cell_type": "markdown",
      "source": [
        "### Exercise 5"
      ],
      "metadata": {
        "id": "CzWmU_cF8d86"
      }
    },
    {
      "cell_type": "markdown",
      "source": [
        "The following function is used to calculate the repeated squaring process."
      ],
      "metadata": {
        "id": "NLDrcEGb9ATb"
      }
    },
    {
      "cell_type": "code",
      "execution_count": 2,
      "metadata": {
        "id": "DYABGGx5dwCL"
      },
      "outputs": [],
      "source": [
        "def Squaring(a, n, m):\n",
        "  y = 1\n",
        "  x = a%m\n",
        "  while (n > 0):\n",
        "    if (n%2 != 0):\n",
        "      y = (y*x)%m\n",
        "    x = (x**2)%m\n",
        "    n = n//2\n",
        "  \n",
        "  return y"
      ]
    },
    {
      "cell_type": "markdown",
      "source": [
        "The following function is used to calculate Fermat's Little Theorem."
      ],
      "metadata": {
        "id": "t7RChDBn9MrN"
      }
    },
    {
      "cell_type": "code",
      "source": [
        "def fermat(a, iter):\n",
        "  w = 2\n",
        "  for _ in range(iter):\n",
        "    if (Squaring(w, a-1, a) != 1):\n",
        "      \n",
        "      return False\n",
        "    w = w + 1\n",
        "  \n",
        "  return True"
      ],
      "metadata": {
        "id": "N93j7g3T85PD"
      },
      "execution_count": 3,
      "outputs": []
    },
    {
      "cell_type": "markdown",
      "source": [
        "The following function is the Main function that is used to run the given examples. It returns True if the number is prime number or False if it is not. It takes approximately 1 minute to run."
      ],
      "metadata": {
        "id": "yI79PeTP9hi7"
      }
    },
    {
      "cell_type": "code",
      "source": [
        "if __name__ == \"__main__\":\n",
        "  print(\"A boolean value is returned that indicates if the number is prime.\")\n",
        "  for i in [67280421310721, 170141183460469231731687303715884105721, \n",
        "            (2**2281)-1, (2**9941)-1, (2**19939)-1]:\n",
        "    print(fermat(i, 10))\n",
        "    print()"
      ],
      "metadata": {
        "colab": {
          "base_uri": "https://localhost:8080/"
        },
        "id": "f_XWA5vn89a4",
        "outputId": "e276a9ac-4d29-4a50-ef22-ceb947e33d18"
      },
      "execution_count": 4,
      "outputs": [
        {
          "output_type": "stream",
          "name": "stdout",
          "text": [
            "A boolean value is returned that indicates if the number is prime.\n",
            "True\n",
            "\n",
            "False\n",
            "\n",
            "True\n",
            "\n",
            "True\n",
            "\n",
            "False\n",
            "\n"
          ]
        }
      ]
    },
    {
      "cell_type": "markdown",
      "source": [
        "### Exercise 6"
      ],
      "metadata": {
        "id": "nFrPVMFh_W0w"
      }
    },
    {
      "cell_type": "markdown",
      "source": [
        "The following function is used to calculate φ."
      ],
      "metadata": {
        "id": "O3uNMWW7MW6j"
      }
    },
    {
      "cell_type": "code",
      "source": [
        "def phi(n):\n",
        "  result = n \n",
        "  p = 2\n",
        "  while (p*p <= n):\n",
        "    if n%p == 0:\n",
        "      while (n%p == 0):\n",
        "        n = n//p\n",
        "      result = result*(1.0 - (1.0/float(p)))\n",
        "    p += 1\n",
        "  \n",
        "  if n > 1:\n",
        "    result = result*(1.0 - (1.0/float(n)))\n",
        "  \n",
        "  return int(result) "
      ],
      "metadata": {
        "id": "YtMpOzb4_YzJ"
      },
      "execution_count": 5,
      "outputs": []
    },
    {
      "cell_type": "markdown",
      "source": [
        "The following function is used to calculate the number of portals."
      ],
      "metadata": {
        "id": "aoNPZT20MbvT"
      }
    },
    {
      "cell_type": "code",
      "source": [
        "def portal_calculator(Z, M):\n",
        "  m = pow(10, M)\n",
        "  phi1 = phi(pow(10, M))\n",
        "  phi2 = phi(phi1)\n",
        "  phi3 = phi(phi2)\n",
        "  br1 = 10%phi3\n",
        "  meros1 = pow(100, phi3 + br1, m)\n",
        "  meros2 = pow(1998000, phi2 + meros1, m)\n",
        "  res = pow(Z, phi1 + meros2, m)\n",
        "  \n",
        "  return res"
      ],
      "metadata": {
        "id": "-1sxzAkvFK2Q"
      },
      "execution_count": 6,
      "outputs": []
    },
    {
      "cell_type": "code",
      "source": [
        "Z = 51234577\n",
        "M = 10\n",
        "print(\"The # of Portals for M =\", M, \"& Z =\", Z, \"is: \", portal_calculator(Z, M))\n",
        "print()\n",
        "\n",
        "Z = 548\n",
        "M = 3\n",
        "print(\"The # of Portals for M =\", M, \"& Z =\", Z, \"is: \", portal_calculator(Z, M))\n",
        "print()"
      ],
      "metadata": {
        "colab": {
          "base_uri": "https://localhost:8080/"
        },
        "id": "lQ17EZjwFUoQ",
        "outputId": "cd769071-354c-48aa-b5e0-d2df383f31be"
      },
      "execution_count": 7,
      "outputs": [
        {
          "output_type": "stream",
          "name": "stdout",
          "text": [
            "The # of Portals for M = 10 & Z = 51234577 is:  1\n",
            "\n",
            "The # of Portals for M = 3 & Z = 548 is:  376\n",
            "\n"
          ]
        }
      ]
    },
    {
      "cell_type": "markdown",
      "source": [
        "The following function is used to calculate the power of a given number"
      ],
      "metadata": {
        "id": "S_8JCseWGijr"
      }
    },
    {
      "cell_type": "code",
      "source": [
        "def power(base, exp):\n",
        "  if exp < 0:\n",
        "    return 1/power(base, -exp)\n",
        "  ans = 1\n",
        "  while exp:\n",
        "    if exp&1:\n",
        "      ans = ans*base\n",
        "    exp = exp >> 1\n",
        "    base = base*base\n",
        "  \n",
        "  return ans"
      ],
      "metadata": {
        "id": "tdCakKg0FjCJ"
      },
      "execution_count": 8,
      "outputs": []
    },
    {
      "cell_type": "markdown",
      "source": [
        "The following function is the first and fast implementation of \"rattatak\"."
      ],
      "metadata": {
        "id": "eHJBW_xDGqRc"
      }
    },
    {
      "cell_type": "code",
      "source": [
        "def fast_rattatak(Z, M):\n",
        "  PM = power(10, M)\n",
        "  exp = phi(PM) + Squaring(1998000, power(100, 10), phi(PM))\n",
        "  \n",
        "  return Squaring(Z, exp, PM)"
      ],
      "metadata": {
        "id": "QjH8-nmzF_B_"
      },
      "execution_count": 9,
      "outputs": []
    },
    {
      "cell_type": "markdown",
      "source": [
        "The following function is the second implementation of \"rattatak\"."
      ],
      "metadata": {
        "id": "DbU-O6UaPp-f"
      }
    },
    {
      "cell_type": "code",
      "source": [
        "def rattatak(Z,M):\n",
        "  PM = power(10, M)\n",
        "  d = math.gcd(Z, PM)\n",
        "\n",
        "  if d == 1:\n",
        "    exp = Squaring(199800, power(100, 10), phi(PM))\n",
        "    \n",
        "    return Squaring(Z, exp, PM)\n",
        "  else:\n",
        "    ZZ = Z//d\n",
        "    exp = Squaring(199800, power(100, 10), phi(PM))\n",
        "    res1 = Squaring(ZZ, exp, PM)\n",
        "    PMD = PM//d\n",
        "    exp = (Squaring(199800, power(100, 10), phi(PMD)) + PMD - 1)%PMD\n",
        "    res2 = Squaring(d, exp, PMD)\n",
        "    \n",
        "    return (d*res1*res2)%PM"
      ],
      "metadata": {
        "id": "nTiKY2_pGS5b"
      },
      "execution_count": 10,
      "outputs": []
    },
    {
      "cell_type": "code",
      "source": [
        "M = 10\n",
        "Z = 51234577\n",
        "PM = power(10, M)\n",
        "print(\"For M =\", M, \"& Z =\", Z, \"it will be:\")\n",
        "print(phi(PM) + Squaring(1998000, power(100, 10), phi(PM)))\n",
        "print(phi(PM) + Squaring(199800, power(100, 10), phi(PM)))\n",
        "print(Squaring(10, power(100, 10), phi(PM)))\n",
        "print(fast_rattatak(Z, M))\n",
        "print(\"--------------------------------\")\n",
        "print()\n",
        "\n",
        "Z = 548\n",
        "M = 3\n",
        "PM = power(10, M)\n",
        "print(\"For M =\", M, \"& Z =\", Z, \"it will be:\")\n",
        "print(phi(PM) + Squaring(1998000, power(100, 10), phi(PM)))\n",
        "print(phi(PM) + Squaring(199800, power(100, 10), phi(PM)))\n",
        "print(Squaring(10, power(100, 10), phi(PM)))\n",
        "print(fast_rattatak(Z, M))\n",
        "print(\"--------------------------------\")\n",
        "print()"
      ],
      "metadata": {
        "colab": {
          "base_uri": "https://localhost:8080/"
        },
        "id": "trG6uIX3IPF_",
        "outputId": "b1133085-eae7-482a-964e-b83d429c2ad2"
      },
      "execution_count": 11,
      "outputs": [
        {
          "output_type": "stream",
          "name": "stdout",
          "text": [
            "For M = 10 & Z = 51234577 it will be:\n",
            "4000000000\n",
            "4000000000\n",
            "0\n",
            "1\n",
            "--------------------------------\n",
            "\n",
            "For M = 3 & Z = 548 it will be:\n",
            "400\n",
            "400\n",
            "0\n",
            "376\n",
            "--------------------------------\n",
            "\n"
          ]
        }
      ]
    },
    {
      "cell_type": "markdown",
      "source": [
        "The following cell shows which function is better for the \"rattatak's travel\"."
      ],
      "metadata": {
        "id": "qQcbPGPuU3L6"
      }
    },
    {
      "cell_type": "code",
      "source": [
        "for _ in range(10):\n",
        "  Z = random.randrange(1000000)\n",
        "  M = random.randrange(1, 100)\n",
        "  res1 = rattatak(Z, M)\n",
        "  res2 = fast_rattatak(Z, M)\n",
        "  if (res1 != res2):\n",
        "    print(\"test({\", Z, \"}, {\", M, \"}) = {\", res1, \"} or {\", res2, \"} or neither\")"
      ],
      "metadata": {
        "colab": {
          "base_uri": "https://localhost:8080/"
        },
        "id": "-tgU6pF5Tdyd",
        "outputId": "7f373c2a-f048-4020-ab71-073510eec637"
      },
      "execution_count": 20,
      "outputs": [
        {
          "output_type": "stream",
          "name": "stdout",
          "text": [
            "test({ 533796 }, { 79 }) = { 3040030485132066962785726510585101187016060719038489282430472096320179652263936 } or { 293118358204994286250218470959029406779374763086566286034399801672843852251136 } or neither\n",
            "test({ 590533 }, { 86 }) = { 49173508143017804591141612942757765913175155828764923242255336378007280256850098913281 } or { 89254176577978742687221952363796814570743649789815491417238518459053497140215986257921 } or neither\n",
            "test({ 342393 }, { 78 }) = { 499226904620775876078634047883531741082381658349724310083503057207575340646401 } or { 82914335528300721198097867291849311153582358175912500472562212104251323187201 } or neither\n",
            "test({ 477468 }, { 92 }) = { 49701071646449760142502687954658237380734474072349512376829405906981003907066673887157682176 } or { 13478402815185622021235949534617612873928966716722922658794554160328687205978270167388389376 } or neither\n",
            "test({ 967217 }, { 78 }) = { 872660409776089937853590703085781486225624240841822569245514318339144081735681 } or { 91202708131045848782145829230874384485770302410557127007733362666430623907841 } or neither\n"
          ]
        }
      ]
    },
    {
      "cell_type": "markdown",
      "source": [
        "The following function is used to calculate if the numbers are co-primes."
      ],
      "metadata": {
        "id": "C3dIo08ASOrj"
      }
    },
    {
      "cell_type": "code",
      "source": [
        "def prime(base, n, c):\n",
        "  d = math.gcd(base, n)\n",
        "  \n",
        "  print(\"> Not Co-primes: \", (base, n, c), d, base//d)\n",
        "  exp  = (pow(1998000, power(100, 10), phi(n)) - c)%n\n",
        "  res1 = pow(base//d, exp, n)\n",
        "  print(\"> Result: res1 =\", res1)\n",
        "  print()\n",
        "  nd = n//d\n",
        "  \n",
        "  if math.gcd(d, n//d) == 1:\n",
        "    exp = (pow(1998000, power(10, 20), phi(nd)) - (c + 1))%nd\n",
        "    res2 = pow(d, exp, nd)\n",
        "    \n",
        "    return (d*res1*res2)%n\n",
        "  else:\n",
        "    return (d*res1*(prime(d, nd, c + 1)))%n"
      ],
      "metadata": {
        "id": "91-k-8avInQL"
      },
      "execution_count": 13,
      "outputs": []
    },
    {
      "cell_type": "markdown",
      "source": [
        "The following function is the Final implementation of \"rattatak\"."
      ],
      "metadata": {
        "id": "QtM_jiQIS2W7"
      }
    },
    {
      "cell_type": "code",
      "source": [
        "def rattatak_final(Z, M):\n",
        "  PM = power(10, M)\n",
        "  d = math.gcd(Z, PM)\n",
        "  \n",
        "  if d == 1:\n",
        "    exp = Squaring(199800, power(100, 10), phi(PM))\n",
        "    \n",
        "    return Squaring(Z, exp, PM)\n",
        "  else:\n",
        "    return prime(Z, PM, 0)"
      ],
      "metadata": {
        "id": "ECz7RshdJK29"
      },
      "execution_count": 14,
      "outputs": []
    },
    {
      "cell_type": "code",
      "source": [
        "if __name__ == \"__main__\":\n",
        "  Z = 1001083624\n",
        "  M = 10\n",
        "\n",
        "  print(\"For M =\", M, \"& Z =\", Z, \":\")\n",
        "  print()\n",
        "  print(\"Fast Rattatak Function: \", fast_rattatak(Z, M))\n",
        "  print(\"---------------------------------------\")\n",
        "  print()\n",
        "  print(\"Normal Rattatak Function: \", rattatak(Z, M))\n",
        "  print(\"---------------------------------------\")\n",
        "  print()\n",
        "  print(\"Final Rattatak Function: \", rattatak_final(Z, M))\n",
        "  print(\"---------------------------------------\")\n",
        "  print(\"=====================================================\")\n",
        "\n",
        "  Z = 548\n",
        "  M = 3\n",
        "  print(\"For M =\", M, \"& Z =\", Z, \":\")\n",
        "  print()\n",
        "  print(\"Fast Rattatak Function: \", fast_rattatak(Z, M))\n",
        "  print(\"---------------------------------------\")\n",
        "  print()\n",
        "  print(\"Normal Rattatak Function: \", rattatak(Z, M))\n",
        "  print(\"---------------------------------------\")\n",
        "  print()\n",
        "  print(\"Final Rattatak Function: \", rattatak_final(Z, M))\n",
        "  print(\"---------------------------------------\")"
      ],
      "metadata": {
        "colab": {
          "base_uri": "https://localhost:8080/"
        },
        "id": "QfbebCWyJeVM",
        "outputId": "ae14431e-6299-4ca6-c83f-83eca3a7631c"
      },
      "execution_count": 15,
      "outputs": [
        {
          "output_type": "stream",
          "name": "stdout",
          "text": [
            "For M = 10 & Z = 1001083624 :\n",
            "\n",
            "Fast Rattatak Function:  1787109376\n",
            "---------------------------------------\n",
            "\n",
            "Normal Rattatak Function:  1787109376\n",
            "---------------------------------------\n",
            "\n",
            "> Not Co-primes:  (1001083624, 10000000000, 0) 8 125135453\n",
            "> Result: res1 = 1\n",
            "\n",
            "> Not Co-primes:  (8, 1250000000, 1) 8 1\n",
            "> Result: res1 = 1\n",
            "\n",
            "> Not Co-primes:  (8, 156250000, 2) 8 1\n",
            "> Result: res1 = 1\n",
            "\n",
            "> Not Co-primes:  (8, 19531250, 3) 2 4\n",
            "> Result: res1 = 8392334\n",
            "\n",
            "Final Rattatak Function:  9879186432\n",
            "---------------------------------------\n",
            "=====================================================\n",
            "For M = 3 & Z = 548 :\n",
            "\n",
            "Fast Rattatak Function:  376\n",
            "---------------------------------------\n",
            "\n",
            "Normal Rattatak Function:  376\n",
            "---------------------------------------\n",
            "\n",
            "> Not Co-primes:  (548, 1000, 0) 4 137\n",
            "> Result: res1 = 1\n",
            "\n",
            "> Not Co-primes:  (4, 250, 1) 2 2\n",
            "> Result: res1 = 62\n",
            "\n",
            "Final Rattatak Function:  568\n",
            "---------------------------------------\n"
          ]
        }
      ]
    },
    {
      "cell_type": "markdown",
      "source": [
        "### Exercise 7"
      ],
      "metadata": {
        "id": "XQxIoHo3_ZMf"
      }
    },
    {
      "cell_type": "markdown",
      "source": [
        "The following function is used to calculate the Super Exponential values."
      ],
      "metadata": {
        "id": "ZuvEc9HJ_76K"
      }
    },
    {
      "cell_type": "code",
      "source": [
        "def superExponential(a, n, tupl):\n",
        "  t, f = tupl\n",
        "  \n",
        "  if n == 0:\n",
        "    return 1\n",
        "  \n",
        "  if (t == 0 and f == 0):\n",
        "    return 0\n",
        "  \n",
        "  elif f == 0:\n",
        "    nt = t - 1\n",
        "    nf = f\n",
        "  \n",
        "  else:\n",
        "    nt = t + 1\n",
        "    nf = f - 1\n",
        "  \n",
        "  return Squaring(a, superExponential(a, n-1, (nt, nf)), (2**t)*(5**f))"
      ],
      "metadata": {
        "id": "R0UuPeq1_bUs"
      },
      "execution_count": 16,
      "outputs": []
    },
    {
      "cell_type": "code",
      "source": [
        "def Wrapper(a, n, digits):\n",
        "  return superExponential(a, n, (digits, digits))"
      ],
      "metadata": {
        "id": "yp5p1WEPANsI"
      },
      "execution_count": 17,
      "outputs": []
    },
    {
      "cell_type": "markdown",
      "source": [
        "The following function is the Main function that is used to run the given examples. It returns the last 17 digits of the given example 1707 ↑↑ 1783."
      ],
      "metadata": {
        "id": "UsIuuZXcAVA2"
      }
    },
    {
      "cell_type": "code",
      "source": [
        "if __name__ == \"__main__\":\n",
        "  print(Wrapper(1707, 1783, 17))"
      ],
      "metadata": {
        "colab": {
          "base_uri": "https://localhost:8080/"
        },
        "id": "69zec3-qAV3M",
        "outputId": "182f16e7-3402-4fcd-df8b-cfcc0c5f3584"
      },
      "execution_count": 18,
      "outputs": [
        {
          "output_type": "stream",
          "name": "stdout",
          "text": [
            "70080500540924243\n"
          ]
        }
      ]
    }
  ]
}