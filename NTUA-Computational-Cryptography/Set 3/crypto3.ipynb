{
  "nbformat": 4,
  "nbformat_minor": 0,
  "metadata": {
    "colab": {
      "name": "crypto3.ipynb",
      "provenance": [],
      "collapsed_sections": []
    },
    "kernelspec": {
      "name": "python3",
      "display_name": "Python 3"
    },
    "language_info": {
      "name": "python"
    }
  },
  "cells": [
    {
      "cell_type": "markdown",
      "source": [
        "## National Technical University of Athens\n",
        "### School of Electrical & Computer Engineering\n",
        "### Course: **Computational Cryptography**\n",
        "##### *9th Semester, 2021-2022*\n",
        "\n",
        "<br>\n",
        "\n",
        "###### Full Name: Christos Tsoufis\n",
        "###### A.M.: 031 17 176\n",
        "\n",
        "<br>\n",
        "\n",
        "#### Complimentary Code for Homework #3\n"
      ],
      "metadata": {
        "id": "zW6aQ_FEdzYs"
      }
    },
    {
      "cell_type": "markdown",
      "source": [
        "### Installation of packages & libraries"
      ],
      "metadata": {
        "id": "ZO21af1Bd7Vk"
      }
    },
    {
      "cell_type": "code",
      "execution_count": 1,
      "metadata": {
        "id": "O_1yXgBEdw3G"
      },
      "outputs": [],
      "source": [
        "import random as rnd\n",
        "import random\n",
        "import math\n",
        "from math import sqrt, gcd\n",
        "import time\n",
        "import sys\n",
        "from fractions import Fraction\n",
        "from sympy.ntheory.factor_ import totient as phi"
      ]
    },
    {
      "cell_type": "markdown",
      "source": [
        "### Exercise 3"
      ],
      "metadata": {
        "id": "GyHugrRid_4t"
      }
    },
    {
      "cell_type": "markdown",
      "source": [
        "(a)"
      ],
      "metadata": {
        "id": "xdowX37Jh9-e"
      }
    },
    {
      "cell_type": "markdown",
      "source": [
        "The following function is used to calculate the repeated squaring process."
      ],
      "metadata": {
        "id": "ke06N7x3h4ns"
      }
    },
    {
      "cell_type": "code",
      "source": [
        "def Squaring(a, n, m):\n",
        "  y = 1\n",
        "  x = a % m\n",
        "  while (n > 0):\n",
        "    if (n % 2 != 0):\n",
        "      y = (y * x) % m\n",
        "    x = (x**2) % m\n",
        "    n = n // 2\n",
        "  \n",
        "  return y"
      ],
      "metadata": {
        "id": "-r6l17-lehc9"
      },
      "execution_count": 2,
      "outputs": []
    },
    {
      "cell_type": "markdown",
      "source": [
        "The following function is used to calculate the period of the pseudo-random bit BBS."
      ],
      "metadata": {
        "id": "LBF11B5ojMeP"
      }
    },
    {
      "cell_type": "code",
      "source": [
        "def bbs_period():\n",
        "  rep = s = 15\n",
        "  out = 0\n",
        "  p = 11\n",
        "  q = 17\n",
        "  n = p*q\n",
        "  \n",
        "  for i in range(100):\n",
        "    if i == 5:\n",
        "      rep = s\n",
        "      out = 0\n",
        "    s = Squaring(s, 2, n)\n",
        "    out = out + 1\n",
        "    if s == rep:\n",
        "      break\n",
        "  return out"
      ],
      "metadata": {
        "id": "1fj9dkb9eDmO"
      },
      "execution_count": 3,
      "outputs": []
    },
    {
      "cell_type": "code",
      "source": [
        "print(\"For p = 11, q = 17 the BBS period is:\", bbs_period())"
      ],
      "metadata": {
        "colab": {
          "base_uri": "https://localhost:8080/"
        },
        "id": "ezOxx-dWfJRE",
        "outputId": "627640b0-fcd7-4ef4-958e-df63429acdd8"
      },
      "execution_count": 4,
      "outputs": [
        {
          "output_type": "stream",
          "name": "stdout",
          "text": [
            "For p = 11, q = 17 the BBS period is: 4\n"
          ]
        }
      ]
    },
    {
      "cell_type": "markdown",
      "source": [
        "### Exercise 5"
      ],
      "metadata": {
        "id": "8rvT_HWonvQz"
      }
    },
    {
      "cell_type": "markdown",
      "source": [
        "(a)"
      ],
      "metadata": {
        "id": "ebK2SuHBnz4V"
      }
    },
    {
      "cell_type": "markdown",
      "source": [
        "The public keys are:"
      ],
      "metadata": {
        "id": "7NLtCWb5oCFJ"
      }
    },
    {
      "cell_type": "code",
      "source": [
        "n = int(\"0xb844986fc061a2c0baf528a960e208832625f725fa09bfe1ac4c15bccad6031d09f8f37bf00520bb59480070e59441ed34b7e3d118db67a035ac4b46a055a4963df4af0baa4dfab3f98566f2c09f7c83ffec458b63931ce311241c98614659172cfe9f21ecc7d7241aea1ae1e88f796568f49a645ffce12c87629e8783462e5dbeb52a85c95\", 16)\n",
        "e = int(\"0x369d89b820f2450462f21b02d91bcec9de528805bb22123d843fcd776ad57025980f1c3359d45d65c9a9e363a0a51eaf8873b3dc2ffab45787c5e86bacbf2a6bbca5106828eec95cb2ea534fa2e64d672a2c69e21589f84daa54a164db28ade473e8009972279cd89c5afaf1b312914256dac666e7f824db23f33a9867616898686a1fe63c5\", 16)"
      ],
      "metadata": {
        "id": "oHCUmMnRoCbe"
      },
      "execution_count": 5,
      "outputs": []
    },
    {
      "cell_type": "code",
      "source": [
        "def approx_calcul(coef):\n",
        "  if len(coef) == 1:\n",
        "    \n",
        "    return coef[0]\n",
        "  \n",
        "  head, *tail = coef\n",
        "  \n",
        "  return head + Fraction(1, approx_calcul(tail))"
      ],
      "metadata": {
        "id": "u7kfKbJjq5QJ"
      },
      "execution_count": 6,
      "outputs": []
    },
    {
      "cell_type": "code",
      "source": [
        "def find_key(n, e):\n",
        "  m = random.randrange(n)\n",
        "  c = pow(m, e, n)\n",
        "  den = n\n",
        "  coef = [e // n]\n",
        "  nom = e % n\n",
        "  approx = approx_calcul(coef).denominator\n",
        "  \n",
        "  while pow(c, approx, n) != m:\n",
        "    if nom == 0:\n",
        "      \n",
        "      return -1\n",
        "    \n",
        "    coef.append(den // nom)\n",
        "    old_den = den\n",
        "    den = nom\n",
        "    nom = old_den % nom\n",
        "    approx = approx_calcul(coef).denominator\n",
        "  \n",
        "  return approx"
      ],
      "metadata": {
        "id": "JhJGwZerrAmY"
      },
      "execution_count": 7,
      "outputs": []
    },
    {
      "cell_type": "code",
      "source": [
        "print(\"The private key d is:\", find_key(n, e))"
      ],
      "metadata": {
        "colab": {
          "base_uri": "https://localhost:8080/"
        },
        "id": "zYh2iJBhrqpC",
        "outputId": "0635fbe2-8a80-47df-cc35-a9ec6640e15c"
      },
      "execution_count": 8,
      "outputs": [
        {
          "output_type": "stream",
          "name": "stdout",
          "text": [
            "The private key d is: 67679758331409661713816401785180874988068874274990084068659989503974301456131181\n"
          ]
        }
      ]
    },
    {
      "cell_type": "markdown",
      "source": [
        "(b)"
      ],
      "metadata": {
        "id": "Mt6W_M60tsy5"
      }
    },
    {
      "cell_type": "code",
      "source": [
        "def maxpowof2(n):\n",
        "  while n % 2 == 0:\n",
        "    n = n // 2\n",
        "  \n",
        "  return n"
      ],
      "metadata": {
        "id": "5Eff58ybttrX"
      },
      "execution_count": 9,
      "outputs": []
    },
    {
      "cell_type": "code",
      "source": [
        "def find_root(e, n):\n",
        "  root = 0\n",
        "  r = random.randrange(2, n - 1)\n",
        "  d  = find_key(n, e)\n",
        "  ed = maxpowof2(e * d - 1)\n",
        "  while True:\n",
        "    b = pow(r, ed, n)\n",
        "    if gcd(r, n) != 1:\n",
        "      \n",
        "      return (gcd(r, n), n // r)\n",
        "    \n",
        "    if b == 1:\n",
        "      continue\n",
        "    \n",
        "    while b != 1:\n",
        "      root = b\n",
        "      b = pow(b, 2, n)\n",
        "    \n",
        "    if root == n - 1:\n",
        "      continue\n",
        "    \n",
        "    return (gcd(root + 1, n), gcd(root - 1, n))"
      ],
      "metadata": {
        "id": "F6HrtO6iuCS2"
      },
      "execution_count": 10,
      "outputs": []
    },
    {
      "cell_type": "code",
      "source": [
        "(p, q) = find_root(e, n)\n",
        "print(\"The roots are:\")\n",
        "print(\"p =\", p, \"\\nq =\", q)"
      ],
      "metadata": {
        "colab": {
          "base_uri": "https://localhost:8080/"
        },
        "id": "QVei3e18uu2a",
        "outputId": "5d31b657-6706-49f3-b265-14309c7945fd"
      },
      "execution_count": 11,
      "outputs": [
        {
          "output_type": "stream",
          "name": "stdout",
          "text": [
            "The roots are:\n",
            "p = 44122563630298287817978002391714490855804421153919580976477528844385993972460324300304416010309301678341239040770995815663878246381895515055985017921155092963657 \n",
            "q = 51592250474131594356674962698740321989109329186467628483921885020139129303634435837638245224535372149234215473579537296214564167565140083838806463354489273216237\n"
          ]
        }
      ]
    },
    {
      "cell_type": "code",
      "source": [
        "print(\"Verification:\")\n",
        "print(p*q == n)"
      ],
      "metadata": {
        "colab": {
          "base_uri": "https://localhost:8080/"
        },
        "id": "Okfs7V1FvqbN",
        "outputId": "b4f22265-86d4-405c-f695-a7dd9b812f4f"
      },
      "execution_count": 12,
      "outputs": [
        {
          "output_type": "stream",
          "name": "stdout",
          "text": [
            "Verification:\n",
            "True\n"
          ]
        }
      ]
    }
  ]
}