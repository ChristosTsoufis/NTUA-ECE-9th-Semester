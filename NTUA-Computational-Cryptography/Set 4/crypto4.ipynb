{
  "cells": [
    {
      "cell_type": "markdown",
      "metadata": {
        "id": "LU1WQLN5crC7"
      },
      "source": [
        "## National Technical University of Athens\n",
        "### School of Electrical & Computer Engineering\n",
        "### Course: **Computational Cryptography**\n",
        "##### *9th Semester, 2021-2022*\n",
        "\n",
        "<br>\n",
        "\n",
        "###### Full Name: Christos Tsoufis\n",
        "###### A.M.: 031 17 176\n",
        "\n",
        "<br>\n",
        "\n",
        "#### Complimentary Code for Homework #4\n"
      ]
    },
    {
      "cell_type": "markdown",
      "metadata": {
        "id": "YsnEQPXHuIUZ"
      },
      "source": [
        "### Installation of packages & libraries"
      ]
    },
    {
      "cell_type": "code",
      "execution_count": 1,
      "metadata": {
        "colab": {
          "base_uri": "https://localhost:8080/"
        },
        "id": "xXOQxbcduVLZ",
        "outputId": "73411580-1aef-4e49-d305-8042bb5c494d"
      },
      "outputs": [
        {
          "output_type": "stream",
          "name": "stdout",
          "text": [
            "Reading package lists... Done\n",
            "Building dependency tree       \n",
            "Reading state information... Done\n",
            "libgmp-dev is already the newest version (2:6.1.2+dfsg-2).\n",
            "libmpc-dev is already the newest version (1.1.0-1).\n",
            "libmpfr-dev is already the newest version (4.0.1-1).\n",
            "0 upgraded, 0 newly installed, 0 to remove and 39 not upgraded.\n",
            "Requirement already satisfied: gmpy2 in /usr/local/lib/python3.7/dist-packages (2.1.2)\n",
            "Requirement already satisfied: gensafeprime in /usr/local/lib/python3.7/dist-packages (1.6)\n",
            "Requirement already satisfied: ecdsa[gmpy2] in /usr/local/lib/python3.7/dist-packages (0.17.0)\n",
            "Requirement already satisfied: six>=1.9.0 in /usr/local/lib/python3.7/dist-packages (from ecdsa[gmpy2]) (1.15.0)\n",
            "Requirement already satisfied: gmpy2 in /usr/local/lib/python3.7/dist-packages (from ecdsa[gmpy2]) (2.1.2)\n",
            "Requirement already satisfied: pycryptodome==3.9.7 in /usr/local/lib/python3.7/dist-packages (3.9.7)\n",
            "Requirement already satisfied: base58 in /usr/local/lib/python3.7/dist-packages (2.1.1)\n",
            "Requirement already satisfied: ecdsa in /usr/local/lib/python3.7/dist-packages (0.17.0)\n",
            "Requirement already satisfied: six>=1.9.0 in /usr/local/lib/python3.7/dist-packages (from ecdsa) (1.15.0)\n",
            "Requirement already satisfied: utilitybelt in /usr/local/lib/python3.7/dist-packages (0.2.6)\n",
            "Requirement already satisfied: bitcoinaddress in /usr/local/lib/python3.7/dist-packages (0.1.5)\n",
            "Requirement already satisfied: ecdsa in /usr/local/lib/python3.7/dist-packages (from bitcoinaddress) (0.17.0)\n",
            "Requirement already satisfied: base58 in /usr/local/lib/python3.7/dist-packages (from bitcoinaddress) (2.1.1)\n",
            "Requirement already satisfied: six>=1.9.0 in /usr/local/lib/python3.7/dist-packages (from ecdsa->bitcoinaddress) (1.15.0)\n",
            "Requirement already satisfied: bit in /usr/local/lib/python3.7/dist-packages (0.8.0)\n",
            "Requirement already satisfied: coincurve>=4.3.0 in /usr/local/lib/python3.7/dist-packages (from bit) (17.0.0)\n",
            "Requirement already satisfied: requests in /usr/local/lib/python3.7/dist-packages (from bit) (2.23.0)\n",
            "Requirement already satisfied: asn1crypto in /usr/local/lib/python3.7/dist-packages (from coincurve>=4.3.0->bit) (1.5.1)\n",
            "Requirement already satisfied: cffi>=1.3.0 in /usr/local/lib/python3.7/dist-packages (from coincurve>=4.3.0->bit) (1.15.0)\n",
            "Requirement already satisfied: pycparser in /usr/local/lib/python3.7/dist-packages (from cffi>=1.3.0->coincurve>=4.3.0->bit) (2.21)\n",
            "Requirement already satisfied: urllib3!=1.25.0,!=1.25.1,<1.26,>=1.21.1 in /usr/local/lib/python3.7/dist-packages (from requests->bit) (1.24.3)\n",
            "Requirement already satisfied: certifi>=2017.4.17 in /usr/local/lib/python3.7/dist-packages (from requests->bit) (2021.10.8)\n",
            "Requirement already satisfied: chardet<4,>=3.0.2 in /usr/local/lib/python3.7/dist-packages (from requests->bit) (3.0.4)\n",
            "Requirement already satisfied: idna<3,>=2.5 in /usr/local/lib/python3.7/dist-packages (from requests->bit) (2.10)\n",
            "Requirement already satisfied: pyopenssl in /usr/local/lib/python3.7/dist-packages (22.0.0)\n",
            "Requirement already satisfied: cryptography>=35.0 in /usr/local/lib/python3.7/dist-packages (from pyopenssl) (36.0.2)\n",
            "Requirement already satisfied: cffi>=1.12 in /usr/local/lib/python3.7/dist-packages (from cryptography>=35.0->pyopenssl) (1.15.0)\n",
            "Requirement already satisfied: pycparser in /usr/local/lib/python3.7/dist-packages (from cffi>=1.12->cryptography>=35.0->pyopenssl) (2.21)\n",
            "Requirement already satisfied: cryptography in /usr/local/lib/python3.7/dist-packages (36.0.2)\n",
            "Requirement already satisfied: cffi>=1.12 in /usr/local/lib/python3.7/dist-packages (from cryptography) (1.15.0)\n",
            "Requirement already satisfied: pycparser in /usr/local/lib/python3.7/dist-packages (from cffi>=1.12->cryptography) (2.21)\n"
          ]
        }
      ],
      "source": [
        "!apt-get install libgmp-dev libmpfr-dev libmpc-dev\n",
        "!pip install gmpy2\n",
        "!pip install gensafeprime\n",
        "!pip install ecdsa[gmpy2]\n",
        "!pip install \"pycryptodome==3.9.7\"\n",
        "!pip install base58\n",
        "!pip install ecdsa\n",
        "!pip install utilitybelt\n",
        "!pip install bitcoinaddress\n",
        "!pip install bit\n",
        "!pip install pyopenssl\n",
        "!pip install cryptography"
      ]
    },
    {
      "cell_type": "code",
      "execution_count": 2,
      "metadata": {
        "id": "a0S2jgcBcQbo"
      },
      "outputs": [],
      "source": [
        "import random as rnd\n",
        "import random\n",
        "import math\n",
        "import time\n",
        "import sys\n",
        "\n",
        "import hashlib \n",
        "import gmpy2\n",
        "from Crypto.Hash import RIPEMD160\n",
        "from ecdsa import SigningKey, SECP256k1\n",
        "\n",
        "import base58\n",
        "import ecdsa \n",
        "import codecs\n",
        "\n",
        "from ecdsa.keys import SigningKey\n",
        "from utilitybelt import dev_random_entropy\n",
        "from binascii import hexlify, unhexlify\n",
        "\n",
        "import secrets\n",
        "import hashlib as h\n",
        "\n",
        "from bitcoinaddress import Wallet\n",
        "from bit import PrivateKeyTestnet"
      ]
    },
    {
      "cell_type": "markdown",
      "metadata": {
        "id": "z2PPO93guK2m"
      },
      "source": [
        "### Exercise 10"
      ]
    },
    {
      "cell_type": "markdown",
      "metadata": {
        "id": "62jWUyynxLjU"
      },
      "source": [
        "(a)"
      ]
    },
    {
      "cell_type": "markdown",
      "metadata": {
        "id": "3emrcmwPB4qd"
      },
      "source": [
        "## **1st Implementation**"
      ]
    },
    {
      "cell_type": "code",
      "execution_count": 3,
      "metadata": {
        "id": "xMpxX14gu52N"
      },
      "outputs": [],
      "source": [
        "def leading_zeros(num):\n",
        "  n = 0\n",
        "  for i in num:\n",
        "    if i == '0': \n",
        "      n = n + 1\n",
        "    else: \n",
        "      break\n",
        "\n",
        "  return int(n/2)"
      ]
    },
    {
      "cell_type": "markdown",
      "metadata": {
        "id": "YoZXXMV_uOP5"
      },
      "source": [
        "The following function is used to generate keys."
      ]
    },
    {
      "cell_type": "code",
      "execution_count": 4,
      "metadata": {
        "id": "5uv8Sa7wuMTw"
      },
      "outputs": [],
      "source": [
        "def keyGen():\n",
        "  private_key = SigningKey.generate(curve=SECP256k1)\n",
        "  public_key = private_key.verifying_key\n",
        "  \n",
        "  return (private_key.to_string(), b'\\04'+public_key.to_string())"
      ]
    },
    {
      "cell_type": "markdown",
      "metadata": {
        "id": "S2Pany38vB7i"
      },
      "source": [
        "The following function is used to create the base58 converter."
      ]
    },
    {
      "cell_type": "code",
      "execution_count": 5,
      "metadata": {
        "id": "uAzibh5TvDvC"
      },
      "outputs": [],
      "source": [
        "def base58convert(address):\n",
        "  code_string = \"123456789ABCDEFGHJKLMNPQRSTUVWXYZabcdefghijkmnopqrstuvwxyz\"\n",
        "  x = int(address, 16)\n",
        "  output = \"\"\n",
        "\n",
        "  while x > 0:\n",
        "    (x, r) = gmpy2.f_divmod(x, 58)\n",
        "    output = output + code_string[r]\n",
        "\n",
        "  n = leading_zeros(address)\n",
        "  for i in range(n):\n",
        "    output = output + code_string[0]\n",
        "\n",
        "  return output[::-1]"
      ]
    },
    {
      "cell_type": "markdown",
      "metadata": {
        "id": "1Y-DjtrgvROG"
      },
      "source": [
        "The following function is used to check if Base58.\n",
        "\n",
        "payload: PubKey hash in hex string form?"
      ]
    },
    {
      "cell_type": "code",
      "execution_count": 6,
      "metadata": {
        "id": "NYkGcU2qvRsd"
      },
      "outputs": [],
      "source": [
        "def Base58Check(payload, version='0x00'):\n",
        "  address = version[2:]+payload\n",
        "  b_address = bytes.fromhex(address)\n",
        "  h = hashlib.sha256(b_address)\n",
        "  h = hashlib.sha256(h.digest())\n",
        "\n",
        "  # take the first 4 bytes\n",
        "  checksum = str(h.hexdigest()[:8])\n",
        "\n",
        "  # 25-byte binary bitcoin address\n",
        "  address = address+checksum\n",
        "  address = base58convert(address)\n",
        "\n",
        "  return address"
      ]
    },
    {
      "cell_type": "markdown",
      "metadata": {
        "id": "9DTfe1WQvZc9"
      },
      "source": [
        "The following function is used to calculate the Hash160.\n",
        "\n",
        "public_key: in bytes form"
      ]
    },
    {
      "cell_type": "code",
      "execution_count": 7,
      "metadata": {
        "id": "HAnLjHk8vZxF"
      },
      "outputs": [],
      "source": [
        "def getHash160(public_key):\n",
        "  public_key_hash = hashlib.sha256(public_key)\n",
        "  public_key_hash = RIPEMD160.new(public_key_hash.digest())\n",
        "\n",
        "  return public_key_hash"
      ]
    },
    {
      "cell_type": "markdown",
      "metadata": {
        "id": "SPNs0f5Fvryr"
      },
      "source": [
        "The following function is used to get the address.\n",
        "\n",
        "* public_key: the decimal number as a string\n",
        "* version: choose a prefix and create a different address https://en.bitcoin.it/wiki/List_of_address_prefixes"
      ]
    },
    {
      "cell_type": "code",
      "execution_count": 8,
      "metadata": {
        "id": "1N58Y4vivtvx"
      },
      "outputs": [],
      "source": [
        "def getAddress(public_key, version='0x00'):\n",
        "  if isinstance(public_key, bytes):\n",
        "    public_key = public_key\n",
        "  else:\n",
        "    public_key = public_key.encode()\n",
        "  \n",
        "  public_key_hash = getHash160(public_key)\n",
        "  address = Base58Check(public_key_hash.hexdigest(), version)\n",
        "\n",
        "  return address"
      ]
    },
    {
      "cell_type": "markdown",
      "metadata": {
        "id": "XBCYiB52wTRx"
      },
      "source": [
        "Key Generation"
      ]
    },
    {
      "cell_type": "code",
      "execution_count": 9,
      "metadata": {
        "colab": {
          "base_uri": "https://localhost:8080/"
        },
        "id": "HPFDfryNwVlu",
        "outputId": "69a0ff1d-c27f-4f2c-c4fe-cfe2d0500dd2"
      },
      "outputs": [
        {
          "output_type": "stream",
          "name": "stdout",
          "text": [
            "Private Key:\n",
            " b'\\xf4\\x8b\\xe1\\xb1R\\xed\\xff\\x19\\xe5:\\x02\\\\\\x013E\\xe9\\xa1\\xe6\\x9a\\x0eD\\xf7\\x82\\x86\\xa1\\x14\\x95\\xf7\\xb6\\x04_\\xeb'\n",
            "\n",
            "Public Key:\n",
            " b'\\x04~%\\xc4S)\\x96\\xde\\xcc\\xc0\\xae8\\n\\xab\\xa5\\x85\\x0b\\x9b\\xac\\x99\\xf31k\\xf5\\x8a\\xd3\\x0c\\xbd{\\xa9\\x9f;h\\x7f\\xae5\\xbf\\xfc$H\\xa3\\xa9\\xcd\\x1c>\\xba\\xdf>.NfH/\\x1d\\xdd\\xa78]\\x0bX\\xa0\\xf5\\xb3\\xe4\\x1c'\n",
            "\n"
          ]
        }
      ],
      "source": [
        "(private_key, public_key) = keyGen()\n",
        "\n",
        "print(\"Private Key:\\n\", private_key)\n",
        "print()\n",
        "print(\"Public Key:\\n\", public_key)\n",
        "print()"
      ]
    },
    {
      "cell_type": "code",
      "execution_count": 10,
      "metadata": {
        "id": "S_QImhGBwdco"
      },
      "outputs": [],
      "source": [
        "# copy-paste the private key that was printed\n",
        "private_key =   b'\\xf4\\x8b\\xe1\\xb1R\\xed\\xff\\x19\\xe5:\\x02\\\\\\x013E\\xe9\\xa1\\xe6\\x9a\\x0eD\\xf7\\x82\\x86\\xa1\\x14\\x95\\xf7\\xb6\\x04_\\xeb'\n",
        "pk = SigningKey.from_string(private_key, curve=SECP256k1)\n",
        "public_key = SigningKey.from_string(private_key, curve=SECP256k1).verifying_key.to_string()"
      ]
    },
    {
      "cell_type": "code",
      "execution_count": 11,
      "metadata": {
        "colab": {
          "base_uri": "https://localhost:8080/"
        },
        "id": "pg6L5mCjwp0q",
        "outputId": "4387bbe5-c5dc-47c5-c5f3-257ca22e243b"
      },
      "outputs": [
        {
          "output_type": "stream",
          "name": "stdout",
          "text": [
            "Private key in hex:\n",
            " f48be1b152edff19e53a025c013345e9a1e69a0e44f78286a11495f7b6045feb\n",
            "\n",
            "Public key in hex:\n",
            " 7e25c4532996deccc0ae380aaba5850b9bac99f3316bf58ad30cbd7ba99f3b687fae35bffc2448a3a9cd1c3ebadf3e2e4e66482f1ddda7385d0b58a0f5b3e41c\n",
            "\n"
          ]
        }
      ],
      "source": [
        "print(\"Private key in hex:\\n\", private_key.hex())\n",
        "print()\n",
        "print(\"Public key in hex:\\n\", public_key.hex())\n",
        "print()"
      ]
    },
    {
      "cell_type": "code",
      "execution_count": 12,
      "metadata": {
        "colab": {
          "base_uri": "https://localhost:8080/"
        },
        "id": "nYe34gBkUnvt",
        "outputId": "c382d8f8-1777-48d9-d6ab-a46a74283297"
      },
      "outputs": [
        {
          "output_type": "stream",
          "name": "stdout",
          "text": [
            "testnet Private key:\n",
            " 93ScmnwypoRR1YXkwkSDaQrkCYA5NGNTYnTCCAY7Q9e9uMnjRcR\n",
            "\n"
          ]
        }
      ],
      "source": [
        "testnet_private_key = Base58Check(private_key.hex(), '0xef')\n",
        "print(\"testnet Private key:\\n\", testnet_private_key)\n",
        "print()"
      ]
    },
    {
      "cell_type": "markdown",
      "metadata": {
        "id": "OnEM3vFAwz2g"
      },
      "source": [
        "Address #1"
      ]
    },
    {
      "cell_type": "code",
      "execution_count": 13,
      "metadata": {
        "colab": {
          "base_uri": "https://localhost:8080/"
        },
        "id": "qe78uXEQw2-z",
        "outputId": "b39a94a0-d3f7-4532-df7c-d5824214f12a"
      },
      "outputs": [
        {
          "output_type": "stream",
          "name": "stdout",
          "text": [
            "mjBJH4h9xcuSayENoYCvVjcjSBFMJSiGpM\n"
          ]
        }
      ],
      "source": [
        "address = getAddress(public_key, '0x6f')\n",
        "print(address) "
      ]
    },
    {
      "cell_type": "markdown",
      "metadata": {
        "id": "6ir38rJpw4C_"
      },
      "source": [
        "Check code - given address"
      ]
    },
    {
      "cell_type": "code",
      "execution_count": 14,
      "metadata": {
        "colab": {
          "base_uri": "https://localhost:8080/"
        },
        "id": "NdC6c8Fyw5ji",
        "outputId": "d0be39f0-3a22-4d77-886f-d83949d10165"
      },
      "outputs": [
        {
          "output_type": "stream",
          "name": "stdout",
          "text": [
            "mkaWYS2DeChGv3u5tZMR59WSQkJEk61E3k\n"
          ]
        }
      ],
      "source": [
        "AM = '03112345'\n",
        "print(getAddress(AM, '0x6F'))"
      ]
    },
    {
      "cell_type": "markdown",
      "metadata": {
        "id": "n4HDIfhFxD6B"
      },
      "source": [
        "Address #2"
      ]
    },
    {
      "cell_type": "code",
      "execution_count": 15,
      "metadata": {
        "colab": {
          "base_uri": "https://localhost:8080/"
        },
        "id": "I4HAXVBexFPB",
        "outputId": "cd5e8b98-375f-4cea-8c52-5ff2f316359b"
      },
      "outputs": [
        {
          "output_type": "stream",
          "name": "stdout",
          "text": [
            "mtUSi5325xxiSH2am1iXtbZs9CpPsA2o3n\n"
          ]
        }
      ],
      "source": [
        "AM = '03117176'\n",
        "print(getAddress(AM, '0x6F'))"
      ]
    },
    {
      "cell_type": "markdown",
      "metadata": {
        "id": "H38qzoSGCFVL"
      },
      "source": [
        "## **2nd Implementation**"
      ]
    },
    {
      "cell_type": "markdown",
      "metadata": {
        "id": "3q8MCcj6MoKd"
      },
      "source": [
        "The following cell is used to calculate the ripe hash."
      ]
    },
    {
      "cell_type": "code",
      "execution_count": 16,
      "metadata": {
        "id": "I4HKnCwKCYmH"
      },
      "outputs": [],
      "source": [
        "def ripe_hash(key):\n",
        "    ret = hashlib.new('ripemd160')\n",
        "    ret.update(hashlib.sha256(key).digest())\n",
        "    \n",
        "    return ret.digest()"
      ]
    },
    {
      "cell_type": "markdown",
      "metadata": {
        "id": "zrhHlw93Mq4v"
      },
      "source": [
        "The following cell is used to calculate the double hash."
      ]
    },
    {
      "cell_type": "code",
      "execution_count": 17,
      "metadata": {
        "id": "2Z7cJTbkCaLw"
      },
      "outputs": [],
      "source": [
        "def double_hash(key):\n",
        "    key=unhexlify(key)\n",
        "    \n",
        "    return hashlib.sha256(hashlib.sha256(key).digest()).digest()"
      ]
    },
    {
      "cell_type": "markdown",
      "metadata": {
        "id": "V4LP2tu7MuI6"
      },
      "source": [
        "The following cell is used to calculate a random secret exponent"
      ]
    },
    {
      "cell_type": "code",
      "execution_count": 18,
      "metadata": {
        "id": "mfkNT8X4CHuy"
      },
      "outputs": [],
      "source": [
        "def random_secret_exponent(curve_order):\n",
        "    while True:\n",
        "        random_hex = hexlify(dev_random_entropy(32))\n",
        "        random_int = int(random_hex, 16)\n",
        "        if random_int >= 1 and random_int < curve_order:\n",
        "            \n",
        "            return random_int"
      ]
    },
    {
      "cell_type": "markdown",
      "metadata": {
        "id": "fzS64fdXMxry"
      },
      "source": [
        "The following cell is used to generate the address."
      ]
    },
    {
      "cell_type": "code",
      "execution_count": 19,
      "metadata": {
        "id": "CtFvfH7fCcKr"
      },
      "outputs": [],
      "source": [
        "def generate_address(public_key,isstr):\n",
        "    public_key_bytes = codecs.decode(public_key, 'hex')\n",
        "    \n",
        "    if not isstr:\n",
        "        public_key_bytes=hexlify(public_key_bytes)\n",
        "    \n",
        "    sha256_bpk = hashlib.sha256(public_key_bytes)\n",
        "    sha256_bpk_digest = sha256_bpk.digest()\n",
        "    \n",
        "    ripemd160_bpk = hashlib.new('ripemd160')\n",
        "    ripemd160_bpk.update(sha256_bpk_digest)\n",
        "    ripemd160_bpk_digest = ripemd160_bpk.digest()\n",
        "    ripemd160_bpk_hex = codecs.encode(ripemd160_bpk_digest, 'hex')\n",
        "\n",
        "    public_key_and_version_hex = b'6f' + ripemd160_bpk_hex \n",
        "    \n",
        "    checksum = hexlify(double_hash(public_key_and_version_hex)[:4])\n",
        "\n",
        "    return base58.b58encode(unhexlify(public_key_and_version_hex + checksum))"
      ]
    },
    {
      "cell_type": "markdown",
      "metadata": {
        "id": "9jevefDVMhls"
      },
      "source": [
        "The following cell is used to generate the private key."
      ]
    },
    {
      "cell_type": "code",
      "execution_count": 20,
      "metadata": {
        "id": "vkMA5bYSCW5S"
      },
      "outputs": [],
      "source": [
        "def generate_private_key():\n",
        "    curve = ecdsa.curves.SECP256k1\n",
        "    se = random_secret_exponent(curve.order)\n",
        "    from_secret_exponent = ecdsa.keys.SigningKey.from_secret_exponent\n",
        "    \n",
        "    return hexlify(from_secret_exponent(se, curve, hashlib.sha256).to_string())"
      ]
    },
    {
      "cell_type": "markdown",
      "metadata": {
        "id": "xxPPbCJfM0uu"
      },
      "source": [
        "The following cell is used to generate the public key."
      ]
    },
    {
      "cell_type": "code",
      "execution_count": 21,
      "metadata": {
        "id": "YxieNmU0CeDa"
      },
      "outputs": [],
      "source": [
        "def generate_public_key(private_key_hex):\n",
        "    \n",
        "    secret = unhexlify(private_key_hex)\n",
        "    \n",
        "    order = ecdsa.SigningKey.from_string(secret, curve=ecdsa.SECP256k1).curve.generator.order()\n",
        "    \n",
        "    p = ecdsa.SigningKey.from_string(secret, curve=ecdsa.SECP256k1).verifying_key.pubkey.point\n",
        "    \n",
        "    x_str = ecdsa.util.number_to_string(p.x(), order)\n",
        "    y_str = ecdsa.util.number_to_string(p.y(), order)\n",
        "    \n",
        "    if int(hexlify(y_str),16)%2==0:\n",
        "        st=\"02\"\n",
        "    else:\n",
        "        st=\"03\"\n",
        "        \n",
        "    return st+str(hexlify(x_str))[2:-1]"
      ]
    },
    {
      "cell_type": "code",
      "execution_count": 22,
      "metadata": {
        "id": "MyXkfyS8Cfs5"
      },
      "outputs": [],
      "source": [
        "private_key_hex = generate_private_key()"
      ]
    },
    {
      "cell_type": "code",
      "execution_count": 23,
      "metadata": {
        "colab": {
          "base_uri": "https://localhost:8080/"
        },
        "id": "yikhpAYnChOz",
        "outputId": "53319a08-e483-49f9-87fd-26092924b833"
      },
      "outputs": [
        {
          "output_type": "stream",
          "name": "stdout",
          "text": [
            "Private key:\n",
            " b'7eaec39311c688b9570a749d6fc045c92a8861245c823bf9063b407ce2d6d286'\n"
          ]
        }
      ],
      "source": [
        "print(\"Private key:\\n\", private_key_hex)"
      ]
    },
    {
      "cell_type": "code",
      "execution_count": 24,
      "metadata": {
        "colab": {
          "base_uri": "https://localhost:8080/"
        },
        "id": "Dm_cduD5Ckbr",
        "outputId": "acdd7ccb-712a-4b4e-b7ba-e4418da5976d"
      },
      "outputs": [
        {
          "output_type": "stream",
          "name": "stdout",
          "text": [
            "Private key in base58:\n",
            " b'9XWw4RecRwv352JiSpMLi8WafHnfBZvSpL6fQAio1fkq'\n"
          ]
        }
      ],
      "source": [
        "print(\"Private key in base58:\\n\", base58.b58encode(unhexlify(private_key_hex)))"
      ]
    },
    {
      "cell_type": "code",
      "execution_count": 25,
      "metadata": {
        "id": "c1mcga87CsIj"
      },
      "outputs": [],
      "source": [
        "public_adr_hex_1 = generate_address(generate_public_key(private_key_hex),True)"
      ]
    },
    {
      "cell_type": "code",
      "execution_count": 26,
      "metadata": {
        "colab": {
          "base_uri": "https://localhost:8080/"
        },
        "id": "mV-ULySJCvr-",
        "outputId": "d6638208-0deb-46a3-a24f-bc6d05a32eff"
      },
      "outputs": [
        {
          "output_type": "stream",
          "name": "stdout",
          "text": [
            "Public key:\n",
            " b'n3Qi1TTa4wZGWWVHnn4ugmxUpVjeLMXv5A'\n"
          ]
        }
      ],
      "source": [
        "print(\"Public key:\\n\",public_adr_hex_1)"
      ]
    },
    {
      "cell_type": "code",
      "execution_count": 27,
      "metadata": {
        "id": "U9uxsKiDCyda"
      },
      "outputs": [],
      "source": [
        "public_adr_hex_2 = generate_address('03117176',False)"
      ]
    },
    {
      "cell_type": "code",
      "execution_count": 28,
      "metadata": {
        "colab": {
          "base_uri": "https://localhost:8080/"
        },
        "id": "h1KCFDDmExnz",
        "outputId": "64ee2f20-58d9-464f-9a7c-dc1f93895afa"
      },
      "outputs": [
        {
          "output_type": "stream",
          "name": "stdout",
          "text": [
            "Public Address:\n",
            " b'mtUSi5325xxiSH2am1iXtbZs9CpPsA2o3n'\n"
          ]
        }
      ],
      "source": [
        "print(\"Public Address:\\n\",public_adr_hex_2)"
      ]
    },
    {
      "cell_type": "markdown",
      "metadata": {
        "id": "at6YzElSxM__"
      },
      "source": [
        "(b)\n",
        "\n",
        "*based on 1st Implementation*"
      ]
    },
    {
      "cell_type": "code",
      "execution_count": 29,
      "metadata": {
        "id": "0uC1wapux1ls"
      },
      "outputs": [],
      "source": [
        "S = 2**12\n",
        "N = 2**S"
      ]
    },
    {
      "cell_type": "markdown",
      "metadata": {
        "id": "gxk0mJxGx4FN"
      },
      "source": [
        "The following function is used to count zeros at the begining."
      ]
    },
    {
      "cell_type": "code",
      "execution_count": 30,
      "metadata": {
        "id": "WMGdYyt2x4Yx"
      },
      "outputs": [],
      "source": [
        "def is_valid(transaction_id):\n",
        "  cnt = 0\n",
        "  for i in transaction_id:\n",
        "    if i == '0': \n",
        "      cnt = cnt + 1\n",
        "    else: \n",
        "      break\n",
        "\n",
        "  return cnt >= 8"
      ]
    },
    {
      "cell_type": "markdown",
      "metadata": {
        "id": "Sm0nbW18xoxR"
      },
      "source": [
        "The following functions is used to calculate the nonce.\n",
        "\n",
        "* produce a random nonce \n",
        "* number of bytes depends on N"
      ]
    },
    {
      "cell_type": "code",
      "execution_count": 31,
      "metadata": {
        "id": "9ObiAorZxmQ7"
      },
      "outputs": [],
      "source": [
        "def get_nonce():\n",
        "  nonce = random.randint(0, N) \n",
        "  mylen = max(len(bin(nonce))//8+1, S//8)\n",
        "  \n",
        "  return nonce.to_bytes(mylen, 'big')"
      ]
    },
    {
      "cell_type": "markdown",
      "metadata": {
        "id": "qpKjFihyyOkJ"
      },
      "source": [
        "The following function is used for mining.\n",
        "\n",
        "* transaction in hex string form without \"0x\" at the beginning"
      ]
    },
    {
      "cell_type": "code",
      "execution_count": 32,
      "metadata": {
        "id": "HiP5YCX8yN2D"
      },
      "outputs": [],
      "source": [
        "def mining(transaction):\n",
        "  while True:\n",
        "    nonce = get_nonce() # nonce in bytes form\n",
        "    input = nonce+bytes.fromhex(transaction)\n",
        "    \n",
        "    transaction_id = hashlib.sha256(input)\n",
        "    transaction_id = hashlib.sha256(transaction_id.digest())\n",
        "    transaction_id = transaction_id.digest()[::-1] # reverse order\n",
        "\n",
        "    if is_valid(transaction_id.hex()): \n",
        "      print(\"Found it!\")\n",
        "      break\n",
        "\n",
        "  return transaction_id.hex()"
      ]
    },
    {
      "cell_type": "markdown",
      "metadata": {
        "id": "3sx3Ep1-8mw_"
      },
      "source": [
        "The following cell takes time to run. See comments in report."
      ]
    },
    {
      "cell_type": "code",
      "execution_count": 33,
      "metadata": {
        "id": "8FZQ8s96BsPb"
      },
      "outputs": [],
      "source": [
        "# transcript = '0100000002ef7e58660dd495edb75028989cc7eaf36f5c68b4bfe81568b11da5f10421ec45000000008a473044022027bd56aec670822205ab08e626842902e228da6482b6c94b5302011881c180850220727812d89ce21057839a06da87af05c75dffc7a5b4c576d46c2d8f7475be8e2c014104fab3f5793d3a9fb69cca99cce54650afcc8c3f59f09bf0812253f413f1690095427a19d1cf8e710b0f3aa0a928050af233c49afddf0e1496ff56ecf8144e2e22ffffffffc6dc2887a710a1dda56315dfec80921cfc83254952934c093553f17340b02225000000008b483045022100f28c66f5006e6b63283583831f0bd4af229bcd22bcc53beefc583d0442a0a511022056e893a987ddc2eec3af92b74af740269d9cbf8211807f2d28f74361d5049701014104fab3f5793d3a9fb69cca99cce54650afcc8c3f59f09bf0812253f413f1690095427a19d1cf8e710b0f3aa0a928050af233c49afddf0e1496ff56ecf8144e2e22ffffffff0340420f00000000001976a914f0e7b20a3e49e76c81fcd7d1b2c78ba78602b07188ac40420f00000000001976a914433ff80d52b9ceeb2ec0b5a29171f27a4c59c28d88ac80380100000000001976a9143752d558525339337ae23acfeda99fe1572b3bc288ac00000000'\n",
        "# transcript_id = mining(transcript)\n",
        "# print(transcript_id)"
      ]
    }
  ],
  "metadata": {
    "colab": {
      "collapsed_sections": [],
      "name": "crypto4.ipynb",
      "provenance": []
    },
    "kernelspec": {
      "display_name": "Python 3",
      "name": "python3"
    },
    "language_info": {
      "name": "python"
    }
  },
  "nbformat": 4,
  "nbformat_minor": 0
}