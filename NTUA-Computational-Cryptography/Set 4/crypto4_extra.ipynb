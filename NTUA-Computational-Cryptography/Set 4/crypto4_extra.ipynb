{
  "cells": [
    {
      "cell_type": "markdown",
      "metadata": {
        "id": "LyRbz6SC3yYL"
      },
      "source": [
        "## National Technical University of Athens\n",
        "### School of Electrical & Computer Engineering\n",
        "### Course: **Computational Cryptography**\n",
        "##### *9th Semester, 2021-2022*\n",
        "\n",
        "<br>\n",
        "\n",
        "###### Full Name: Christos Tsoufis\n",
        "###### A.M.: 031 17 176\n",
        "\n",
        "<br>\n",
        "\n",
        "#### Additional Code for Homework #4\n"
      ]
    },
    {
      "cell_type": "markdown",
      "metadata": {
        "id": "KbZWAH5q3zuq"
      },
      "source": [
        "### Installation of packages & libraries"
      ]
    },
    {
      "cell_type": "code",
      "execution_count": 1,
      "metadata": {
        "colab": {
          "base_uri": "https://localhost:8080/"
        },
        "id": "yr-F3A3R4F7w",
        "outputId": "1a99600b-8ca7-4630-897d-7967e2a8b4ec"
      },
      "outputs": [
        {
          "output_type": "stream",
          "name": "stdout",
          "text": [
            "Collecting base58\n",
            "  Downloading base58-2.1.1-py3-none-any.whl (5.6 kB)\n",
            "Installing collected packages: base58\n",
            "Successfully installed base58-2.1.1\n",
            "Collecting ecdsa\n",
            "  Downloading ecdsa-0.17.0-py2.py3-none-any.whl (119 kB)\n",
            "\u001b[K     |████████████████████████████████| 119 kB 25.5 MB/s \n",
            "\u001b[?25hRequirement already satisfied: six>=1.9.0 in /usr/local/lib/python3.7/dist-packages (from ecdsa) (1.15.0)\n",
            "Installing collected packages: ecdsa\n",
            "Successfully installed ecdsa-0.17.0\n",
            "Collecting bitcoinaddress\n",
            "  Downloading bitcoinaddress-0.1.5-py3-none-any.whl (10 kB)\n",
            "Requirement already satisfied: ecdsa in /usr/local/lib/python3.7/dist-packages (from bitcoinaddress) (0.17.0)\n",
            "Requirement already satisfied: base58 in /usr/local/lib/python3.7/dist-packages (from bitcoinaddress) (2.1.1)\n",
            "Requirement already satisfied: six>=1.9.0 in /usr/local/lib/python3.7/dist-packages (from ecdsa->bitcoinaddress) (1.15.0)\n",
            "Installing collected packages: bitcoinaddress\n",
            "Successfully installed bitcoinaddress-0.1.5\n",
            "Collecting bit\n",
            "  Downloading bit-0.8.0-py3-none-any.whl (68 kB)\n",
            "\u001b[K     |████████████████████████████████| 68 kB 5.3 MB/s \n",
            "\u001b[?25hCollecting coincurve>=4.3.0\n",
            "  Downloading coincurve-17.0.0-cp37-cp37m-manylinux_2_17_x86_64.manylinux2014_x86_64.whl (1.3 MB)\n",
            "\u001b[K     |████████████████████████████████| 1.3 MB 42.4 MB/s \n",
            "\u001b[?25hRequirement already satisfied: requests in /usr/local/lib/python3.7/dist-packages (from bit) (2.23.0)\n",
            "Collecting asn1crypto\n",
            "  Downloading asn1crypto-1.5.1-py2.py3-none-any.whl (105 kB)\n",
            "\u001b[K     |████████████████████████████████| 105 kB 67.1 MB/s \n",
            "\u001b[?25hRequirement already satisfied: cffi>=1.3.0 in /usr/local/lib/python3.7/dist-packages (from coincurve>=4.3.0->bit) (1.15.0)\n",
            "Requirement already satisfied: pycparser in /usr/local/lib/python3.7/dist-packages (from cffi>=1.3.0->coincurve>=4.3.0->bit) (2.21)\n",
            "Requirement already satisfied: urllib3!=1.25.0,!=1.25.1,<1.26,>=1.21.1 in /usr/local/lib/python3.7/dist-packages (from requests->bit) (1.24.3)\n",
            "Requirement already satisfied: idna<3,>=2.5 in /usr/local/lib/python3.7/dist-packages (from requests->bit) (2.10)\n",
            "Requirement already satisfied: chardet<4,>=3.0.2 in /usr/local/lib/python3.7/dist-packages (from requests->bit) (3.0.4)\n",
            "Requirement already satisfied: certifi>=2017.4.17 in /usr/local/lib/python3.7/dist-packages (from requests->bit) (2021.10.8)\n",
            "Installing collected packages: asn1crypto, coincurve, bit\n",
            "Successfully installed asn1crypto-1.5.1 bit-0.8.0 coincurve-17.0.0\n"
          ]
        }
      ],
      "source": [
        "!pip install base58\n",
        "!pip install ecdsa\n",
        "!pip install bitcoinaddress\n",
        "!pip install bit"
      ]
    },
    {
      "cell_type": "code",
      "execution_count": 2,
      "metadata": {
        "id": "MPYtY71U3uKi"
      },
      "outputs": [],
      "source": [
        "import secrets, ecdsa, codecs, base58\n",
        "import hashlib as h\n",
        "\n",
        "from bitcoinaddress import Wallet\n",
        "import hashlib as h\n",
        "import codecs, base58\n",
        "from bit import PrivateKeyTestnet"
      ]
    },
    {
      "cell_type": "markdown",
      "metadata": {
        "id": "jD-QBjV_3_jp"
      },
      "source": [
        "### Exercise 10"
      ]
    },
    {
      "cell_type": "markdown",
      "metadata": {
        "id": "jpAwmm7u4ApN"
      },
      "source": [
        "(a)"
      ]
    },
    {
      "cell_type": "markdown",
      "source": [
        "Create private key"
      ],
      "metadata": {
        "id": "MJOoRIM0SZxR"
      }
    },
    {
      "cell_type": "code",
      "execution_count": 3,
      "metadata": {
        "id": "tD7Yd_WG4BS-"
      },
      "outputs": [],
      "source": [
        "bits = secrets.randbits(256)\n",
        "bits_hex = hex(bits)"
      ]
    },
    {
      "cell_type": "code",
      "execution_count": 4,
      "metadata": {
        "id": "RgNFOZmARgM2"
      },
      "outputs": [],
      "source": [
        "private_key = bits_hex[2:]"
      ]
    },
    {
      "cell_type": "code",
      "execution_count": 5,
      "metadata": {
        "colab": {
          "base_uri": "https://localhost:8080/"
        },
        "id": "PVu_tXKT4ePG",
        "outputId": "36579bb9-3dda-4d34-a77a-9ede0c88053d"
      },
      "outputs": [
        {
          "output_type": "stream",
          "name": "stdout",
          "text": [
            "private key =  4fba50cd31451e4bb5e2e468b627e5150423f7cc0947fbb585a973edb27dfe0a\n"
          ]
        }
      ],
      "source": [
        "print(\"private key = \", str(private_key))"
      ]
    },
    {
      "cell_type": "markdown",
      "source": [
        "Create public key"
      ],
      "metadata": {
        "id": "LIv00QtdScKl"
      }
    },
    {
      "cell_type": "code",
      "execution_count": 6,
      "metadata": {
        "id": "0LAorqLnRgM2"
      },
      "outputs": [],
      "source": [
        "key = ecdsa.SigningKey.from_string(codecs.decode(str(private_key), 'hex'), curve=ecdsa.SECP256k1).verifying_key\n",
        "key_hex = codecs.encode(key.to_string(), 'hex')"
      ]
    },
    {
      "cell_type": "code",
      "execution_count": 7,
      "metadata": {
        "id": "3Beof2m0RgM3"
      },
      "outputs": [],
      "source": [
        "public_key = b'04' + key_hex\n",
        "public_key_str = key_hex.decode('utf-8')"
      ]
    },
    {
      "cell_type": "code",
      "execution_count": 8,
      "metadata": {
        "colab": {
          "base_uri": "https://localhost:8080/"
        },
        "id": "_cMJ8VgN4gwZ",
        "outputId": "8d2cca97-b074-4312-a40d-4d314b434a65"
      },
      "outputs": [
        {
          "output_type": "stream",
          "name": "stdout",
          "text": [
            "public key =  b'048540546fe1cb1ff14a675fa8a3f5a2732172c335785a01b568ebe3470dceffbabda7d779edfe766f77e5e055792c229167e71d4e44d5880294a7c095b45ee3d0'\n"
          ]
        }
      ],
      "source": [
        "print(\"public key = \",str(public_key))"
      ]
    },
    {
      "cell_type": "markdown",
      "source": [
        "Create compressed key"
      ],
      "metadata": {
        "id": "gKLNX0N9SeqB"
      }
    },
    {
      "cell_type": "code",
      "execution_count": 9,
      "metadata": {
        "id": "iHJeqwK6RgM4"
      },
      "outputs": [],
      "source": [
        "compressed_key = ('03' if int(public_key_str[-1],16)%2 else '02') + public_key_str[:len(public_key_str)//2]\n",
        "comp_key_sha = h.sha256(codecs.decode(compressed_key, 'hex')).hexdigest()"
      ]
    },
    {
      "cell_type": "code",
      "execution_count": 10,
      "metadata": {
        "colab": {
          "base_uri": "https://localhost:8080/"
        },
        "id": "oo33X3P64h-Z",
        "outputId": "f10f8ccd-6ded-44e8-f4e5-6fc93718c7ca"
      },
      "outputs": [
        {
          "output_type": "stream",
          "name": "stdout",
          "text": [
            "compressed key =  028540546fe1cb1ff14a675fa8a3f5a2732172c335785a01b568ebe3470dceffba\n"
          ]
        }
      ],
      "source": [
        "print(\"compressed key = \",compressed_key)"
      ]
    },
    {
      "cell_type": "markdown",
      "source": [
        "Create hashed compressed key"
      ],
      "metadata": {
        "id": "oNzDtZI2Sht-"
      }
    },
    {
      "cell_type": "code",
      "execution_count": 11,
      "metadata": {
        "id": "8g-iu95BRgM4"
      },
      "outputs": [],
      "source": [
        "ripemd = h.new('ripemd160')\n",
        "ripemd.update(codecs.decode(comp_key_sha, 'hex'))\n",
        "ripemd_hex = ripemd.hexdigest()"
      ]
    },
    {
      "cell_type": "code",
      "execution_count": 12,
      "metadata": {
        "colab": {
          "base_uri": "https://localhost:8080/"
        },
        "id": "b3VdtYs64jAK",
        "outputId": "5e0430c2-4ba1-4a42-e1e5-0b89c6852361"
      },
      "outputs": [
        {
          "output_type": "stream",
          "name": "stdout",
          "text": [
            "hashed comp key = fb0d8e707e66eab3b5a4a07563a3d2c3767ff6dd\n"
          ]
        }
      ],
      "source": [
        "print(\"hashed comp key =\", ripemd_hex)"
      ]
    },
    {
      "cell_type": "markdown",
      "source": [
        "Create address"
      ],
      "metadata": {
        "id": "S7Te0FFvSmxV"
      }
    },
    {
      "cell_type": "code",
      "execution_count": 13,
      "metadata": {
        "id": "Sg-Q3OXf4X60"
      },
      "outputs": [],
      "source": [
        "sha256_1 = h.sha256(codecs.decode(\"6f\"+ripemd_hex, 'hex'))\n",
        "sha256_1_digest = sha256_1.digest()\n",
        "sha256_2 = h.sha256(sha256_1_digest)\n",
        "sha256_2_hex = sha256_2.hexdigest()"
      ]
    },
    {
      "cell_type": "code",
      "execution_count": 14,
      "metadata": {
        "id": "rEdviVfmRgM5"
      },
      "outputs": [],
      "source": [
        "checksum = sha256_2_hex[:8]"
      ]
    },
    {
      "cell_type": "code",
      "execution_count": 15,
      "metadata": {
        "id": "VGAPa6qTRgM5"
      },
      "outputs": [],
      "source": [
        "address = base58.b58encode(codecs.decode(\"6f\"+ripemd_hex+checksum, 'hex')).decode('utf-8')"
      ]
    },
    {
      "cell_type": "code",
      "execution_count": 16,
      "metadata": {
        "colab": {
          "base_uri": "https://localhost:8080/"
        },
        "id": "KtgRqmnb4kAK",
        "outputId": "0776eba3-8b11-419e-b0ff-3c4551ae7821"
      },
      "outputs": [
        {
          "output_type": "stream",
          "name": "stdout",
          "text": [
            "address =  n4QQ97rJU5r1vRLhLBPTTCgktNzRkhrKpv\n"
          ]
        }
      ],
      "source": [
        "print(\"address = \", address)"
      ]
    },
    {
      "cell_type": "markdown",
      "metadata": {
        "id": "MZP8Y-3Z5pTN"
      },
      "source": [
        "Attempt for creation of Address #2"
      ]
    },
    {
      "cell_type": "code",
      "execution_count": 17,
      "metadata": {
        "id": "bq0EJDSo5VWI"
      },
      "outputs": [],
      "source": [
        "am_sha = h.sha256(b'03112345').hexdigest()\n",
        "ripemd = h.new('ripemd160')\n",
        "ripemd.update(codecs.decode(am_sha, 'hex'))\n",
        "ripemd_hex = ripemd.hexdigest()\n",
        "checksum = am_sha[:8]"
      ]
    },
    {
      "cell_type": "code",
      "execution_count": 18,
      "metadata": {
        "colab": {
          "base_uri": "https://localhost:8080/"
        },
        "id": "PSbiJSm85v8k",
        "outputId": "d56d40d3-eff2-4f8f-d226-732fd0f9fb4b"
      },
      "outputs": [
        {
          "output_type": "stream",
          "name": "stdout",
          "text": [
            "mkaWYS2DeChGv3u5tZMR59WSQkJEqKu9tg\n"
          ]
        }
      ],
      "source": [
        "address = base58.b58encode(codecs.decode(\"6f\"+ripemd_hex+checksum, 'hex')).decode('utf-8')\n",
        "print(address)"
      ]
    },
    {
      "cell_type": "markdown",
      "metadata": {
        "id": "XyJMxq1l5xcH"
      },
      "source": [
        "Verification of Address #1"
      ]
    },
    {
      "cell_type": "code",
      "execution_count": 20,
      "metadata": {
        "colab": {
          "base_uri": "https://localhost:8080/"
        },
        "id": "SsYpdtGO54GX",
        "outputId": "79bb5b6e-a7c7-44ae-e6e2-c85a22a4c3db"
      },
      "outputs": [
        {
          "output_type": "stream",
          "name": "stdout",
          "text": [
            "\n",
            "              \rPrivate Key HEX: 4fba50cd31451e4bb5e2e468b627e5150423f7cc0947fbb585a973edb27dfe0a\n",
            "              \rPrivate Key WIF: 92C2hiF5sM2Z4UkcaZxdLb6YPWzsqJJXR7xuePcUhmBjTiEqNz6\n",
            "              \rPrivate Key WIF compressed: cQFgWh3AVDPrWMVW3AUXPTVTYPQTNBNMFTjmN2obGv2NQVUySuXE \n",
            "            \n",
            "Public Key: 048540546fe1cb1ff14a675fa8a3f5a2732172c335785a01b568ebe3470dceffbabda7d779edfe766f77e5e055792c229167e71d4e44d5880294a7c095b45ee3d0 \n",
            "                      \rPublic Key compressed: 028540546fe1cb1ff14a675fa8a3f5a2732172c335785a01b568ebe3470dceffba\n",
            "\n",
            "                      \rPublic Address 1: mgAcG2pjS1re8GGs8ahFo1WcJoAeB4nyzh   \n",
            "                      \rPublic Address 1 compressed: n4QQ97rJU5r1vRLhLBPTTCgktNzRkhrKpv   \n",
            "                      \rPublic Address 3: 2N93ftccUeBnDvJaLxn8EXpFAfHDWFoLb3v  \n",
            "                      \rPublic Address bc1 P2WPKH: tb1qlvxcuur7vm4t8ddy5p6k8g7jcdm8laka20gre3    \n",
            "                      \rPublic Address bc1 P2WSH: tb1qh3efrzgqkn3rlsghc7g8mqtrsdtpv2as0fgjp67u9rm5vwsehkzqpxhlvq  \n",
            "                    \n"
          ]
        }
      ],
      "source": [
        "# enter the private key\n",
        "wallet =  Wallet('4fba50cd31451e4bb5e2e468b627e5150423f7cc0947fbb585a973edb27dfe0a',testnet=(True))\n",
        "print(wallet)"
      ]
    },
    {
      "cell_type": "code",
      "execution_count": 21,
      "metadata": {
        "colab": {
          "base_uri": "https://localhost:8080/"
        },
        "id": "n_vlnHkK6DFR",
        "outputId": "5d9a9cd4-3dc3-47f8-b003-d086ebc1b938"
      },
      "outputs": [
        {
          "output_type": "stream",
          "name": "stdout",
          "text": [
            "n4QQ97rJU5r1vRLhLBPTTCgktNzRkhrKpv\n"
          ]
        }
      ],
      "source": [
        "# enter the Private Key WIF compressed\n",
        "key = PrivateKeyTestnet('cQFgWh3AVDPrWMVW3AUXPTVTYPQTNBNMFTjmN2obGv2NQVUySuXE')\n",
        "print(key.address)"
      ]
    },
    {
      "cell_type": "markdown",
      "metadata": {
        "id": "R4ZiTTgg6WFV"
      },
      "source": [
        "Transfer 0.01 bit to the address that was asked."
      ]
    },
    {
      "cell_type": "code",
      "execution_count": 23,
      "metadata": {
        "id": "Mj_atPKP6YTN"
      },
      "outputs": [],
      "source": [
        "# tx_hash = key.send([('n3Uk2aQLXogYEbzYJnKyk9JSCeUAKVyB7q','0.01','btc')])\n",
        "# print(tx_hash)"
      ]
    }
  ],
  "metadata": {
    "colab": {
      "collapsed_sections": [],
      "name": "crypto4_extra.ipynb",
      "provenance": []
    },
    "kernelspec": {
      "display_name": "Python 3",
      "name": "python3"
    },
    "language_info": {
      "name": "python"
    }
  },
  "nbformat": 4,
  "nbformat_minor": 0
}