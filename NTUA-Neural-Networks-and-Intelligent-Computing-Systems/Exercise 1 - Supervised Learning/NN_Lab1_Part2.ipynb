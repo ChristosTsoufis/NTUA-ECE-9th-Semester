{
  "cells": [
    {
      "cell_type": "markdown",
      "source": [
        "# **Neural Networks & Intelligent Systems**\n",
        "## **ECE NTUA, Flow Y, 9th Semester, 2021-2022**\n",
        "### *Lab 1: Supervised Learning (Classification)*\n",
        "### Part 2: Kaggle\n",
        "\n",
        "#### Team 20"
      ],
      "metadata": {
        "id": "CIxNv3mdTUiy"
      }
    },
    {
      "cell_type": "code",
      "execution_count": null,
      "metadata": {
        "_cell_guid": "b1076dfc-b9ad-4769-8c92-a6c4dae69d19",
        "_uuid": "8f2839f25d086af736a60e9eeb907d3b93b6e0e5",
        "execution": {
          "iopub.execute_input": "2021-12-05T19:01:21.365232Z",
          "iopub.status.busy": "2021-12-05T19:01:21.364424Z",
          "iopub.status.idle": "2021-12-05T19:01:21.377498Z",
          "shell.execute_reply": "2021-12-05T19:01:21.376917Z",
          "shell.execute_reply.started": "2021-12-05T19:01:21.365177Z"
        },
        "trusted": true,
        "id": "NQ88e39FTTio",
        "outputId": "58e7b772-a43c-4568-d5dd-502940848f52"
      },
      "outputs": [
        {
          "name": "stdout",
          "output_type": "stream",
          "text": [
            "/kaggle/input/sloan-digital-sky-survey-dr16/Skyserver_12_30_2019 4_49_58 PM.csv\n"
          ]
        }
      ],
      "source": [
        "import numpy as np\n",
        "import pandas as pd\n",
        "import seaborn as sns\n",
        "import sklearn\n",
        "from sklearn import preprocessing\n",
        "from imblearn.under_sampling import RandomUnderSampler\n",
        "from collections import Counter\n",
        "import optuna\n",
        "import matplotlib.pyplot as plt\n",
        "from sklearn.preprocessing import StandardScaler, MinMaxScaler\n",
        "from sklearn.model_selection import GridSearchCV\n",
        "from imblearn.over_sampling import RandomOverSampler\n",
        "from sklearn.pipeline import make_pipeline\n",
        "from sklearn.preprocessing import MultiLabelBinarizer\n",
        "import time\n",
        "from imblearn.pipeline import Pipeline\n",
        "from sklearn.decomposition import PCA\n",
        "from sklearn.neural_network import MLPClassifier\n",
        "from sklearn.svm import SVC\n",
        "from io import StringIO\n",
        "from sklearn.preprocessing import RobustScaler\n",
        "from sklearn.impute import SimpleImputer\n",
        "from sklearn.feature_selection import VarianceThreshold\n",
        "from sklearn.decomposition import PCA\n",
        "from sklearn.model_selection import train_test_split\n",
        "from sklearn.metrics import plot_confusion_matrix\n",
        "from sklearn.metrics import classification_report\n",
        "from sklearn.metrics import precision_recall_fscore_support\n",
        "from sklearn.metrics import f1_score\n",
        "from sklearn.metrics import confusion_matrix\n",
        "from sklearn.metrics import accuracy_score\n",
        "from sklearn.dummy   import DummyClassifier\n",
        "import os\n",
        "for dirname, _, filenames in os.walk('/kaggle/input'):\n",
        "    for filename in filenames:\n",
        "        print(os.path.join(dirname, filename))"
      ]
    },
    {
      "cell_type": "markdown",
      "metadata": {
        "id": "N8UZbEnkTTiv"
      },
      "source": [
        "## Στόχος του dataset"
      ]
    },
    {
      "cell_type": "markdown",
      "metadata": {
        "id": "d3C-qy-lTTix"
      },
      "source": [
        "#### Το dataset μας είναι το K03 και περιγράφει την τρισδιάστατη απεικόνιση του σύμπαντος με μορφή χαρτών,χρησιμοποιώντας εικόνες πολλαπλών χρωμάτων του ενός τρίτου του ουρανού και το φάσμα περισσότερων από 3 εκατομμυρίων αστρονομικών αντικειμένων. Πιο αναλυτικά το dataset αποτελείται από τον συνδυασμό φωτομετρικών και φασματικών δεδομένων. Κάθε κλάση αντικειμένου περιγράφεται απο 16 μεταβλητές που προσδιορίζουν την θέση και την κατάσταση κάθε αντικειμένου στην διάρκεια του χρόνου."
      ]
    },
    {
      "cell_type": "markdown",
      "metadata": {
        "id": "aMfbvJpwTTiz"
      },
      "source": [
        "## Οπτικοποήση και επισκόπηση του dataset"
      ]
    },
    {
      "cell_type": "code",
      "execution_count": null,
      "metadata": {
        "execution": {
          "iopub.execute_input": "2021-12-05T19:01:22.564871Z",
          "iopub.status.busy": "2021-12-05T19:01:22.564427Z",
          "iopub.status.idle": "2021-12-05T19:01:23.016713Z",
          "shell.execute_reply": "2021-12-05T19:01:23.015718Z",
          "shell.execute_reply.started": "2021-12-05T19:01:22.564828Z"
        },
        "trusted": true,
        "id": "AI51uyBHTTi0",
        "outputId": "fa63e310-707c-41a1-d754-58acc3a67143"
      },
      "outputs": [
        {
          "data": {
            "text/html": [
              "<div>\n",
              "<style scoped>\n",
              "    .dataframe tbody tr th:only-of-type {\n",
              "        vertical-align: middle;\n",
              "    }\n",
              "\n",
              "    .dataframe tbody tr th {\n",
              "        vertical-align: top;\n",
              "    }\n",
              "\n",
              "    .dataframe thead th {\n",
              "        text-align: right;\n",
              "    }\n",
              "</style>\n",
              "<table border=\"1\" class=\"dataframe\">\n",
              "  <thead>\n",
              "    <tr style=\"text-align: right;\">\n",
              "      <th></th>\n",
              "      <th>objid</th>\n",
              "      <th>ra</th>\n",
              "      <th>dec</th>\n",
              "      <th>u</th>\n",
              "      <th>g</th>\n",
              "      <th>r</th>\n",
              "      <th>i</th>\n",
              "      <th>z</th>\n",
              "      <th>run</th>\n",
              "      <th>rerun</th>\n",
              "      <th>camcol</th>\n",
              "      <th>field</th>\n",
              "      <th>specobjid</th>\n",
              "      <th>class</th>\n",
              "      <th>redshift</th>\n",
              "      <th>plate</th>\n",
              "      <th>mjd</th>\n",
              "      <th>fiberid</th>\n",
              "    </tr>\n",
              "  </thead>\n",
              "  <tbody>\n",
              "    <tr>\n",
              "      <th>0</th>\n",
              "      <td>1237666301628060000</td>\n",
              "      <td>47.372545</td>\n",
              "      <td>0.820621</td>\n",
              "      <td>18.69254</td>\n",
              "      <td>17.13867</td>\n",
              "      <td>16.55555</td>\n",
              "      <td>16.34662</td>\n",
              "      <td>16.17639</td>\n",
              "      <td>4849</td>\n",
              "      <td>301</td>\n",
              "      <td>5</td>\n",
              "      <td>771</td>\n",
              "      <td>8168632633242440000</td>\n",
              "      <td>STAR</td>\n",
              "      <td>0.000115</td>\n",
              "      <td>7255</td>\n",
              "      <td>56597</td>\n",
              "      <td>832</td>\n",
              "    </tr>\n",
              "    <tr>\n",
              "      <th>1</th>\n",
              "      <td>1237673706652430000</td>\n",
              "      <td>116.303083</td>\n",
              "      <td>42.455980</td>\n",
              "      <td>18.47633</td>\n",
              "      <td>17.30546</td>\n",
              "      <td>17.24116</td>\n",
              "      <td>17.32780</td>\n",
              "      <td>17.37114</td>\n",
              "      <td>6573</td>\n",
              "      <td>301</td>\n",
              "      <td>6</td>\n",
              "      <td>220</td>\n",
              "      <td>9333948945297330000</td>\n",
              "      <td>STAR</td>\n",
              "      <td>-0.000093</td>\n",
              "      <td>8290</td>\n",
              "      <td>57364</td>\n",
              "      <td>868</td>\n",
              "    </tr>\n",
              "    <tr>\n",
              "      <th>2</th>\n",
              "      <td>1237671126974140000</td>\n",
              "      <td>172.756623</td>\n",
              "      <td>-8.785698</td>\n",
              "      <td>16.47714</td>\n",
              "      <td>15.31072</td>\n",
              "      <td>15.55971</td>\n",
              "      <td>15.72207</td>\n",
              "      <td>15.82471</td>\n",
              "      <td>5973</td>\n",
              "      <td>301</td>\n",
              "      <td>1</td>\n",
              "      <td>13</td>\n",
              "      <td>3221211255238850000</td>\n",
              "      <td>STAR</td>\n",
              "      <td>0.000165</td>\n",
              "      <td>2861</td>\n",
              "      <td>54583</td>\n",
              "      <td>42</td>\n",
              "    </tr>\n",
              "    <tr>\n",
              "      <th>3</th>\n",
              "      <td>1237665441518260000</td>\n",
              "      <td>201.224207</td>\n",
              "      <td>28.771290</td>\n",
              "      <td>18.63561</td>\n",
              "      <td>16.88346</td>\n",
              "      <td>16.09825</td>\n",
              "      <td>15.70987</td>\n",
              "      <td>15.43491</td>\n",
              "      <td>4649</td>\n",
              "      <td>301</td>\n",
              "      <td>3</td>\n",
              "      <td>121</td>\n",
              "      <td>2254061292459420000</td>\n",
              "      <td>GALAXY</td>\n",
              "      <td>0.058155</td>\n",
              "      <td>2002</td>\n",
              "      <td>53471</td>\n",
              "      <td>35</td>\n",
              "    </tr>\n",
              "    <tr>\n",
              "      <th>4</th>\n",
              "      <td>1237665441522840000</td>\n",
              "      <td>212.817222</td>\n",
              "      <td>26.625225</td>\n",
              "      <td>18.88325</td>\n",
              "      <td>17.87948</td>\n",
              "      <td>17.47037</td>\n",
              "      <td>17.17441</td>\n",
              "      <td>17.05235</td>\n",
              "      <td>4649</td>\n",
              "      <td>301</td>\n",
              "      <td>3</td>\n",
              "      <td>191</td>\n",
              "      <td>2390305906828010000</td>\n",
              "      <td>GALAXY</td>\n",
              "      <td>0.072210</td>\n",
              "      <td>2123</td>\n",
              "      <td>53793</td>\n",
              "      <td>74</td>\n",
              "    </tr>\n",
              "    <tr>\n",
              "      <th>...</th>\n",
              "      <td>...</td>\n",
              "      <td>...</td>\n",
              "      <td>...</td>\n",
              "      <td>...</td>\n",
              "      <td>...</td>\n",
              "      <td>...</td>\n",
              "      <td>...</td>\n",
              "      <td>...</td>\n",
              "      <td>...</td>\n",
              "      <td>...</td>\n",
              "      <td>...</td>\n",
              "      <td>...</td>\n",
              "      <td>...</td>\n",
              "      <td>...</td>\n",
              "      <td>...</td>\n",
              "      <td>...</td>\n",
              "      <td>...</td>\n",
              "      <td>...</td>\n",
              "    </tr>\n",
              "    <tr>\n",
              "      <th>99995</th>\n",
              "      <td>1237667968033620000</td>\n",
              "      <td>228.674917</td>\n",
              "      <td>19.179460</td>\n",
              "      <td>19.32631</td>\n",
              "      <td>18.82748</td>\n",
              "      <td>18.65659</td>\n",
              "      <td>18.60481</td>\n",
              "      <td>18.60917</td>\n",
              "      <td>5237</td>\n",
              "      <td>301</td>\n",
              "      <td>5</td>\n",
              "      <td>134</td>\n",
              "      <td>4448615345201370000</td>\n",
              "      <td>QSO</td>\n",
              "      <td>0.438182</td>\n",
              "      <td>3951</td>\n",
              "      <td>55681</td>\n",
              "      <td>672</td>\n",
              "    </tr>\n",
              "    <tr>\n",
              "      <th>99996</th>\n",
              "      <td>1237664818210470000</td>\n",
              "      <td>173.757382</td>\n",
              "      <td>36.441603</td>\n",
              "      <td>18.33687</td>\n",
              "      <td>17.30365</td>\n",
              "      <td>17.16037</td>\n",
              "      <td>17.14895</td>\n",
              "      <td>17.14419</td>\n",
              "      <td>4504</td>\n",
              "      <td>301</td>\n",
              "      <td>2</td>\n",
              "      <td>111</td>\n",
              "      <td>2265404129658560000</td>\n",
              "      <td>STAR</td>\n",
              "      <td>-0.000497</td>\n",
              "      <td>2012</td>\n",
              "      <td>53493</td>\n",
              "      <td>340</td>\n",
              "    </tr>\n",
              "    <tr>\n",
              "      <th>99997</th>\n",
              "      <td>1237664295297290000</td>\n",
              "      <td>205.426531</td>\n",
              "      <td>38.499053</td>\n",
              "      <td>17.50690</td>\n",
              "      <td>15.63152</td>\n",
              "      <td>15.22328</td>\n",
              "      <td>15.04469</td>\n",
              "      <td>15.28668</td>\n",
              "      <td>4382</td>\n",
              "      <td>301</td>\n",
              "      <td>4</td>\n",
              "      <td>97</td>\n",
              "      <td>2257446413900210000</td>\n",
              "      <td>GALAXY</td>\n",
              "      <td>0.004587</td>\n",
              "      <td>2005</td>\n",
              "      <td>53472</td>\n",
              "      <td>62</td>\n",
              "    </tr>\n",
              "    <tr>\n",
              "      <th>99998</th>\n",
              "      <td>1237656537513130000</td>\n",
              "      <td>337.135144</td>\n",
              "      <td>-9.635967</td>\n",
              "      <td>19.33946</td>\n",
              "      <td>17.21436</td>\n",
              "      <td>16.29697</td>\n",
              "      <td>15.86745</td>\n",
              "      <td>15.51556</td>\n",
              "      <td>2576</td>\n",
              "      <td>301</td>\n",
              "      <td>2</td>\n",
              "      <td>105</td>\n",
              "      <td>811847537492257000</td>\n",
              "      <td>GALAXY</td>\n",
              "      <td>0.084538</td>\n",
              "      <td>721</td>\n",
              "      <td>52228</td>\n",
              "      <td>268</td>\n",
              "    </tr>\n",
              "    <tr>\n",
              "      <th>99999</th>\n",
              "      <td>1237670459113730000</td>\n",
              "      <td>37.440188</td>\n",
              "      <td>25.400888</td>\n",
              "      <td>18.11769</td>\n",
              "      <td>16.86279</td>\n",
              "      <td>16.31057</td>\n",
              "      <td>16.07582</td>\n",
              "      <td>15.94701</td>\n",
              "      <td>5817</td>\n",
              "      <td>301</td>\n",
              "      <td>5</td>\n",
              "      <td>120</td>\n",
              "      <td>2678586035360790000</td>\n",
              "      <td>STAR</td>\n",
              "      <td>-0.000085</td>\n",
              "      <td>2379</td>\n",
              "      <td>53762</td>\n",
              "      <td>255</td>\n",
              "    </tr>\n",
              "  </tbody>\n",
              "</table>\n",
              "<p>100000 rows × 18 columns</p>\n",
              "</div>"
            ],
            "text/plain": [
              "                     objid          ra        dec         u         g  \\\n",
              "0      1237666301628060000   47.372545   0.820621  18.69254  17.13867   \n",
              "1      1237673706652430000  116.303083  42.455980  18.47633  17.30546   \n",
              "2      1237671126974140000  172.756623  -8.785698  16.47714  15.31072   \n",
              "3      1237665441518260000  201.224207  28.771290  18.63561  16.88346   \n",
              "4      1237665441522840000  212.817222  26.625225  18.88325  17.87948   \n",
              "...                    ...         ...        ...       ...       ...   \n",
              "99995  1237667968033620000  228.674917  19.179460  19.32631  18.82748   \n",
              "99996  1237664818210470000  173.757382  36.441603  18.33687  17.30365   \n",
              "99997  1237664295297290000  205.426531  38.499053  17.50690  15.63152   \n",
              "99998  1237656537513130000  337.135144  -9.635967  19.33946  17.21436   \n",
              "99999  1237670459113730000   37.440188  25.400888  18.11769  16.86279   \n",
              "\n",
              "              r         i         z   run  rerun  camcol  field  \\\n",
              "0      16.55555  16.34662  16.17639  4849    301       5    771   \n",
              "1      17.24116  17.32780  17.37114  6573    301       6    220   \n",
              "2      15.55971  15.72207  15.82471  5973    301       1     13   \n",
              "3      16.09825  15.70987  15.43491  4649    301       3    121   \n",
              "4      17.47037  17.17441  17.05235  4649    301       3    191   \n",
              "...         ...       ...       ...   ...    ...     ...    ...   \n",
              "99995  18.65659  18.60481  18.60917  5237    301       5    134   \n",
              "99996  17.16037  17.14895  17.14419  4504    301       2    111   \n",
              "99997  15.22328  15.04469  15.28668  4382    301       4     97   \n",
              "99998  16.29697  15.86745  15.51556  2576    301       2    105   \n",
              "99999  16.31057  16.07582  15.94701  5817    301       5    120   \n",
              "\n",
              "                 specobjid   class  redshift  plate    mjd  fiberid  \n",
              "0      8168632633242440000    STAR  0.000115   7255  56597      832  \n",
              "1      9333948945297330000    STAR -0.000093   8290  57364      868  \n",
              "2      3221211255238850000    STAR  0.000165   2861  54583       42  \n",
              "3      2254061292459420000  GALAXY  0.058155   2002  53471       35  \n",
              "4      2390305906828010000  GALAXY  0.072210   2123  53793       74  \n",
              "...                    ...     ...       ...    ...    ...      ...  \n",
              "99995  4448615345201370000     QSO  0.438182   3951  55681      672  \n",
              "99996  2265404129658560000    STAR -0.000497   2012  53493      340  \n",
              "99997  2257446413900210000  GALAXY  0.004587   2005  53472       62  \n",
              "99998   811847537492257000  GALAXY  0.084538    721  52228      268  \n",
              "99999  2678586035360790000    STAR -0.000085   2379  53762      255  \n",
              "\n",
              "[100000 rows x 18 columns]"
            ]
          },
          "execution_count": 3,
          "metadata": {},
          "output_type": "execute_result"
        }
      ],
      "source": [
        "data = pd.read_csv(\"/kaggle/input/sloan-digital-sky-survey-dr16/Skyserver_12_30_2019 4_49_58 PM.csv\")\n",
        "data"
      ]
    },
    {
      "cell_type": "markdown",
      "metadata": {
        "id": "CqVlMzCpTTi1"
      },
      "source": [
        "#### Δεν χρειάστηκε κάποια αλλαγή plain text για την εισαγωγή του dataset."
      ]
    },
    {
      "cell_type": "code",
      "execution_count": null,
      "metadata": {
        "execution": {
          "iopub.execute_input": "2021-12-05T19:01:23.018852Z",
          "iopub.status.busy": "2021-12-05T19:01:23.018421Z",
          "iopub.status.idle": "2021-12-05T19:01:23.025220Z",
          "shell.execute_reply": "2021-12-05T19:01:23.024359Z",
          "shell.execute_reply.started": "2021-12-05T19:01:23.018806Z"
        },
        "trusted": true,
        "id": "HsKfifMvTTi1",
        "outputId": "406006ac-d186-410f-df56-03606029f2ea"
      },
      "outputs": [
        {
          "data": {
            "text/plain": [
              "(100000, 18)"
            ]
          },
          "execution_count": 4,
          "metadata": {},
          "output_type": "execute_result"
        }
      ],
      "source": [
        "data.shape"
      ]
    },
    {
      "cell_type": "markdown",
      "metadata": {
        "id": "Zczn5pc5TTi2"
      },
      "source": [
        "#### Άρα το πλήθος των δειγμάτων είναι 99999"
      ]
    },
    {
      "cell_type": "code",
      "execution_count": null,
      "metadata": {
        "execution": {
          "iopub.execute_input": "2021-12-05T19:01:23.417368Z",
          "iopub.status.busy": "2021-12-05T19:01:23.417086Z",
          "iopub.status.idle": "2021-12-05T19:01:23.438110Z",
          "shell.execute_reply": "2021-12-05T19:01:23.437276Z",
          "shell.execute_reply.started": "2021-12-05T19:01:23.417341Z"
        },
        "trusted": true,
        "id": "d8xMtfSLTTi3",
        "outputId": "85a156c6-7125-4059-e4d6-3ac88a7f54c5"
      },
      "outputs": [
        {
          "name": "stdout",
          "output_type": "stream",
          "text": [
            "                     objid          ra        dec         u         g  \\\n",
            "0      1237666301628060000   47.372545   0.820621  18.69254  17.13867   \n",
            "1      1237673706652430000  116.303083  42.455980  18.47633  17.30546   \n",
            "2      1237671126974140000  172.756623  -8.785698  16.47714  15.31072   \n",
            "3      1237665441518260000  201.224207  28.771290  18.63561  16.88346   \n",
            "4      1237665441522840000  212.817222  26.625225  18.88325  17.87948   \n",
            "...                    ...         ...        ...       ...       ...   \n",
            "99995  1237667968033620000  228.674917  19.179460  19.32631  18.82748   \n",
            "99996  1237664818210470000  173.757382  36.441603  18.33687  17.30365   \n",
            "99997  1237664295297290000  205.426531  38.499053  17.50690  15.63152   \n",
            "99998  1237656537513130000  337.135144  -9.635967  19.33946  17.21436   \n",
            "99999  1237670459113730000   37.440188  25.400888  18.11769  16.86279   \n",
            "\n",
            "              r         i         z   run  rerun  camcol  field  \\\n",
            "0      16.55555  16.34662  16.17639  4849    301       5    771   \n",
            "1      17.24116  17.32780  17.37114  6573    301       6    220   \n",
            "2      15.55971  15.72207  15.82471  5973    301       1     13   \n",
            "3      16.09825  15.70987  15.43491  4649    301       3    121   \n",
            "4      17.47037  17.17441  17.05235  4649    301       3    191   \n",
            "...         ...       ...       ...   ...    ...     ...    ...   \n",
            "99995  18.65659  18.60481  18.60917  5237    301       5    134   \n",
            "99996  17.16037  17.14895  17.14419  4504    301       2    111   \n",
            "99997  15.22328  15.04469  15.28668  4382    301       4     97   \n",
            "99998  16.29697  15.86745  15.51556  2576    301       2    105   \n",
            "99999  16.31057  16.07582  15.94701  5817    301       5    120   \n",
            "\n",
            "                 specobjid  redshift  plate    mjd  fiberid  \n",
            "0      8168632633242440000  0.000115   7255  56597      832  \n",
            "1      9333948945297330000 -0.000093   8290  57364      868  \n",
            "2      3221211255238850000  0.000165   2861  54583       42  \n",
            "3      2254061292459420000  0.058155   2002  53471       35  \n",
            "4      2390305906828010000  0.072210   2123  53793       74  \n",
            "...                    ...       ...    ...    ...      ...  \n",
            "99995  4448615345201370000  0.438182   3951  55681      672  \n",
            "99996  2265404129658560000 -0.000497   2012  53493      340  \n",
            "99997  2257446413900210000  0.004587   2005  53472       62  \n",
            "99998   811847537492257000  0.084538    721  52228      268  \n",
            "99999  2678586035360790000 -0.000085   2379  53762      255  \n",
            "\n",
            "[100000 rows x 17 columns]\n"
          ]
        }
      ],
      "source": [
        "features = data.iloc[:,[0,1,2,3,4,5,6,7,8,9,10,11,12,14,15,16,17]]\n",
        "print(features)"
      ]
    },
    {
      "cell_type": "markdown",
      "metadata": {
        "id": "urS2cOj0TTi4"
      },
      "source": [
        "#### Τα χαρακτηριστικά μας είναι 17,δηλαδή όλες οι στήλες εκτός της στήλης 13."
      ]
    },
    {
      "cell_type": "code",
      "execution_count": null,
      "metadata": {
        "execution": {
          "iopub.execute_input": "2021-12-05T19:01:23.819369Z",
          "iopub.status.busy": "2021-12-05T19:01:23.818741Z",
          "iopub.status.idle": "2021-12-05T19:01:23.850587Z",
          "shell.execute_reply": "2021-12-05T19:01:23.849744Z",
          "shell.execute_reply.started": "2021-12-05T19:01:23.819329Z"
        },
        "trusted": true,
        "id": "-tHEmLgzTTi5",
        "outputId": "74b889ac-01c0-4538-bff4-711332f5555e"
      },
      "outputs": [
        {
          "name": "stdout",
          "output_type": "stream",
          "text": [
            "<class 'pandas.core.frame.DataFrame'>\n",
            "RangeIndex: 100000 entries, 0 to 99999\n",
            "Data columns (total 18 columns):\n",
            " #   Column     Non-Null Count   Dtype  \n",
            "---  ------     --------------   -----  \n",
            " 0   objid      100000 non-null  int64  \n",
            " 1   ra         100000 non-null  float64\n",
            " 2   dec        100000 non-null  float64\n",
            " 3   u          100000 non-null  float64\n",
            " 4   g          100000 non-null  float64\n",
            " 5   r          100000 non-null  float64\n",
            " 6   i          100000 non-null  float64\n",
            " 7   z          100000 non-null  float64\n",
            " 8   run        100000 non-null  int64  \n",
            " 9   rerun      100000 non-null  int64  \n",
            " 10  camcol     100000 non-null  int64  \n",
            " 11  field      100000 non-null  int64  \n",
            " 12  specobjid  100000 non-null  uint64 \n",
            " 13  class      100000 non-null  object \n",
            " 14  redshift   100000 non-null  float64\n",
            " 15  plate      100000 non-null  int64  \n",
            " 16  mjd        100000 non-null  int64  \n",
            " 17  fiberid    100000 non-null  int64  \n",
            "dtypes: float64(8), int64(8), object(1), uint64(1)\n",
            "memory usage: 13.7+ MB\n"
          ]
        }
      ],
      "source": [
        "data.info()"
      ]
    },
    {
      "cell_type": "markdown",
      "metadata": {
        "id": "FciWJ7sPTTi5"
      },
      "source": [
        "#### Ο τύπος των χαρακτηριστικών μας αναγράφεται στην στύλη Dtype του παραπάνω πίνακα. Επικεφαλίδες υπάρχουν πάνω από κάθε στήλη και επιπλέον υπάρχει και αρίθμηση γραμμών στο λεξικό μας."
      ]
    },
    {
      "cell_type": "code",
      "execution_count": null,
      "metadata": {
        "execution": {
          "iopub.execute_input": "2021-12-05T19:01:24.250103Z",
          "iopub.status.busy": "2021-12-05T19:01:24.249454Z",
          "iopub.status.idle": "2021-12-05T19:01:24.292865Z",
          "shell.execute_reply": "2021-12-05T19:01:24.292011Z",
          "shell.execute_reply.started": "2021-12-05T19:01:24.250068Z"
        },
        "trusted": true,
        "id": "QhohBwbcTTi5",
        "outputId": "cfdc2bc4-303b-42fa-8b48-a2e74515e048"
      },
      "outputs": [
        {
          "name": "stdout",
          "output_type": "stream",
          "text": [
            "{'STAR': 0, 'GALAXY': 1, 'QSO': 2}\n"
          ]
        }
      ],
      "source": [
        "labels = data['class']\n",
        "labels = {'STAR':0, 'GALAXY':1, 'QSO':2}\n",
        "data.replace({'class':labels}, inplace = True)\n",
        "print(labels)"
      ]
    },
    {
      "cell_type": "markdown",
      "metadata": {
        "id": "l77fBx4yTTi6"
      },
      "source": [
        "#### Στο dataset μας έχουμε ως label την στήλη 'class'(στήλη 13) η οποία προσδιορίζει αν το ουράνιο αντικείμενο είναι 'αστέρι η γαλαξίας η QSO'.Έπειτα κωδικοποιούμε τις ετικέτες με τους αριθμούς 1,2,3 αντίστοιχα για παραπάνω ευκολία. "
      ]
    },
    {
      "cell_type": "markdown",
      "metadata": {
        "id": "QTnEtxrRTTi6"
      },
      "source": [
        "### Κατηγορικά - Αριθμητικά χαρακτηριστικά\n",
        "### \n",
        "#### Το dataset μας έχει μόνο αριθμητικά χαρακτηριστικά καθώς υπάρχουν μόνο χαρακτηριστικά τύπου int και float με αριθμητικες τιμές."
      ]
    },
    {
      "cell_type": "markdown",
      "metadata": {
        "id": "m6LASRUaTTi6"
      },
      "source": [
        "## Απουσιάζουσες τιμές"
      ]
    },
    {
      "cell_type": "code",
      "execution_count": null,
      "metadata": {
        "execution": {
          "iopub.execute_input": "2021-12-05T19:01:25.096765Z",
          "iopub.status.busy": "2021-12-05T19:01:25.096487Z",
          "iopub.status.idle": "2021-12-05T19:01:25.104196Z",
          "shell.execute_reply": "2021-12-05T19:01:25.103314Z",
          "shell.execute_reply.started": "2021-12-05T19:01:25.096735Z"
        },
        "trusted": true,
        "id": "o41O6UcYTTi7",
        "outputId": "9c22b5c5-9ec8-4dc0-bbff-3964fe01ad32"
      },
      "outputs": [
        {
          "name": "stdout",
          "output_type": "stream",
          "text": [
            "False\n"
          ]
        }
      ],
      "source": [
        "check = data.isnull().values.any()\n",
        "print(check)"
      ]
    },
    {
      "cell_type": "markdown",
      "metadata": {
        "id": "gCvxe45ATTi7"
      },
      "source": [
        "####  Άρα το dataset μασ δεν έχει απουσιάζουσες τιμές."
      ]
    },
    {
      "cell_type": "markdown",
      "metadata": {
        "id": "RNIM_se_TTi7"
      },
      "source": [
        "## Μηδενικά"
      ]
    },
    {
      "cell_type": "code",
      "execution_count": null,
      "metadata": {
        "execution": {
          "iopub.execute_input": "2021-12-05T19:01:25.728597Z",
          "iopub.status.busy": "2021-12-05T19:01:25.727809Z",
          "iopub.status.idle": "2021-12-05T19:01:25.734693Z",
          "shell.execute_reply": "2021-12-05T19:01:25.733983Z",
          "shell.execute_reply.started": "2021-12-05T19:01:25.728557Z"
        },
        "trusted": true,
        "id": "F4Q3owgtTTi8",
        "outputId": "e4c347a8-d4e2-4514-a112-471bd4cd8910"
      },
      "outputs": [
        {
          "name": "stdout",
          "output_type": "stream",
          "text": [
            "0\n"
          ]
        }
      ],
      "source": [
        "cnt = 0\n",
        "for x in features:\n",
        "    for y in x:\n",
        "        if (y==0):\n",
        "            cnt+=1\n",
        "print(cnt)"
      ]
    },
    {
      "cell_type": "markdown",
      "metadata": {
        "id": "mve8I0HyTTi8"
      },
      "source": [
        "####  Άρα το dataset μας δεν έχει μηδενικά"
      ]
    },
    {
      "cell_type": "markdown",
      "metadata": {
        "id": "ujSwJqQ-TTi8"
      },
      "source": [
        "## Balance"
      ]
    },
    {
      "cell_type": "code",
      "execution_count": null,
      "metadata": {
        "execution": {
          "iopub.execute_input": "2021-12-05T19:01:26.906295Z",
          "iopub.status.busy": "2021-12-05T19:01:26.906021Z",
          "iopub.status.idle": "2021-12-05T19:01:26.913642Z",
          "shell.execute_reply": "2021-12-05T19:01:26.912981Z",
          "shell.execute_reply.started": "2021-12-05T19:01:26.906264Z"
        },
        "trusted": true,
        "id": "2Qtp5YKbTTi8",
        "outputId": "7057d37e-b0bf-46bc-e2cb-33775d7a1568"
      },
      "outputs": [
        {
          "data": {
            "text/plain": [
              "1    51323\n",
              "0    38096\n",
              "2    10581\n",
              "Name: class, dtype: int64"
            ]
          },
          "execution_count": 10,
          "metadata": {},
          "output_type": "execute_result"
        }
      ],
      "source": [
        "data['class'].value_counts()"
      ]
    },
    {
      "cell_type": "markdown",
      "metadata": {
        "id": "px5jB5duTTi9"
      },
      "source": [
        "####  Το πλήθος των κλάσεων είναι 3 και συνολικά έχουμε 100000 δείγματα. Η κλάση 1 (Star) είναι 38.096% του συνόλου, η κλάση 2 (Galaxy) είναι 51.323% του συνόλου και η κλάση 3 (QSo) είναι 10.581%. Άρα το dataset μας είναι imbalanced καθώς οι κλάσεις 1 και 2 είναι πάνω από 1,5 φορά μεγαλύτερες από την κλάση 3. Παρακάτω οπτικοποιούμε τα παραπάνω αποτελέσματα."
      ]
    },
    {
      "cell_type": "code",
      "execution_count": null,
      "metadata": {
        "execution": {
          "iopub.execute_input": "2021-12-05T19:01:27.441813Z",
          "iopub.status.busy": "2021-12-05T19:01:27.441065Z",
          "iopub.status.idle": "2021-12-05T19:01:27.635035Z",
          "shell.execute_reply": "2021-12-05T19:01:27.634173Z",
          "shell.execute_reply.started": "2021-12-05T19:01:27.441775Z"
        },
        "trusted": true,
        "id": "q7rO7OVCTTi9",
        "outputId": "96267c75-0583-44ac-cf8e-14e178c06226"
      },
      "outputs": [
        {
          "name": "stderr",
          "output_type": "stream",
          "text": [
            "/opt/conda/lib/python3.7/site-packages/seaborn/_decorators.py:43: FutureWarning: Pass the following variable as a keyword arg: x. From version 0.12, the only valid positional argument will be `data`, and passing other arguments without an explicit keyword will result in an error or misinterpretation.\n",
            "  FutureWarning\n"
          ]
        },
        {
          "data": {
            "text/plain": [
              "<AxesSubplot:xlabel='class', ylabel='count'>"
            ]
          },
          "execution_count": 11,
          "metadata": {},
          "output_type": "execute_result"
        },
        {
          "data": {
            "image/png": "[encoded data removed]",
            "text/plain": [
              "<Figure size 576x432 with 1 Axes>"
            ]
          },
          "metadata": {},
          "output_type": "display_data"
        }
      ],
      "source": [
        "sns.set_style('darkgrid')\n",
        "\n",
        "plt.figure(figsize = (8,6))\n",
        "\n",
        "sns.countplot(data['class'], palette = 'magma')"
      ]
    },
    {
      "cell_type": "markdown",
      "metadata": {
        "id": "FaiOIaaHTTi9"
      },
      "source": [
        "## Feature Drop"
      ]
    },
    {
      "cell_type": "markdown",
      "metadata": {
        "id": "8eAnlBaNTTi-"
      },
      "source": [
        "#### Όσον αφορά τα χαρακτηριστικά μας παρατηρούμε πως δεν σχετίζονται όλα με το είδος του ουράνιου αντικειμένου οπότε και θα τα αφαιρέσουμε από το dataset μας. Πιο συγκεκριμένα τα χαρακτηριστικά 'objid' και 'specobjid' αφορούν μόνο στην παρουσίαση του dataset και την επιστροφή των στηλών. Οπότε δεν αφορούν το classification των αντικειμένων μας και έτσι τα αποβάλλουμε. Επιπλέον, τα χαρακτηριστικά 'run', 'rerun', 'camcol', 'field' και 'fiberid' αφορούν στοιχεία της κάμερας που φωτογράφισε τα αντικείμενα μας και έτσι δεν έχουν σχέση με την κατηγοριοπίηση των αντικειμένων και έτσι τα αποβάλλουμε."
      ]
    },
    {
      "cell_type": "code",
      "execution_count": null,
      "metadata": {
        "execution": {
          "iopub.execute_input": "2021-12-05T19:01:28.739809Z",
          "iopub.status.busy": "2021-12-05T19:01:28.739417Z",
          "iopub.status.idle": "2021-12-05T19:01:28.763170Z",
          "shell.execute_reply": "2021-12-05T19:01:28.762357Z",
          "shell.execute_reply.started": "2021-12-05T19:01:28.739780Z"
        },
        "trusted": true,
        "id": "AzBohOkITTi-",
        "outputId": "ab5a8b7f-81f7-4be5-b5c3-2e4ae05dd249"
      },
      "outputs": [
        {
          "data": {
            "text/html": [
              "<div>\n",
              "<style scoped>\n",
              "    .dataframe tbody tr th:only-of-type {\n",
              "        vertical-align: middle;\n",
              "    }\n",
              "\n",
              "    .dataframe tbody tr th {\n",
              "        vertical-align: top;\n",
              "    }\n",
              "\n",
              "    .dataframe thead th {\n",
              "        text-align: right;\n",
              "    }\n",
              "</style>\n",
              "<table border=\"1\" class=\"dataframe\">\n",
              "  <thead>\n",
              "    <tr style=\"text-align: right;\">\n",
              "      <th></th>\n",
              "      <th>ra</th>\n",
              "      <th>dec</th>\n",
              "      <th>u</th>\n",
              "      <th>g</th>\n",
              "      <th>r</th>\n",
              "      <th>i</th>\n",
              "      <th>z</th>\n",
              "      <th>class</th>\n",
              "      <th>redshift</th>\n",
              "      <th>plate</th>\n",
              "      <th>mjd</th>\n",
              "    </tr>\n",
              "  </thead>\n",
              "  <tbody>\n",
              "    <tr>\n",
              "      <th>0</th>\n",
              "      <td>47.372545</td>\n",
              "      <td>0.820621</td>\n",
              "      <td>18.69254</td>\n",
              "      <td>17.13867</td>\n",
              "      <td>16.55555</td>\n",
              "      <td>16.34662</td>\n",
              "      <td>16.17639</td>\n",
              "      <td>0</td>\n",
              "      <td>0.000115</td>\n",
              "      <td>7255</td>\n",
              "      <td>56597</td>\n",
              "    </tr>\n",
              "    <tr>\n",
              "      <th>1</th>\n",
              "      <td>116.303083</td>\n",
              "      <td>42.455980</td>\n",
              "      <td>18.47633</td>\n",
              "      <td>17.30546</td>\n",
              "      <td>17.24116</td>\n",
              "      <td>17.32780</td>\n",
              "      <td>17.37114</td>\n",
              "      <td>0</td>\n",
              "      <td>-0.000093</td>\n",
              "      <td>8290</td>\n",
              "      <td>57364</td>\n",
              "    </tr>\n",
              "    <tr>\n",
              "      <th>2</th>\n",
              "      <td>172.756623</td>\n",
              "      <td>-8.785698</td>\n",
              "      <td>16.47714</td>\n",
              "      <td>15.31072</td>\n",
              "      <td>15.55971</td>\n",
              "      <td>15.72207</td>\n",
              "      <td>15.82471</td>\n",
              "      <td>0</td>\n",
              "      <td>0.000165</td>\n",
              "      <td>2861</td>\n",
              "      <td>54583</td>\n",
              "    </tr>\n",
              "  </tbody>\n",
              "</table>\n",
              "</div>"
            ],
            "text/plain": [
              "           ra        dec         u         g         r         i         z  \\\n",
              "0   47.372545   0.820621  18.69254  17.13867  16.55555  16.34662  16.17639   \n",
              "1  116.303083  42.455980  18.47633  17.30546  17.24116  17.32780  17.37114   \n",
              "2  172.756623  -8.785698  16.47714  15.31072  15.55971  15.72207  15.82471   \n",
              "\n",
              "   class  redshift  plate    mjd  \n",
              "0      0  0.000115   7255  56597  \n",
              "1      0 -0.000093   8290  57364  \n",
              "2      0  0.000165   2861  54583  "
            ]
          },
          "execution_count": 12,
          "metadata": {},
          "output_type": "execute_result"
        }
      ],
      "source": [
        "data.drop(['run', 'rerun', 'camcol', 'field', 'objid', 'specobjid', \n",
        "              'fiberid'], axis = 1, inplace = True)\n",
        "\n",
        "data.head(3)"
      ]
    },
    {
      "cell_type": "code",
      "execution_count": null,
      "metadata": {
        "execution": {
          "iopub.execute_input": "2021-12-05T19:01:29.160988Z",
          "iopub.status.busy": "2021-12-05T19:01:29.160450Z",
          "iopub.status.idle": "2021-12-05T19:01:30.057615Z",
          "shell.execute_reply": "2021-12-05T19:01:30.056698Z",
          "shell.execute_reply.started": "2021-12-05T19:01:29.160941Z"
        },
        "trusted": true,
        "id": "6V9Zm4HXTTi-",
        "outputId": "7c722f78-a476-4637-f361-d5540cd70e93"
      },
      "outputs": [
        {
          "data": {
            "text/plain": [
              "<AxesSubplot:>"
            ]
          },
          "execution_count": 13,
          "metadata": {},
          "output_type": "execute_result"
        },
        {
          "data": {
            "image/png": "[encoded data removed]",
            "text/plain": [
              "<Figure size 864x720 with 2 Axes>"
            ]
          },
          "metadata": {},
          "output_type": "display_data"
        }
      ],
      "source": [
        "corr = data.corr()\n",
        "\n",
        "plt.figure(figsize = (12,10))\n",
        "\n",
        "sns.heatmap(corr, annot = True)"
      ]
    },
    {
      "cell_type": "markdown",
      "metadata": {
        "id": "po6c4YBiTTi-"
      },
      "source": [
        "## Train and test split"
      ]
    },
    {
      "cell_type": "markdown",
      "metadata": {
        "id": "uazJegd3TTi_"
      },
      "source": [
        "#### Παρακάτω χωρίζουμε τα δεδομένα μας σε train και test "
      ]
    },
    {
      "cell_type": "code",
      "execution_count": null,
      "metadata": {
        "execution": {
          "iopub.execute_input": "2021-12-05T19:01:30.089079Z",
          "iopub.status.busy": "2021-12-05T19:01:30.088754Z",
          "iopub.status.idle": "2021-12-05T19:01:30.099658Z",
          "shell.execute_reply": "2021-12-05T19:01:30.099070Z",
          "shell.execute_reply.started": "2021-12-05T19:01:30.089045Z"
        },
        "trusted": true,
        "id": "leRxw89gTTi_"
      },
      "outputs": [],
      "source": [
        "X = data.drop('class', axis = 1).values\n",
        "Y = data['class'].values"
      ]
    },
    {
      "cell_type": "code",
      "execution_count": null,
      "metadata": {
        "execution": {
          "iopub.execute_input": "2021-12-05T19:01:30.367114Z",
          "iopub.status.busy": "2021-12-05T19:01:30.366343Z",
          "iopub.status.idle": "2021-12-05T19:01:30.386650Z",
          "shell.execute_reply": "2021-12-05T19:01:30.385707Z",
          "shell.execute_reply.started": "2021-12-05T19:01:30.367070Z"
        },
        "trusted": true,
        "id": "1hd3btJtTTi_"
      },
      "outputs": [],
      "source": [
        "x_train, x_test, y_train, y_test = train_test_split(X, Y, test_size=0.3)"
      ]
    },
    {
      "cell_type": "markdown",
      "metadata": {
        "id": "2iRueFauTTi_"
      },
      "source": [
        "## Baseline Classification\n",
        "\n",
        "#### Θα ξεκινήσουμε την ενότητα του classification με την εισαγωγή  dummy classifiers για να έχουμε ένα baseline για τους υπόλοιπους ταξινομητές μας."
      ]
    },
    {
      "cell_type": "markdown",
      "metadata": {
        "id": "breHlrzjTTi_"
      },
      "source": [
        "## Μετρικές \n",
        "\n",
        "\n",
        "#### Για τους ταξινομητές μας θα επιλέξουμε τις μετρικές accuracy και f1_macro. Το accuracy αποτελεί την πιο απόλυτη μετρική και θα την χρησιμοποιήσουμε καθώς στο dataset μας, μας απασχολεί η ορθότητα αναγνώρισης της κάθες κλάσης από τον ταξινομητή μας για την σωστή χαρτογράφηση του σύμπαντος. Η f1_macro επιλέγεται καθώς έχουμε multiclass classification και μας ενδιαφέρει η βαρύτητα της κάθε κλάσης ξεχωριστά. Παράλληλα, δεν μας ενδιαφέρουν οι μετρικές precision και recall, καθώς μας ενδιαφέρει η μακροχρόνια παρατήρηση του σύμπαντος και άρα δεν μας απασχολούν τα false negative kai false positive metrics."
      ]
    },
    {
      "cell_type": "code",
      "execution_count": null,
      "metadata": {
        "execution": {
          "iopub.execute_input": "2021-12-05T19:01:31.614633Z",
          "iopub.status.busy": "2021-12-05T19:01:31.614092Z",
          "iopub.status.idle": "2021-12-05T19:01:31.619815Z",
          "shell.execute_reply": "2021-12-05T19:01:31.619024Z",
          "shell.execute_reply.started": "2021-12-05T19:01:31.614591Z"
        },
        "trusted": true,
        "id": "nNAVN_K2TTjA"
      },
      "outputs": [],
      "source": [
        "f1_macro = {}"
      ]
    },
    {
      "cell_type": "code",
      "execution_count": null,
      "metadata": {
        "execution": {
          "iopub.execute_input": "2021-12-05T19:01:31.989935Z",
          "iopub.status.busy": "2021-12-05T19:01:31.989644Z",
          "iopub.status.idle": "2021-12-05T19:01:32.242616Z",
          "shell.execute_reply": "2021-12-05T19:01:32.240539Z",
          "shell.execute_reply.started": "2021-12-05T19:01:31.989902Z"
        },
        "trusted": true,
        "id": "inP15KEvTTjA",
        "outputId": "a90a909c-586e-43c3-f46b-ec5138d002f3"
      },
      "outputs": [
        {
          "name": "stdout",
          "output_type": "stream",
          "text": [
            "\u001b[1m Strategy: uniform\u001b[0m\n",
            "\n",
            "F1 macro \n",
            "0.30957558099314486 \n",
            "\n"
          ]
        },
        {
          "data": {
            "image/png": "[encoded data removed]",
            "text/plain": [
              "<Figure size 360x360 with 2 Axes>"
            ]
          },
          "metadata": {},
          "output_type": "display_data"
        }
      ],
      "source": [
        "dc_uniform = DummyClassifier(strategy=\"uniform\")\n",
        "dc_uniform.fit(x_train,y_train)\n",
        "\n",
        "preds = dc_uniform.predict(x_test)\n",
        "\n",
        "print('\\033[1m'+\" Strategy: uniform\"+'\\033[0m'+\"\\n\")\n",
        "\n",
        "f1_macro['Unif']=f1_score(y_test,preds,average='macro')\n",
        "\n",
        "print(\"F1 macro \")\n",
        "print(f1_macro['Unif'],\"\\n\")\n",
        "\n",
        "fig, ax = plt.subplots(figsize=(5, 5))\n",
        "plot_confusion_matrix(dc_uniform, x_test, y_test,ax=ax)  \n",
        "plt.title('Confusion matrix for the Uniform')\n",
        "plt.xlabel('Predicted')\n",
        "plt.ylabel('Actual')\n",
        "plt.show()  "
      ]
    },
    {
      "cell_type": "code",
      "execution_count": null,
      "metadata": {
        "execution": {
          "iopub.execute_input": "2021-12-05T19:01:32.368780Z",
          "iopub.status.busy": "2021-12-05T19:01:32.368076Z",
          "iopub.status.idle": "2021-12-05T19:01:32.787053Z",
          "shell.execute_reply": "2021-12-05T19:01:32.786225Z",
          "shell.execute_reply.started": "2021-12-05T19:01:32.368736Z"
        },
        "trusted": true,
        "id": "ZrP1_MuyTTjA",
        "outputId": "98a5c255-3eb8-405a-e0b7-2420a0e37bc4"
      },
      "outputs": [
        {
          "name": "stdout",
          "output_type": "stream",
          "text": [
            "\u001b[1mStrategy: Most Frequent\u001b[0m\n",
            "\n",
            "F1 macro \n",
            "0.2257592792633907 \n",
            "\n"
          ]
        },
        {
          "data": {
            "image/png": "[encoded data removed]",
            "text/plain": [
              "<Figure size 360x360 with 2 Axes>"
            ]
          },
          "metadata": {},
          "output_type": "display_data"
        }
      ],
      "source": [
        "# Strategy: Most Frequent\n",
        "dc_most_frequent = DummyClassifier(strategy=\"most_frequent\")\n",
        "dc_most_frequent.fit(x_train,y_train)\n",
        "\n",
        "pred_MF = dc_most_frequent.predict(x_test)\n",
        "\n",
        "print('\\033[1m'+\"Strategy: Most Frequent\"+'\\033[0m'+\"\\n\")\n",
        "\n",
        "f1_macro['MFreq']=f1_score(y_test,pred_MF,average='macro')\n",
        "\n",
        "print(\"F1 macro \")\n",
        "print(f1_macro['MFreq'],\"\\n\")\n",
        "\n",
        "fig, ax = plt.subplots(figsize=(5,5))\n",
        "plot_confusion_matrix(dc_most_frequent, x_test, y_test, ax=ax)\n",
        "plt.title('Confusion matrix for the Most Frequent')\n",
        "plt.xlabel('Predicted')\n",
        "plt.ylabel('Actual')\n",
        "plt.show()  "
      ]
    },
    {
      "cell_type": "code",
      "execution_count": null,
      "metadata": {
        "execution": {
          "iopub.execute_input": "2021-12-05T19:01:33.247911Z",
          "iopub.status.busy": "2021-12-05T19:01:33.247656Z",
          "iopub.status.idle": "2021-12-05T19:01:33.548633Z",
          "shell.execute_reply": "2021-12-05T19:01:33.548046Z",
          "shell.execute_reply.started": "2021-12-05T19:01:33.247885Z"
        },
        "trusted": true,
        "id": "WVFVgvFaTTjA",
        "outputId": "5f568b3b-b03e-4260-a4dc-8cfec4182885"
      },
      "outputs": [
        {
          "name": "stdout",
          "output_type": "stream",
          "text": [
            "\u001b[1mStrategy: stratified\u001b[0m\n",
            "\n",
            "\n",
            "\n",
            "F1 macro \n",
            "0.3304885503944546 \n",
            "\n"
          ]
        },
        {
          "data": {
            "image/png": "[encoded data removed]",
            "text/plain": [
              "<Figure size 360x360 with 2 Axes>"
            ]
          },
          "metadata": {},
          "output_type": "display_data"
        }
      ],
      "source": [
        "# Strategy: Strafified\n",
        "dc_stratified = DummyClassifier(strategy=\"stratified\")\n",
        "dc_stratified.fit(x_train,y_train)\n",
        "\n",
        "pred_Strat = dc_stratified.predict(x_test)\n",
        "\n",
        "print('\\033[1m'+\"Strategy: stratified\"+'\\033[0m'+\"\\n\")\n",
        "\n",
        "f1_macro['Strat']=f1_score(y_test,pred_Strat,average='macro')\n",
        "print('\\n')\n",
        "print(\"F1 macro \")\n",
        "print(f1_macro['Strat'],\"\\n\")\n",
        "\n",
        "fig, ax = plt.subplots(figsize=(5, 5))\n",
        "plot_confusion_matrix(dc_stratified, x_test, y_test,ax=ax)\n",
        "plt.title('Confusion matrix for the Strafified')\n",
        "plt.xlabel('Predicted')\n",
        "plt.ylabel('Actual')\n",
        "plt.show()  "
      ]
    },
    {
      "cell_type": "code",
      "execution_count": null,
      "metadata": {
        "execution": {
          "iopub.execute_input": "2021-12-05T19:01:33.642243Z",
          "iopub.status.busy": "2021-12-05T19:01:33.641937Z",
          "iopub.status.idle": "2021-12-05T19:07:55.978304Z",
          "shell.execute_reply": "2021-12-05T19:07:55.977247Z",
          "shell.execute_reply.started": "2021-12-05T19:01:33.642211Z"
        },
        "trusted": true,
        "id": "SnH102PhTTjB",
        "outputId": "3595ab65-60e9-4ac5-d055-c8e3d387fd36"
      },
      "outputs": [
        {
          "name": "stdout",
          "output_type": "stream",
          "text": [
            "\u001b[1mSVM\u001b[0m\n",
            "\n",
            "\n",
            "              precision    recall  f1-score   support\n",
            "\n",
            "           0       0.61      0.67      0.64     11440\n",
            "           1       0.69      0.78      0.73     15361\n",
            "           2       0.00      0.00      0.00      3199\n",
            "\n",
            "    accuracy                           0.66     30000\n",
            "   macro avg       0.43      0.48      0.46     30000\n",
            "weighted avg       0.59      0.66      0.62     30000\n",
            " \n",
            "\n",
            "\n",
            "F1 macro \n",
            "0.45756654926485313 \n",
            "\n"
          ]
        },
        {
          "name": "stderr",
          "output_type": "stream",
          "text": [
            "/opt/conda/lib/python3.7/site-packages/sklearn/metrics/_classification.py:1221: UndefinedMetricWarning: Precision and F-score are ill-defined and being set to 0.0 in labels with no predicted samples. Use `zero_division` parameter to control this behavior.\n",
            "  _warn_prf(average, modifier, msg_start, len(result))\n"
          ]
        },
        {
          "data": {
            "image/png": "[encoded data removed]",
            "text/plain": [
              "<Figure size 432x288 with 2 Axes>"
            ]
          },
          "metadata": {},
          "output_type": "display_data"
        }
      ],
      "source": [
        " svc = SVC()\n",
        "\n",
        "svc.fit(x_train,y_train)\n",
        "svc_pred = svc.predict(x_test)\n",
        "\n",
        "print('\\033[1m'+\"SVM\"+'\\033[0m'+\"\\n\\n\")\n",
        "print(classification_report(y_test,svc_pred),\"\\n\\n\")\n",
        "\n",
        "f1_macro['SVC']=f1_score(y_test,svc_pred,average='macro')\n",
        "\n",
        "print(\"F1 macro \")\n",
        "print(f1_macro['SVC'],\"\\n\")\n",
        "\n",
        "plot_confusion_matrix(svc, x_test, y_test)  \n",
        "plt.title('Confusion matrix for the SVC')\n",
        "plt.xlabel('Predicted')\n",
        "plt.ylabel('Actual')\n",
        "plt.show()  "
      ]
    },
    {
      "cell_type": "code",
      "execution_count": null,
      "metadata": {
        "execution": {
          "iopub.execute_input": "2021-12-05T19:07:55.980094Z",
          "iopub.status.busy": "2021-12-05T19:07:55.979853Z",
          "iopub.status.idle": "2021-12-05T19:08:36.256270Z",
          "shell.execute_reply": "2021-12-05T19:08:36.255429Z",
          "shell.execute_reply.started": "2021-12-05T19:07:55.980068Z"
        },
        "trusted": true,
        "id": "RE1NovVyTTjB",
        "outputId": "1f02713d-3938-480b-913a-a8c5bbb658df"
      },
      "outputs": [
        {
          "name": "stdout",
          "output_type": "stream",
          "text": [
            "\u001b[1mMultilayer Perceptron\u001b[0m\n",
            "\n",
            "\n",
            "              precision    recall  f1-score   support\n",
            "\n",
            "           0       0.57      0.79      0.66     11440\n",
            "           1       0.83      0.57      0.67     15361\n",
            "           2       0.74      0.85      0.80      3199\n",
            "\n",
            "    accuracy                           0.68     30000\n",
            "   macro avg       0.71      0.74      0.71     30000\n",
            "weighted avg       0.72      0.68      0.68     30000\n",
            " \n",
            "\n",
            "\n",
            "F1 macro \n",
            "0.7103796291928596 \n",
            "\n"
          ]
        },
        {
          "data": {
            "image/png": "[encoded data removed]",
            "text/plain": [
              "<Figure size 432x288 with 2 Axes>"
            ]
          },
          "metadata": {},
          "output_type": "display_data"
        }
      ],
      "source": [
        "MLP = MLPClassifier()\n",
        "\n",
        "MLP.fit(x_train,y_train)\n",
        "mlp_pred = MLP.predict(x_test)\n",
        "\n",
        "print('\\033[1m'+\"Multilayer Perceptron\"+'\\033[0m'+\"\\n\\n\")\n",
        "print(classification_report(y_test,mlp_pred),\"\\n\\n\")\n",
        "\n",
        "f1_macro['MLP']=f1_score(y_test,mlp_pred,average='macro')\n",
        "\n",
        "print(\"F1 macro \")\n",
        "print(f1_macro['MLP'],\"\\n\")\n",
        "\n",
        "plot_confusion_matrix(MLP, x_test, y_test)  \n",
        "plt.title('Confusion matrix for the MLP')\n",
        "plt.xlabel('Predicted')\n",
        "plt.ylabel('Actual')\n",
        "plt.show()  \n"
      ]
    },
    {
      "cell_type": "code",
      "execution_count": null,
      "metadata": {
        "execution": {
          "iopub.execute_input": "2021-12-05T19:08:36.258310Z",
          "iopub.status.busy": "2021-12-05T19:08:36.257624Z",
          "iopub.status.idle": "2021-12-05T19:08:36.466744Z",
          "shell.execute_reply": "2021-12-05T19:08:36.465907Z",
          "shell.execute_reply.started": "2021-12-05T19:08:36.258265Z"
        },
        "trusted": true,
        "id": "VUxcr-e7TTjB",
        "outputId": "a3b81f55-3255-4733-ae3e-23fe0abadd03"
      },
      "outputs": [
        {
          "data": {
            "image/png": "[encoded data removed]",
            "text/plain": [
              "<Figure size 720x504 with 1 Axes>"
            ]
          },
          "metadata": {},
          "output_type": "display_data"
        }
      ],
      "source": [
        "plt.rcParams[\"figure.figsize\"] = (10,7)\n",
        "\n",
        "\n",
        "plt.title('F1_macro scores')\n",
        "plt.bar(range(len(f1_macro)), list(f1_macro.values()), align='center')\n",
        "plt.xticks(range(len(f1_macro)), list(f1_macro.keys()))\n",
        "plt.grid(True)\n",
        "\n",
        "plt.show()"
      ]
    },
    {
      "cell_type": "markdown",
      "metadata": {
        "id": "TeZp9rZmTTjB"
      },
      "source": [
        "### Σχολιασμός :\n",
        "### \n",
        "#### Με βάση τα παραπάνω παρατηρούμε πως η επίδοση του ταξινομητή SVM στo out of the box classification είναι αρκετά χαμηλή καθώς δεν διαφέροει σημαντικά από τους dummy classifiers. Αυτό το αποτέλεσμα μπορεί να ερμηνευτεί από το γεγονός ότι δεν χρησιμοποιήθηκαν υπερπαράμετροι (εξού και out of the box) , από το πολύ μεγάλο imbalance του dataset που οδηγεί τους ταξινομητές να αγνοούν την μικρότερη σε συχνότητα κλάση και από το γεγονός πως τα χαρακτηριστικά μας δεν είναι κανονικοποιημένα. Όλα τα παραπάνω μας δίνουν αρκετό έδαφος για βελτιστοποίηση στα παρακάτω βήματα και για τους 2 ταξινομητές."
      ]
    },
    {
      "cell_type": "markdown",
      "metadata": {
        "id": "spF3_kCjTTjC"
      },
      "source": [
        "### ****Βελτιστοποίηση ταξινομητών****"
      ]
    },
    {
      "cell_type": "markdown",
      "metadata": {
        "id": "Tf6AOuQmTTjC"
      },
      "source": [
        "### Προεπεξεργασία δεδομένων \n",
        "#### \n",
        "#### Δεν έχουμε απουσιάζουσες τιμές χαρακτηριστικών, άρα δεν υπάρχει κάποια βελτιστοποίηση να πραγματοποιηθεί στο συγκεκριμένο κομμάτι.\n",
        "#### \n",
        "#### Όλα μας τα χαρακτηριστικά είναι αριθμητικά, κι έτσι δεν υπάρχει κάποια τροποποίηση που πρέπει να γίνει στα δεδομένα μας.\n",
        "#### \n",
        "#### Αρχικά θα προχωρήσουμε σε κανονικοποίηση του dataset. Επιπλέον το dataset μας είναι imbalanced οπότε πρέπει να το εξισορροπήσουμε. Θα δουλέψουμε από κάτω προς τα πάνω δηλαδή θα εφαρμόζουμε μια μια τις τεχνικές βελτιστοποίησης και θα παρατηρούμε τα αποτελέσματα στους ταξινομητές μας μέχρι να παρατηρήσουμε τα καλύτερα scores για αυτες τις δύο τεχνικές. Τέλος θα δουλέψουμε ξεχωριστά για τον κάθε ταξινομητή με την χρήση της βιβλιοθήκης Optuna για να βρούμε τις καλύτερες υπερπαραμέτρους."
      ]
    },
    {
      "cell_type": "markdown",
      "metadata": {
        "id": "hBF-7PaJTTjC"
      },
      "source": [
        "### Scaling\n",
        "#### \n",
        "#### Επιλέγουμε τον min-max scaler καθώς οι τιμές του dataset μας έχουν μεγάλες διαφορές και θέλουμε να τις εξισορροπήσουμε γύρω από το διάστημα [0,1].Τα SVM αποτελούν διαχωριστικούς ταξινομητές, οι οποίοι καθώς επιδιώκουν να βρουν μια ευθεία (ή καμπύλη) ή πολύπτυχο (για περισσότερες διαστάσεις) τα οποία να διαχωρίζουν / διακρίνουν τις κατηγορίες μεταξύ τους, συμφέρει να περιορίσουμε τις τιμές μας στο [0,1] για την μείβση των διαστημάτων αναζήτησης. Επιπλέον στο documεntation του MLP αναφέρεται πως είναι ιδιαίτερα sensitive στην κανονικοποίηση και άρα αυτή η τεχνική ενδείκνυται για την βελτιστοποίση του. Παρενθεση : Στο kaggle στο section 'code' όπου υπάρχουν εργασίες classification από άλλους ερευνητές πάνω στο συγκεκριμένο dataset προτείνεται η χρήση του Robust scaler. Στην δοκιμή που κάναμε φαίνεται να δίνει οριακά καλύτερα αποτελέσματα από τον minmax και να βελτιώνει ελάχσιτα τα scores. Παρόλα αυτά για τους σκοπούς του μαθήματος δεν χρησιμοποιήθηκε καθώς δεν θεωρήθηκε θεμιτό να παρθεί έτσι μια πηγή χωρίς να έχουμε κάποιο πρότερο στοιχείο για την χρήση της.Παρόλα αυτά αναφέρεται σε αυτή την παρένθεση για ερευνητικούς σκοπούς και για χάριν εύρεσης της βέλτιστης λύσης."
      ]
    },
    {
      "cell_type": "code",
      "execution_count": null,
      "metadata": {
        "execution": {
          "iopub.execute_input": "2021-12-05T19:23:14.838887Z",
          "iopub.status.busy": "2021-12-05T19:23:14.837730Z",
          "iopub.status.idle": "2021-12-05T19:23:14.860273Z",
          "shell.execute_reply": "2021-12-05T19:23:14.859527Z",
          "shell.execute_reply.started": "2021-12-05T19:23:14.838840Z"
        },
        "trusted": true,
        "id": "wxQ8JC6fTTjC"
      },
      "outputs": [],
      "source": [
        "min_max_scaler = preprocessing.MinMaxScaler()\n",
        "X_train_minmax = min_max_scaler.fit_transform(x_train)\n",
        "#print(X_train_minmax, \"\\n\")\n",
        "X_test_minmax = min_max_scaler.transform(x_test)\n",
        "#print(X_test_minmax)"
      ]
    },
    {
      "cell_type": "markdown",
      "metadata": {
        "id": "CQDdYmpvTTjC"
      },
      "source": [
        "### Balance\n",
        "### \n",
        "#### Χρησιμοποιούμε την μέθοδο under sampling καθώς έχουμε πολύ μεγάλο, σε μέγεθος, dataset και η διαδικασία αυτή προτιμάται για την μείωση του υπολογιστικού κόστους. Η ιδέα για την χρήση αυτής της μεθόδου προήλθε από το γεγονός πως οι classifiers δουλεύουν καλύτερα σε ισορροπημένα sets και το δικό μας παρουσίαζε μεγάλο imbalnce ιδιαίτερα στην 3η κλάση. Ένας κίνδυνος που προκύπτει από το under sampling είναι η απώλεια σημαντικών δειγμάτων, όμως θεωρούμε πως στην συγκεκριμένη περίπτωση δεν θα επηρεάσει την μελέτη μας καθώς (παρά το feaute drop που εφαρμόσαμε στο πρώτο μέρος) αρκετά από τα χαρακτηριστικά μας έχουν μικρές τιμές και διακύμνση και έτσι δεν χάνουμε ιδιαίτερα σημαντική πληροφορία. "
      ]
    },
    {
      "cell_type": "code",
      "execution_count": null,
      "metadata": {
        "execution": {
          "iopub.execute_input": "2021-12-05T19:23:17.098011Z",
          "iopub.status.busy": "2021-12-05T19:23:17.097575Z",
          "iopub.status.idle": "2021-12-05T19:23:17.139645Z",
          "shell.execute_reply": "2021-12-05T19:23:17.138710Z",
          "shell.execute_reply.started": "2021-12-05T19:23:17.097979Z"
        },
        "trusted": true,
        "id": "Til3AAglTTjD",
        "outputId": "20abe88b-3be2-4cf1-9eb5-8efc0cb47290"
      },
      "outputs": [
        {
          "name": "stdout",
          "output_type": "stream",
          "text": [
            "[(0, 7382), (1, 7382), (2, 7382)]\n"
          ]
        }
      ],
      "source": [
        "sampler = RandomUnderSampler()\n",
        "X_resampled, y_resampled = sampler.fit_resample(X_train_minmax, y_train)\n",
        "print(sorted(Counter(y_resampled).items()))"
      ]
    },
    {
      "cell_type": "markdown",
      "metadata": {
        "id": "rExlCYreTTjD"
      },
      "source": [
        "#### PCA\n",
        "##### Tέλος θα εφαρμόσουμε την μέθοδο ανάλυσης σε κύριες συνιστώσες. Έπειτα από πειραματισμό παρατηρήσαμε πως για όλα τα n μέσα στο αποδεκτό διάστημα παρατηρήθηκε μείωση της απόδοσης και των δύο ταξινομητών. Συγκεκριμένα για τις τιμές 8,9,10 ο MLP παρουσίαζε οριακή μείωση των μετρικών ενώ ο SVM καθαρή μείωση. Στις τιμές <8 και οι δυο ταξινομητές παρουσιάζουν πολύ αισθητή μείωση επιδόσεων με τον SVM να φτάνει σε ποσοστά μικρότερα του out of the box. Γι αυτό τον λόγο επιλέγουμε να μην εφαρμόσουμε την μέθοδο pca στο dataset μας. Παρακάτω παραθέτουμε σε σχόλια τις δοκιμές που έγιναν και τελικά δεν χρησιμοποιήθηκαν. "
      ]
    },
    {
      "cell_type": "code",
      "execution_count": null,
      "metadata": {
        "execution": {
          "iopub.execute_input": "2021-12-04T23:27:15.88053Z",
          "iopub.status.busy": "2021-12-04T23:27:15.880266Z",
          "iopub.status.idle": "2021-12-04T23:27:15.917856Z",
          "shell.execute_reply": "2021-12-04T23:27:15.916923Z",
          "shell.execute_reply.started": "2021-12-04T23:27:15.880497Z"
        },
        "trusted": true,
        "id": "qv_qpAzrTTjD"
      },
      "outputs": [],
      "source": [
        "# n = 1,2,3,4,5,6,7,8,9,10\n",
        "# pca = PCA(n_components=n)\n",
        "# trainPCA = pca.fit_transform(X_resampled)\n",
        "# testPCA = pca.transform(X_test_minmax)\n",
        "# print(X_resampled.shape)\n",
        "# print(trainPCA.shape)\n",
        "# print(\"\")\n",
        "# print(testPCA.shape)"
      ]
    },
    {
      "cell_type": "markdown",
      "metadata": {
        "id": "wexnHrDzTTjD"
      },
      "source": [
        "#### "
      ]
    },
    {
      "cell_type": "markdown",
      "metadata": {
        "id": "FcyN-APFTTjD"
      },
      "source": [
        "<!-- ### Scaling\n",
        "### \n",
        "#### Το scikit learn στο documantation του MLP λέει πως ο συγκεκριμένος ταξινομητής είναι ιδιαίτερα sensitive στο scaling δηλαδή ότι με το κατάλληλο scaling αποφέρει πολύ καλύτερα αποτελέσματα. Έτσι εφαρμόζουμε τον Robust scaler του οποίου η ιδέα μας δόθηκε από την παρουσίαση του dataset του kaggle και διαβάσαμε περισσότερα εδώ :https://scikit-learn.org/stable/modules/generated/sklearn.preprocessing.RobustScaler.html. Ο συγκεκριμένος scaler ουσιαστικά εφαρμόζει πρώτα centering στα δεδομένα μας και έπειτα τα κανονικοποιεί. -->"
      ]
    },
    {
      "cell_type": "markdown",
      "metadata": {
        "id": "vKCHSTXpTTjE"
      },
      "source": [
        "### MLP optimazation"
      ]
    },
    {
      "cell_type": "markdown",
      "metadata": {
        "id": "2jY2ggNeTTjE"
      },
      "source": [
        "#### Για την βελτιστοποίηση του MLP θα χρησιμοποιήσουμε την βιβλιοθήκη optuna. Δημιουργούμε μια συνάρτηση objective η οποία μέσω του study της optuna θα μας προτείνει τιμές υπερπαραμέτρων με γνώμονα την αύξηση της ορθότητας. Τρέχουμε 100 trials και παρακάτω φαίνεται μια απο τις προσπάθειες μας όπου πετύχαμε accuracy 88,5."
      ]
    },
    {
      "cell_type": "code",
      "execution_count": null,
      "metadata": {
        "execution": {
          "iopub.execute_input": "2021-12-05T11:30:24.899568Z",
          "iopub.status.busy": "2021-12-05T11:30:24.899249Z",
          "iopub.status.idle": "2021-12-05T12:23:20.634708Z",
          "shell.execute_reply": "2021-12-05T12:23:20.633574Z",
          "shell.execute_reply.started": "2021-12-05T11:30:24.899533Z"
        },
        "trusted": true,
        "id": "0SRC_6BMTTjE",
        "outputId": "10aad259-0d96-4dea-a608-ae981e14d2bc"
      },
      "outputs": [
        {
          "name": "stderr",
          "output_type": "stream",
          "text": [
            "\u001b[32m[I 2021-12-05 11:30:24,907]\u001b[0m A new study created in memory with name: no-name-22380e12-3fc5-4ccd-b7e5-9b70b4ed5240\u001b[0m\n",
            "\u001b[32m[I 2021-12-05 11:30:40,552]\u001b[0m Trial 0 finished with value: 0.8294333333333334 and parameters: {'classifier': 'MLP', 'hidden_layers_sizes': 46, 'activation': 'logistic', 'solver': 'adam', 'max_iter': 250, 'learning_rate': 'adaptive', 'alpha': 0.18051984894851278}. Best is trial 0 with value: 0.8294333333333334.\u001b[0m\n",
            "/opt/conda/lib/python3.7/site-packages/sklearn/neural_network/_multilayer_perceptron.py:585: ConvergenceWarning: Stochastic Optimizer: Maximum iterations (300) reached and the optimization hasn't converged yet.\n",
            "  % self.max_iter, ConvergenceWarning)\n",
            "\u001b[32m[I 2021-12-05 11:31:05,284]\u001b[0m Trial 1 finished with value: 0.9059333333333334 and parameters: {'classifier': 'MLP', 'hidden_layers_sizes': 32, 'activation': 'logistic', 'solver': 'adam', 'max_iter': 300, 'learning_rate': 'invscaling', 'alpha': 0.041151439314721205}. Best is trial 1 with value: 0.9059333333333334.\u001b[0m\n",
            "/opt/conda/lib/python3.7/site-packages/sklearn/neural_network/_multilayer_perceptron.py:585: ConvergenceWarning: Stochastic Optimizer: Maximum iterations (50) reached and the optimization hasn't converged yet.\n",
            "  % self.max_iter, ConvergenceWarning)\n",
            "\u001b[32m[I 2021-12-05 11:31:09,635]\u001b[0m Trial 2 finished with value: 0.8795 and parameters: {'classifier': 'MLP', 'hidden_layers_sizes': 30, 'activation': 'tanh', 'solver': 'adam', 'max_iter': 50, 'learning_rate': 'invscaling', 'alpha': 0.26982497989783905}. Best is trial 1 with value: 0.9059333333333334.\u001b[0m\n",
            "\u001b[32m[I 2021-12-05 11:31:26,624]\u001b[0m Trial 3 finished with value: 0.9770666666666666 and parameters: {'classifier': 'MLP', 'hidden_layers_sizes': 69, 'activation': 'relu', 'solver': 'adam', 'max_iter': 250, 'learning_rate': 'constant', 'alpha': 0.002405670364749551}. Best is trial 3 with value: 0.9770666666666666.\u001b[0m\n",
            "/opt/conda/lib/python3.7/site-packages/sklearn/neural_network/_multilayer_perceptron.py:585: ConvergenceWarning: Stochastic Optimizer: Maximum iterations (150) reached and the optimization hasn't converged yet.\n",
            "  % self.max_iter, ConvergenceWarning)\n",
            "\u001b[32m[I 2021-12-05 11:31:39,015]\u001b[0m Trial 4 finished with value: 0.9562666666666667 and parameters: {'classifier': 'MLP', 'hidden_layers_sizes': 28, 'activation': 'relu', 'solver': 'adam', 'max_iter': 150, 'learning_rate': 'constant', 'alpha': 0.05458914550303282}. Best is trial 3 with value: 0.9770666666666666.\u001b[0m\n",
            "\u001b[32m[I 2021-12-05 11:32:38,962]\u001b[0m Trial 5 finished with value: 0.9518333333333333 and parameters: {'classifier': 'MLP', 'hidden_layers_sizes': 169, 'activation': 'relu', 'solver': 'adam', 'max_iter': 350, 'learning_rate': 'adaptive', 'alpha': 0.08575404964333215}. Best is trial 3 with value: 0.9770666666666666.\u001b[0m\n",
            "/opt/conda/lib/python3.7/site-packages/sklearn/neural_network/_multilayer_perceptron.py:585: ConvergenceWarning: Stochastic Optimizer: Maximum iterations (50) reached and the optimization hasn't converged yet.\n",
            "  % self.max_iter, ConvergenceWarning)\n",
            "\u001b[32m[I 2021-12-05 11:33:02,546]\u001b[0m Trial 6 finished with value: 0.8077333333333333 and parameters: {'classifier': 'MLP', 'hidden_layers_sizes': 239, 'activation': 'logistic', 'solver': 'adam', 'max_iter': 50, 'learning_rate': 'invscaling', 'alpha': 0.19726084085894033}. Best is trial 3 with value: 0.9770666666666666.\u001b[0m\n",
            "\u001b[32m[I 2021-12-05 11:33:44,559]\u001b[0m Trial 7 finished with value: 0.9222 and parameters: {'classifier': 'MLP', 'hidden_layers_sizes': 244, 'activation': 'relu', 'solver': 'adam', 'max_iter': 300, 'learning_rate': 'invscaling', 'alpha': 0.21459057004895585}. Best is trial 3 with value: 0.9770666666666666.\u001b[0m\n",
            "/opt/conda/lib/python3.7/site-packages/sklearn/neural_network/_multilayer_perceptron.py:585: ConvergenceWarning: Stochastic Optimizer: Maximum iterations (250) reached and the optimization hasn't converged yet.\n",
            "  % self.max_iter, ConvergenceWarning)\n",
            "\u001b[32m[I 2021-12-05 11:34:19,201]\u001b[0m Trial 8 finished with value: 0.9621 and parameters: {'classifier': 'MLP', 'hidden_layers_sizes': 99, 'activation': 'logistic', 'solver': 'adam', 'max_iter': 250, 'learning_rate': 'invscaling', 'alpha': 0.002629293234701808}. Best is trial 3 with value: 0.9770666666666666.\u001b[0m\n",
            "/opt/conda/lib/python3.7/site-packages/sklearn/neural_network/_multilayer_perceptron.py:585: ConvergenceWarning: Stochastic Optimizer: Maximum iterations (100) reached and the optimization hasn't converged yet.\n",
            "  % self.max_iter, ConvergenceWarning)\n",
            "\u001b[32m[I 2021-12-05 11:34:44,604]\u001b[0m Trial 9 finished with value: 0.9637333333333333 and parameters: {'classifier': 'MLP', 'hidden_layers_sizes': 140, 'activation': 'relu', 'solver': 'adam', 'max_iter': 100, 'learning_rate': 'adaptive', 'alpha': 0.04002565399170358}. Best is trial 3 with value: 0.9770666666666666.\u001b[0m\n",
            "\u001b[32m[I 2021-12-05 11:35:18,365]\u001b[0m Trial 10 finished with value: 0.9846666666666667 and parameters: {'classifier': 'MLP', 'hidden_layers_sizes': 100, 'activation': 'tanh', 'solver': 'adam', 'max_iter': 400, 'learning_rate': 'constant', 'alpha': 0.0011211385541032538}. Best is trial 10 with value: 0.9846666666666667.\u001b[0m\n",
            "\u001b[32m[I 2021-12-05 11:35:50,215]\u001b[0m Trial 11 finished with value: 0.9821666666666666 and parameters: {'classifier': 'MLP', 'hidden_layers_sizes': 89, 'activation': 'tanh', 'solver': 'adam', 'max_iter': 400, 'learning_rate': 'constant', 'alpha': 0.0010863809104051238}. Best is trial 10 with value: 0.9846666666666667.\u001b[0m\n",
            "\u001b[32m[I 2021-12-05 11:36:22,971]\u001b[0m Trial 12 finished with value: 0.9831 and parameters: {'classifier': 'MLP', 'hidden_layers_sizes': 107, 'activation': 'tanh', 'solver': 'adam', 'max_iter': 400, 'learning_rate': 'constant', 'alpha': 0.001021723763122745}. Best is trial 10 with value: 0.9846666666666667.\u001b[0m\n",
            "\u001b[32m[I 2021-12-05 11:37:27,288]\u001b[0m Trial 13 finished with value: 0.9762333333333333 and parameters: {'classifier': 'MLP', 'hidden_layers_sizes': 147, 'activation': 'tanh', 'solver': 'adam', 'max_iter': 400, 'learning_rate': 'constant', 'alpha': 0.010054810365200267}. Best is trial 10 with value: 0.9846666666666667.\u001b[0m\n",
            "\u001b[32m[I 2021-12-05 11:38:28,062]\u001b[0m Trial 14 finished with value: 0.9753333333333334 and parameters: {'classifier': 'MLP', 'hidden_layers_sizes': 189, 'activation': 'tanh', 'solver': 'adam', 'max_iter': 350, 'learning_rate': 'constant', 'alpha': 0.00936647157414481}. Best is trial 10 with value: 0.9846666666666667.\u001b[0m\n",
            "\u001b[32m[I 2021-12-05 11:39:03,209]\u001b[0m Trial 15 finished with value: 0.9829333333333333 and parameters: {'classifier': 'MLP', 'hidden_layers_sizes': 108, 'activation': 'tanh', 'solver': 'adam', 'max_iter': 400, 'learning_rate': 'constant', 'alpha': 0.0010552774744175286}. Best is trial 10 with value: 0.9846666666666667.\u001b[0m\n",
            "\u001b[32m[I 2021-12-05 11:39:14,627]\u001b[0m Trial 16 finished with value: 0.8196333333333333 and parameters: {'classifier': 'MLP', 'hidden_layers_sizes': 124, 'activation': 'tanh', 'solver': 'adam', 'max_iter': 350, 'learning_rate': 'constant', 'alpha': 0.9992639088580226}. Best is trial 10 with value: 0.9846666666666667.\u001b[0m\n",
            "/opt/conda/lib/python3.7/site-packages/sklearn/neural_network/_multilayer_perceptron.py:585: ConvergenceWarning: Stochastic Optimizer: Maximum iterations (150) reached and the optimization hasn't converged yet.\n",
            "  % self.max_iter, ConvergenceWarning)\n",
            "\u001b[32m[I 2021-12-05 11:39:32,895]\u001b[0m Trial 17 finished with value: 0.9742 and parameters: {'classifier': 'MLP', 'hidden_layers_sizes': 70, 'activation': 'tanh', 'solver': 'adam', 'max_iter': 150, 'learning_rate': 'constant', 'alpha': 0.010552129973851071}. Best is trial 10 with value: 0.9846666666666667.\u001b[0m\n",
            "\u001b[32m[I 2021-12-05 11:40:36,479]\u001b[0m Trial 18 finished with value: 0.9779333333333333 and parameters: {'classifier': 'MLP', 'hidden_layers_sizes': 191, 'activation': 'tanh', 'solver': 'adam', 'max_iter': 300, 'learning_rate': 'constant', 'alpha': 0.0036646120419073424}. Best is trial 10 with value: 0.9846666666666667.\u001b[0m\n",
            "/opt/conda/lib/python3.7/site-packages/sklearn/neural_network/_multilayer_perceptron.py:585: ConvergenceWarning: Stochastic Optimizer: Maximum iterations (200) reached and the optimization hasn't converged yet.\n",
            "  % self.max_iter, ConvergenceWarning)\n",
            "\u001b[32m[I 2021-12-05 11:41:00,789]\u001b[0m Trial 19 finished with value: 0.9804 and parameters: {'classifier': 'MLP', 'hidden_layers_sizes': 69, 'activation': 'tanh', 'solver': 'adam', 'max_iter': 200, 'learning_rate': 'constant', 'alpha': 0.005144026971005558}. Best is trial 10 with value: 0.9846666666666667.\u001b[0m\n",
            "\u001b[32m[I 2021-12-05 11:41:53,072]\u001b[0m Trial 20 finished with value: 0.9703333333333334 and parameters: {'classifier': 'MLP', 'hidden_layers_sizes': 161, 'activation': 'tanh', 'solver': 'adam', 'max_iter': 350, 'learning_rate': 'adaptive', 'alpha': 0.02044481831689146}. Best is trial 10 with value: 0.9846666666666667.\u001b[0m\n",
            "\u001b[32m[I 2021-12-05 11:42:25,659]\u001b[0m Trial 21 finished with value: 0.9800666666666666 and parameters: {'classifier': 'MLP', 'hidden_layers_sizes': 109, 'activation': 'tanh', 'solver': 'adam', 'max_iter': 400, 'learning_rate': 'constant', 'alpha': 0.001181237346321624}. Best is trial 10 with value: 0.9846666666666667.\u001b[0m\n",
            "\u001b[32m[I 2021-12-05 11:42:55,916]\u001b[0m Trial 22 finished with value: 0.9792 and parameters: {'classifier': 'MLP', 'hidden_layers_sizes': 119, 'activation': 'tanh', 'solver': 'adam', 'max_iter': 400, 'learning_rate': 'constant', 'alpha': 0.0016604482596834617}. Best is trial 10 with value: 0.9846666666666667.\u001b[0m\n",
            "\u001b[32m[I 2021-12-05 11:43:23,989]\u001b[0m Trial 23 finished with value: 0.9842333333333333 and parameters: {'classifier': 'MLP', 'hidden_layers_sizes': 88, 'activation': 'tanh', 'solver': 'adam', 'max_iter': 400, 'learning_rate': 'constant', 'alpha': 0.001015941936199204}. Best is trial 10 with value: 0.9846666666666667.\u001b[0m\n",
            "\u001b[32m[I 2021-12-05 11:43:54,868]\u001b[0m Trial 24 finished with value: 0.9755 and parameters: {'classifier': 'MLP', 'hidden_layers_sizes': 82, 'activation': 'tanh', 'solver': 'adam', 'max_iter': 350, 'learning_rate': 'constant', 'alpha': 0.00517799867069088}. Best is trial 10 with value: 0.9846666666666667.\u001b[0m\n",
            "\u001b[32m[I 2021-12-05 11:44:22,291]\u001b[0m Trial 25 finished with value: 0.9851666666666666 and parameters: {'classifier': 'MLP', 'hidden_layers_sizes': 57, 'activation': 'tanh', 'solver': 'adam', 'max_iter': 300, 'learning_rate': 'constant', 'alpha': 0.0019146130015935052}. Best is trial 25 with value: 0.9851666666666666.\u001b[0m\n",
            "/opt/conda/lib/python3.7/site-packages/sklearn/neural_network/_multilayer_perceptron.py:585: ConvergenceWarning: Stochastic Optimizer: Maximum iterations (300) reached and the optimization hasn't converged yet.\n",
            "  % self.max_iter, ConvergenceWarning)\n",
            "\u001b[32m[I 2021-12-05 11:44:42,939]\u001b[0m Trial 26 finished with value: 0.9793 and parameters: {'classifier': 'MLP', 'hidden_layers_sizes': 9, 'activation': 'tanh', 'solver': 'adam', 'max_iter': 300, 'learning_rate': 'constant', 'alpha': 0.0019782582024357107}. Best is trial 25 with value: 0.9851666666666666.\u001b[0m\n",
            "/opt/conda/lib/python3.7/site-packages/sklearn/neural_network/_multilayer_perceptron.py:585: ConvergenceWarning: Stochastic Optimizer: Maximum iterations (200) reached and the optimization hasn't converged yet.\n",
            "  % self.max_iter, ConvergenceWarning)\n",
            "\u001b[32m[I 2021-12-05 11:45:07,355]\u001b[0m Trial 27 finished with value: 0.9784 and parameters: {'classifier': 'MLP', 'hidden_layers_sizes': 67, 'activation': 'tanh', 'solver': 'adam', 'max_iter': 200, 'learning_rate': 'constant', 'alpha': 0.004297151535589526}. Best is trial 25 with value: 0.9851666666666666.\u001b[0m\n",
            "\u001b[32m[I 2021-12-05 11:45:38,013]\u001b[0m Trial 28 finished with value: 0.9811666666666666 and parameters: {'classifier': 'MLP', 'hidden_layers_sizes': 53, 'activation': 'tanh', 'solver': 'adam', 'max_iter': 350, 'learning_rate': 'constant', 'alpha': 0.002921013646415016}. Best is trial 25 with value: 0.9851666666666666.\u001b[0m\n",
            "/opt/conda/lib/python3.7/site-packages/sklearn/neural_network/_multilayer_perceptron.py:585: ConvergenceWarning: Stochastic Optimizer: Maximum iterations (300) reached and the optimization hasn't converged yet.\n",
            "  % self.max_iter, ConvergenceWarning)\n",
            "\u001b[32m[I 2021-12-05 11:46:15,512]\u001b[0m Trial 29 finished with value: 0.9395333333333333 and parameters: {'classifier': 'MLP', 'hidden_layers_sizes': 85, 'activation': 'logistic', 'solver': 'adam', 'max_iter': 300, 'learning_rate': 'adaptive', 'alpha': 0.017707706506491557}. Best is trial 25 with value: 0.9851666666666666.\u001b[0m\n",
            "/opt/conda/lib/python3.7/site-packages/sklearn/neural_network/_multilayer_perceptron.py:585: ConvergenceWarning: Stochastic Optimizer: Maximum iterations (250) reached and the optimization hasn't converged yet.\n",
            "  % self.max_iter, ConvergenceWarning)\n",
            "\u001b[32m[I 2021-12-05 11:46:40,179]\u001b[0m Trial 30 finished with value: 0.9676333333333333 and parameters: {'classifier': 'MLP', 'hidden_layers_sizes': 49, 'activation': 'logistic', 'solver': 'adam', 'max_iter': 250, 'learning_rate': 'adaptive', 'alpha': 0.0016955493218192147}. Best is trial 25 with value: 0.9851666666666666.\u001b[0m\n",
            "\u001b[32m[I 2021-12-05 11:47:13,344]\u001b[0m Trial 31 finished with value: 0.9824333333333334 and parameters: {'classifier': 'MLP', 'hidden_layers_sizes': 103, 'activation': 'tanh', 'solver': 'adam', 'max_iter': 400, 'learning_rate': 'constant', 'alpha': 0.0015712979923575498}. Best is trial 25 with value: 0.9851666666666666.\u001b[0m\n",
            "\u001b[32m[I 2021-12-05 11:47:47,419]\u001b[0m Trial 32 finished with value: 0.9772 and parameters: {'classifier': 'MLP', 'hidden_layers_sizes': 130, 'activation': 'tanh', 'solver': 'adam', 'max_iter': 400, 'learning_rate': 'constant', 'alpha': 0.0011174982243646748}. Best is trial 25 with value: 0.9851666666666666.\u001b[0m\n",
            "\u001b[32m[I 2021-12-05 11:48:12,894]\u001b[0m Trial 33 finished with value: 0.9797 and parameters: {'classifier': 'MLP', 'hidden_layers_sizes': 46, 'activation': 'tanh', 'solver': 'adam', 'max_iter': 350, 'learning_rate': 'constant', 'alpha': 0.006025380816225298}. Best is trial 25 with value: 0.9851666666666666.\u001b[0m\n",
            "\u001b[32m[I 2021-12-05 11:48:43,464]\u001b[0m Trial 34 finished with value: 0.9804 and parameters: {'classifier': 'MLP', 'hidden_layers_sizes': 91, 'activation': 'tanh', 'solver': 'adam', 'max_iter': 300, 'learning_rate': 'constant', 'alpha': 0.002489326292131266}. Best is trial 25 with value: 0.9851666666666666.\u001b[0m\n",
            "\u001b[32m[I 2021-12-05 11:49:06,647]\u001b[0m Trial 35 finished with value: 0.9806333333333334 and parameters: {'classifier': 'MLP', 'hidden_layers_sizes': 21, 'activation': 'tanh', 'solver': 'adam', 'max_iter': 400, 'learning_rate': 'invscaling', 'alpha': 0.001612811649340836}. Best is trial 25 with value: 0.9851666666666666.\u001b[0m\n",
            "\u001b[32m[I 2021-12-05 11:49:38,405]\u001b[0m Trial 36 finished with value: 0.9775666666666667 and parameters: {'classifier': 'MLP', 'hidden_layers_sizes': 62, 'activation': 'relu', 'solver': 'adam', 'max_iter': 350, 'learning_rate': 'constant', 'alpha': 0.003542063693339438}. Best is trial 25 with value: 0.9851666666666666.\u001b[0m\n",
            "\u001b[32m[I 2021-12-05 11:50:13,673]\u001b[0m Trial 37 finished with value: 0.8708 and parameters: {'classifier': 'MLP', 'hidden_layers_sizes': 118, 'activation': 'logistic', 'solver': 'adam', 'max_iter': 250, 'learning_rate': 'constant', 'alpha': 0.09264285281754855}. Best is trial 25 with value: 0.9851666666666666.\u001b[0m\n",
            "\u001b[32m[I 2021-12-05 11:50:32,329]\u001b[0m Trial 38 finished with value: 0.854 and parameters: {'classifier': 'MLP', 'hidden_layers_sizes': 151, 'activation': 'tanh', 'solver': 'adam', 'max_iter': 350, 'learning_rate': 'invscaling', 'alpha': 0.5008232310764829}. Best is trial 25 with value: 0.9851666666666666.\u001b[0m\n",
            "\u001b[32m[I 2021-12-05 11:51:12,242]\u001b[0m Trial 39 finished with value: 0.9761666666666666 and parameters: {'classifier': 'MLP', 'hidden_layers_sizes': 79, 'activation': 'relu', 'solver': 'adam', 'max_iter': 400, 'learning_rate': 'constant', 'alpha': 0.007068824095569317}. Best is trial 25 with value: 0.9851666666666666.\u001b[0m\n",
            "\u001b[32m[I 2021-12-05 11:51:39,824]\u001b[0m Trial 40 finished with value: 0.9821333333333333 and parameters: {'classifier': 'MLP', 'hidden_layers_sizes': 35, 'activation': 'tanh', 'solver': 'adam', 'max_iter': 300, 'learning_rate': 'adaptive', 'alpha': 0.0020526376736414494}. Best is trial 25 with value: 0.9851666666666666.\u001b[0m\n",
            "\u001b[32m[I 2021-12-05 11:52:11,950]\u001b[0m Trial 41 finished with value: 0.9839333333333333 and parameters: {'classifier': 'MLP', 'hidden_layers_sizes': 107, 'activation': 'tanh', 'solver': 'adam', 'max_iter': 400, 'learning_rate': 'constant', 'alpha': 0.0010181926567723394}. Best is trial 25 with value: 0.9851666666666666.\u001b[0m\n",
            "\u001b[32m[I 2021-12-05 11:52:45,564]\u001b[0m Trial 42 finished with value: 0.9847 and parameters: {'classifier': 'MLP', 'hidden_layers_sizes': 97, 'activation': 'tanh', 'solver': 'adam', 'max_iter': 400, 'learning_rate': 'constant', 'alpha': 0.0013723320805091336}. Best is trial 25 with value: 0.9851666666666666.\u001b[0m\n",
            "\u001b[32m[I 2021-12-05 11:53:14,495]\u001b[0m Trial 43 finished with value: 0.9836666666666667 and parameters: {'classifier': 'MLP', 'hidden_layers_sizes': 96, 'activation': 'tanh', 'solver': 'adam', 'max_iter': 400, 'learning_rate': 'constant', 'alpha': 0.0014421398991232531}. Best is trial 25 with value: 0.9851666666666666.\u001b[0m\n",
            "\u001b[32m[I 2021-12-05 11:54:21,845]\u001b[0m Trial 44 finished with value: 0.9823 and parameters: {'classifier': 'MLP', 'hidden_layers_sizes': 134, 'activation': 'tanh', 'solver': 'adam', 'max_iter': 350, 'learning_rate': 'invscaling', 'alpha': 0.0027179504276883424}. Best is trial 25 with value: 0.9851666666666666.\u001b[0m\n",
            "\u001b[32m[I 2021-12-05 11:55:34,292]\u001b[0m Trial 45 finished with value: 0.9803333333333333 and parameters: {'classifier': 'MLP', 'hidden_layers_sizes': 78, 'activation': 'relu', 'solver': 'adam', 'max_iter': 400, 'learning_rate': 'constant', 'alpha': 0.0012618126757576338}. Best is trial 25 with value: 0.9851666666666666.\u001b[0m\n",
            "/opt/conda/lib/python3.7/site-packages/sklearn/neural_network/_multilayer_perceptron.py:585: ConvergenceWarning: Stochastic Optimizer: Maximum iterations (350) reached and the optimization hasn't converged yet.\n",
            "  % self.max_iter, ConvergenceWarning)\n",
            "\u001b[32m[I 2021-12-05 11:56:11,810]\u001b[0m Trial 46 finished with value: 0.9696333333333333 and parameters: {'classifier': 'MLP', 'hidden_layers_sizes': 60, 'activation': 'logistic', 'solver': 'adam', 'max_iter': 350, 'learning_rate': 'constant', 'alpha': 0.0021179167041741123}. Best is trial 25 with value: 0.9851666666666666.\u001b[0m\n",
            "\u001b[32m[I 2021-12-05 11:56:40,613]\u001b[0m Trial 47 finished with value: 0.9790333333333333 and parameters: {'classifier': 'MLP', 'hidden_layers_sizes': 95, 'activation': 'tanh', 'solver': 'adam', 'max_iter': 400, 'learning_rate': 'constant', 'alpha': 0.0032983721093583713}. Best is trial 25 with value: 0.9851666666666666.\u001b[0m\n",
            "\u001b[32m[I 2021-12-05 11:57:07,244]\u001b[0m Trial 48 finished with value: 0.9820666666666666 and parameters: {'classifier': 'MLP', 'hidden_layers_sizes': 31, 'activation': 'tanh', 'solver': 'adam', 'max_iter': 400, 'learning_rate': 'constant', 'alpha': 0.001026930600299388}. Best is trial 25 with value: 0.9851666666666666.\u001b[0m\n",
            "\u001b[32m[I 2021-12-05 11:57:23,409]\u001b[0m Trial 49 finished with value: 0.9273333333333333 and parameters: {'classifier': 'MLP', 'hidden_layers_sizes': 111, 'activation': 'tanh', 'solver': 'adam', 'max_iter': 300, 'learning_rate': 'invscaling', 'alpha': 0.08981167337803227}. Best is trial 25 with value: 0.9851666666666666.\u001b[0m\n",
            "/opt/conda/lib/python3.7/site-packages/sklearn/neural_network/_multilayer_perceptron.py:585: ConvergenceWarning: Stochastic Optimizer: Maximum iterations (150) reached and the optimization hasn't converged yet.\n",
            "  % self.max_iter, ConvergenceWarning)\n",
            "\u001b[32m[I 2021-12-05 11:57:42,603]\u001b[0m Trial 50 finished with value: 0.9763666666666667 and parameters: {'classifier': 'MLP', 'hidden_layers_sizes': 76, 'activation': 'tanh', 'solver': 'adam', 'max_iter': 150, 'learning_rate': 'constant', 'alpha': 0.002259716550073077}. Best is trial 25 with value: 0.9851666666666666.\u001b[0m\n",
            "\u001b[32m[I 2021-12-05 11:58:13,468]\u001b[0m Trial 51 finished with value: 0.9799666666666667 and parameters: {'classifier': 'MLP', 'hidden_layers_sizes': 97, 'activation': 'tanh', 'solver': 'adam', 'max_iter': 400, 'learning_rate': 'constant', 'alpha': 0.001529083500510562}. Best is trial 25 with value: 0.9851666666666666.\u001b[0m\n",
            "\u001b[32m[I 2021-12-05 11:58:46,175]\u001b[0m Trial 52 finished with value: 0.9850333333333333 and parameters: {'classifier': 'MLP', 'hidden_layers_sizes': 89, 'activation': 'tanh', 'solver': 'adam', 'max_iter': 400, 'learning_rate': 'constant', 'alpha': 0.0013349288543965737}. Best is trial 25 with value: 0.9851666666666666.\u001b[0m\n",
            "\u001b[32m[I 2021-12-05 11:59:18,511]\u001b[0m Trial 53 finished with value: 0.9826666666666667 and parameters: {'classifier': 'MLP', 'hidden_layers_sizes': 115, 'activation': 'tanh', 'solver': 'adam', 'max_iter': 400, 'learning_rate': 'constant', 'alpha': 0.0013454547629635895}. Best is trial 25 with value: 0.9851666666666666.\u001b[0m\n",
            "/opt/conda/lib/python3.7/site-packages/sklearn/neural_network/_multilayer_perceptron.py:585: ConvergenceWarning: Stochastic Optimizer: Maximum iterations (50) reached and the optimization hasn't converged yet.\n",
            "  % self.max_iter, ConvergenceWarning)\n",
            "\u001b[32m[I 2021-12-05 11:59:26,847]\u001b[0m Trial 54 finished with value: 0.9705 and parameters: {'classifier': 'MLP', 'hidden_layers_sizes': 126, 'activation': 'tanh', 'solver': 'adam', 'max_iter': 50, 'learning_rate': 'constant', 'alpha': 0.002076025755529615}. Best is trial 25 with value: 0.9851666666666666.\u001b[0m\n",
            "\u001b[32m[I 2021-12-05 12:00:43,009]\u001b[0m Trial 55 finished with value: 0.98 and parameters: {'classifier': 'MLP', 'hidden_layers_sizes': 220, 'activation': 'tanh', 'solver': 'adam', 'max_iter': 350, 'learning_rate': 'constant', 'alpha': 0.0010245108167300581}. Best is trial 25 with value: 0.9851666666666666.\u001b[0m\n",
            "\u001b[32m[I 2021-12-05 12:02:03,425]\u001b[0m Trial 56 finished with value: 0.9777666666666667 and parameters: {'classifier': 'MLP', 'hidden_layers_sizes': 142, 'activation': 'relu', 'solver': 'adam', 'max_iter': 350, 'learning_rate': 'constant', 'alpha': 0.003948991953749821}. Best is trial 25 with value: 0.9851666666666666.\u001b[0m\n",
            "\u001b[32m[I 2021-12-05 12:02:31,929]\u001b[0m Trial 57 finished with value: 0.9825666666666667 and parameters: {'classifier': 'MLP', 'hidden_layers_sizes': 89, 'activation': 'tanh', 'solver': 'adam', 'max_iter': 400, 'learning_rate': 'constant', 'alpha': 0.0013894188337141326}. Best is trial 25 with value: 0.9851666666666666.\u001b[0m\n",
            "\u001b[32m[I 2021-12-05 12:03:07,975]\u001b[0m Trial 58 finished with value: 0.9774333333333334 and parameters: {'classifier': 'MLP', 'hidden_layers_sizes': 104, 'activation': 'tanh', 'solver': 'adam', 'max_iter': 400, 'learning_rate': 'adaptive', 'alpha': 0.001793934338376961}. Best is trial 25 with value: 0.9851666666666666.\u001b[0m\n",
            "/opt/conda/lib/python3.7/site-packages/sklearn/neural_network/_multilayer_perceptron.py:585: ConvergenceWarning: Stochastic Optimizer: Maximum iterations (200) reached and the optimization hasn't converged yet.\n",
            "  % self.max_iter, ConvergenceWarning)\n",
            "\u001b[32m[I 2021-12-05 12:03:32,863]\u001b[0m Trial 59 finished with value: 0.9796333333333334 and parameters: {'classifier': 'MLP', 'hidden_layers_sizes': 73, 'activation': 'tanh', 'solver': 'adam', 'max_iter': 200, 'learning_rate': 'constant', 'alpha': 0.00270527889772937}. Best is trial 25 with value: 0.9851666666666666.\u001b[0m\n",
            "\u001b[32m[I 2021-12-05 12:04:08,122]\u001b[0m Trial 60 finished with value: 0.9323666666666667 and parameters: {'classifier': 'MLP', 'hidden_layers_sizes': 60, 'activation': 'logistic', 'solver': 'adam', 'max_iter': 350, 'learning_rate': 'constant', 'alpha': 0.020724971701713477}. Best is trial 25 with value: 0.9851666666666666.\u001b[0m\n",
            "\u001b[32m[I 2021-12-05 12:04:40,319]\u001b[0m Trial 61 finished with value: 0.9815333333333334 and parameters: {'classifier': 'MLP', 'hidden_layers_sizes': 96, 'activation': 'tanh', 'solver': 'adam', 'max_iter': 400, 'learning_rate': 'constant', 'alpha': 0.0013207667619417993}. Best is trial 25 with value: 0.9851666666666666.\u001b[0m\n",
            "\u001b[32m[I 2021-12-05 12:05:06,745]\u001b[0m Trial 62 finished with value: 0.9813666666666667 and parameters: {'classifier': 'MLP', 'hidden_layers_sizes': 85, 'activation': 'tanh', 'solver': 'adam', 'max_iter': 400, 'learning_rate': 'constant', 'alpha': 0.0013494342388986247}. Best is trial 25 with value: 0.9851666666666666.\u001b[0m\n",
            "\u001b[32m[I 2021-12-05 12:05:36,133]\u001b[0m Trial 63 finished with value: 0.9837666666666667 and parameters: {'classifier': 'MLP', 'hidden_layers_sizes': 101, 'activation': 'tanh', 'solver': 'adam', 'max_iter': 400, 'learning_rate': 'constant', 'alpha': 0.001905983453318841}. Best is trial 25 with value: 0.9851666666666666.\u001b[0m\n",
            "\u001b[32m[I 2021-12-05 12:06:02,475]\u001b[0m Trial 64 finished with value: 0.9794666666666667 and parameters: {'classifier': 'MLP', 'hidden_layers_sizes': 42, 'activation': 'tanh', 'solver': 'adam', 'max_iter': 400, 'learning_rate': 'constant', 'alpha': 0.00190798099229123}. Best is trial 25 with value: 0.9851666666666666.\u001b[0m\n",
            "\u001b[32m[I 2021-12-05 12:06:38,949]\u001b[0m Trial 65 finished with value: 0.9812333333333333 and parameters: {'classifier': 'MLP', 'hidden_layers_sizes': 120, 'activation': 'tanh', 'solver': 'adam', 'max_iter': 350, 'learning_rate': 'constant', 'alpha': 0.0010195553530469334}. Best is trial 25 with value: 0.9851666666666666.\u001b[0m\n",
            "\u001b[32m[I 2021-12-05 12:07:04,498]\u001b[0m Trial 66 finished with value: 0.9802666666666666 and parameters: {'classifier': 'MLP', 'hidden_layers_sizes': 110, 'activation': 'tanh', 'solver': 'adam', 'max_iter': 400, 'learning_rate': 'constant', 'alpha': 0.004524401113341655}. Best is trial 25 with value: 0.9851666666666666.\u001b[0m\n",
            "/opt/conda/lib/python3.7/site-packages/sklearn/neural_network/_multilayer_perceptron.py:585: ConvergenceWarning: Stochastic Optimizer: Maximum iterations (100) reached and the optimization hasn't converged yet.\n",
            "  % self.max_iter, ConvergenceWarning)\n",
            "\u001b[32m[I 2021-12-05 12:07:19,449]\u001b[0m Trial 67 finished with value: 0.9775 and parameters: {'classifier': 'MLP', 'hidden_layers_sizes': 103, 'activation': 'tanh', 'solver': 'adam', 'max_iter': 100, 'learning_rate': 'constant', 'alpha': 0.0030384364435757628}. Best is trial 25 with value: 0.9851666666666666.\u001b[0m\n",
            "\u001b[32m[I 2021-12-05 12:08:21,844]\u001b[0m Trial 68 finished with value: 0.9810333333333333 and parameters: {'classifier': 'MLP', 'hidden_layers_sizes': 134, 'activation': 'tanh', 'solver': 'adam', 'max_iter': 350, 'learning_rate': 'adaptive', 'alpha': 0.007402301751499246}. Best is trial 25 with value: 0.9851666666666666.\u001b[0m\n",
            "\u001b[32m[I 2021-12-05 12:08:52,387]\u001b[0m Trial 69 finished with value: 0.9813666666666667 and parameters: {'classifier': 'MLP', 'hidden_layers_sizes': 53, 'activation': 'tanh', 'solver': 'adam', 'max_iter': 400, 'learning_rate': 'constant', 'alpha': 0.0024957411709140174}. Best is trial 25 with value: 0.9851666666666666.\u001b[0m\n",
            "\u001b[32m[I 2021-12-05 12:09:34,012]\u001b[0m Trial 70 finished with value: 0.9791333333333333 and parameters: {'classifier': 'MLP', 'hidden_layers_sizes': 84, 'activation': 'relu', 'solver': 'adam', 'max_iter': 350, 'learning_rate': 'invscaling', 'alpha': 0.0012028001486631547}. Best is trial 25 with value: 0.9851666666666666.\u001b[0m\n",
            "\u001b[32m[I 2021-12-05 12:10:06,204]\u001b[0m Trial 71 finished with value: 0.9803333333333333 and parameters: {'classifier': 'MLP', 'hidden_layers_sizes': 93, 'activation': 'tanh', 'solver': 'adam', 'max_iter': 400, 'learning_rate': 'constant', 'alpha': 0.0016539433646596137}. Best is trial 25 with value: 0.9851666666666666.\u001b[0m\n",
            "\u001b[32m[I 2021-12-05 12:10:32,822]\u001b[0m Trial 72 finished with value: 0.9837666666666667 and parameters: {'classifier': 'MLP', 'hidden_layers_sizes': 100, 'activation': 'tanh', 'solver': 'adam', 'max_iter': 400, 'learning_rate': 'constant', 'alpha': 0.0014779358335651278}. Best is trial 25 with value: 0.9851666666666666.\u001b[0m\n",
            "\u001b[32m[I 2021-12-05 12:11:03,088]\u001b[0m Trial 73 finished with value: 0.9806 and parameters: {'classifier': 'MLP', 'hidden_layers_sizes': 112, 'activation': 'tanh', 'solver': 'adam', 'max_iter': 400, 'learning_rate': 'constant', 'alpha': 0.0018041801207496373}. Best is trial 25 with value: 0.9851666666666666.\u001b[0m\n",
            "\u001b[32m[I 2021-12-05 12:11:24,767]\u001b[0m Trial 74 finished with value: 0.9537666666666667 and parameters: {'classifier': 'MLP', 'hidden_layers_sizes': 66, 'activation': 'tanh', 'solver': 'adam', 'max_iter': 400, 'learning_rate': 'constant', 'alpha': 0.06317181634152702}. Best is trial 25 with value: 0.9851666666666666.\u001b[0m\n",
            "\u001b[32m[I 2021-12-05 12:11:58,852]\u001b[0m Trial 75 finished with value: 0.9824 and parameters: {'classifier': 'MLP', 'hidden_layers_sizes': 102, 'activation': 'tanh', 'solver': 'adam', 'max_iter': 400, 'learning_rate': 'constant', 'alpha': 0.001220067386004422}. Best is trial 25 with value: 0.9851666666666666.\u001b[0m\n",
            "\u001b[32m[I 2021-12-05 12:12:34,277]\u001b[0m Trial 76 finished with value: 0.9821666666666666 and parameters: {'classifier': 'MLP', 'hidden_layers_sizes': 124, 'activation': 'tanh', 'solver': 'adam', 'max_iter': 350, 'learning_rate': 'constant', 'alpha': 0.0015478546401257033}. Best is trial 25 with value: 0.9851666666666666.\u001b[0m\n",
            "/opt/conda/lib/python3.7/site-packages/sklearn/neural_network/_multilayer_perceptron.py:585: ConvergenceWarning: Stochastic Optimizer: Maximum iterations (400) reached and the optimization hasn't converged yet.\n",
            "  % self.max_iter, ConvergenceWarning)\n",
            "\u001b[32m[I 2021-12-05 12:13:23,123]\u001b[0m Trial 77 finished with value: 0.9689 and parameters: {'classifier': 'MLP', 'hidden_layers_sizes': 81, 'activation': 'logistic', 'solver': 'adam', 'max_iter': 400, 'learning_rate': 'constant', 'alpha': 0.0023278972594598874}. Best is trial 25 with value: 0.9851666666666666.\u001b[0m\n",
            "/opt/conda/lib/python3.7/site-packages/sklearn/neural_network/_multilayer_perceptron.py:585: ConvergenceWarning: Stochastic Optimizer: Maximum iterations (250) reached and the optimization hasn't converged yet.\n",
            "  % self.max_iter, ConvergenceWarning)\n",
            "\u001b[32m[I 2021-12-05 12:13:57,867]\u001b[0m Trial 78 finished with value: 0.9848333333333333 and parameters: {'classifier': 'MLP', 'hidden_layers_sizes': 89, 'activation': 'tanh', 'solver': 'adam', 'max_iter': 250, 'learning_rate': 'constant', 'alpha': 0.0011717108397516583}. Best is trial 25 with value: 0.9851666666666666.\u001b[0m\n",
            "\u001b[32m[I 2021-12-05 12:14:15,452]\u001b[0m Trial 79 finished with value: 0.9264 and parameters: {'classifier': 'MLP', 'hidden_layers_sizes': 89, 'activation': 'tanh', 'solver': 'adam', 'max_iter': 250, 'learning_rate': 'constant', 'alpha': 0.14141224445127645}. Best is trial 25 with value: 0.9851666666666666.\u001b[0m\n",
            "/opt/conda/lib/python3.7/site-packages/sklearn/neural_network/_multilayer_perceptron.py:585: ConvergenceWarning: Stochastic Optimizer: Maximum iterations (200) reached and the optimization hasn't converged yet.\n",
            "  % self.max_iter, ConvergenceWarning)\n",
            "\u001b[32m[I 2021-12-05 12:14:40,891]\u001b[0m Trial 80 finished with value: 0.9839333333333333 and parameters: {'classifier': 'MLP', 'hidden_layers_sizes': 75, 'activation': 'tanh', 'solver': 'adam', 'max_iter': 200, 'learning_rate': 'adaptive', 'alpha': 0.001189668443752661}. Best is trial 25 with value: 0.9851666666666666.\u001b[0m\n",
            "/opt/conda/lib/python3.7/site-packages/sklearn/neural_network/_multilayer_perceptron.py:585: ConvergenceWarning: Stochastic Optimizer: Maximum iterations (200) reached and the optimization hasn't converged yet.\n",
            "  % self.max_iter, ConvergenceWarning)\n",
            "\u001b[32m[I 2021-12-05 12:15:04,723]\u001b[0m Trial 81 finished with value: 0.9809666666666667 and parameters: {'classifier': 'MLP', 'hidden_layers_sizes': 66, 'activation': 'tanh', 'solver': 'adam', 'max_iter': 200, 'learning_rate': 'adaptive', 'alpha': 0.0010046484470670296}. Best is trial 25 with value: 0.9851666666666666.\u001b[0m\n",
            "\u001b[32m[I 2021-12-05 12:15:29,437]\u001b[0m Trial 82 finished with value: 0.9847 and parameters: {'classifier': 'MLP', 'hidden_layers_sizes': 74, 'activation': 'tanh', 'solver': 'adam', 'max_iter': 200, 'learning_rate': 'adaptive', 'alpha': 0.0012119722263113698}. Best is trial 25 with value: 0.9851666666666666.\u001b[0m\n",
            "/opt/conda/lib/python3.7/site-packages/sklearn/neural_network/_multilayer_perceptron.py:585: ConvergenceWarning: Stochastic Optimizer: Maximum iterations (200) reached and the optimization hasn't converged yet.\n",
            "  % self.max_iter, ConvergenceWarning)\n",
            "\u001b[32m[I 2021-12-05 12:15:53,867]\u001b[0m Trial 83 finished with value: 0.9810666666666666 and parameters: {'classifier': 'MLP', 'hidden_layers_sizes': 71, 'activation': 'tanh', 'solver': 'adam', 'max_iter': 200, 'learning_rate': 'adaptive', 'alpha': 0.0011770226586993416}. Best is trial 25 with value: 0.9851666666666666.\u001b[0m\n",
            "/opt/conda/lib/python3.7/site-packages/sklearn/neural_network/_multilayer_perceptron.py:585: ConvergenceWarning: Stochastic Optimizer: Maximum iterations (150) reached and the optimization hasn't converged yet.\n",
            "  % self.max_iter, ConvergenceWarning)\n",
            "\u001b[32m[I 2021-12-05 12:16:10,158]\u001b[0m Trial 84 finished with value: 0.9802666666666666 and parameters: {'classifier': 'MLP', 'hidden_layers_sizes': 56, 'activation': 'tanh', 'solver': 'adam', 'max_iter': 150, 'learning_rate': 'adaptive', 'alpha': 0.0012023921016644566}. Best is trial 25 with value: 0.9851666666666666.\u001b[0m\n",
            "/opt/conda/lib/python3.7/site-packages/sklearn/neural_network/_multilayer_perceptron.py:585: ConvergenceWarning: Stochastic Optimizer: Maximum iterations (200) reached and the optimization hasn't converged yet.\n",
            "  % self.max_iter, ConvergenceWarning)\n",
            "\u001b[32m[I 2021-12-05 12:16:35,414]\u001b[0m Trial 85 finished with value: 0.9815333333333334 and parameters: {'classifier': 'MLP', 'hidden_layers_sizes': 76, 'activation': 'tanh', 'solver': 'adam', 'max_iter': 200, 'learning_rate': 'adaptive', 'alpha': 0.0016426155712323425}. Best is trial 25 with value: 0.9851666666666666.\u001b[0m\n",
            "\u001b[32m[I 2021-12-05 12:17:03,933]\u001b[0m Trial 86 finished with value: 0.9763 and parameters: {'classifier': 'MLP', 'hidden_layers_sizes': 89, 'activation': 'tanh', 'solver': 'adam', 'max_iter': 250, 'learning_rate': 'adaptive', 'alpha': 0.002269005917632307}. Best is trial 25 with value: 0.9851666666666666.\u001b[0m\n",
            "\u001b[32m[I 2021-12-05 12:17:58,233]\u001b[0m Trial 87 finished with value: 0.9721 and parameters: {'classifier': 'MLP', 'hidden_layers_sizes': 254, 'activation': 'tanh', 'solver': 'adam', 'max_iter': 250, 'learning_rate': 'adaptive', 'alpha': 0.012901738209851518}. Best is trial 25 with value: 0.9851666666666666.\u001b[0m\n",
            "/opt/conda/lib/python3.7/site-packages/sklearn/neural_network/_multilayer_perceptron.py:585: ConvergenceWarning: Stochastic Optimizer: Maximum iterations (200) reached and the optimization hasn't converged yet.\n",
            "  % self.max_iter, ConvergenceWarning)\n",
            "\u001b[32m[I 2021-12-05 12:18:18,504]\u001b[0m Trial 88 finished with value: 0.9760333333333333 and parameters: {'classifier': 'MLP', 'hidden_layers_sizes': 42, 'activation': 'relu', 'solver': 'adam', 'max_iter': 200, 'learning_rate': 'adaptive', 'alpha': 0.001396614799700037}. Best is trial 25 with value: 0.9851666666666666.\u001b[0m\n",
            "/opt/conda/lib/python3.7/site-packages/sklearn/neural_network/_multilayer_perceptron.py:585: ConvergenceWarning: Stochastic Optimizer: Maximum iterations (200) reached and the optimization hasn't converged yet.\n",
            "  % self.max_iter, ConvergenceWarning)\n",
            "\u001b[32m[I 2021-12-05 12:18:44,930]\u001b[0m Trial 89 finished with value: 0.9799666666666667 and parameters: {'classifier': 'MLP', 'hidden_layers_sizes': 80, 'activation': 'tanh', 'solver': 'adam', 'max_iter': 200, 'learning_rate': 'adaptive', 'alpha': 0.0011992451799554375}. Best is trial 25 with value: 0.9851666666666666.\u001b[0m\n",
            "/opt/conda/lib/python3.7/site-packages/sklearn/neural_network/_multilayer_perceptron.py:585: ConvergenceWarning: Stochastic Optimizer: Maximum iterations (150) reached and the optimization hasn't converged yet.\n",
            "  % self.max_iter, ConvergenceWarning)\n",
            "\u001b[32m[I 2021-12-05 12:19:02,286]\u001b[0m Trial 90 finished with value: 0.9561 and parameters: {'classifier': 'MLP', 'hidden_layers_sizes': 72, 'activation': 'logistic', 'solver': 'adam', 'max_iter': 150, 'learning_rate': 'invscaling', 'alpha': 0.0010108121486525233}. Best is trial 25 with value: 0.9851666666666666.\u001b[0m\n",
            "\u001b[32m[I 2021-12-05 12:19:35,213]\u001b[0m Trial 91 finished with value: 0.9843666666666666 and parameters: {'classifier': 'MLP', 'hidden_layers_sizes': 85, 'activation': 'tanh', 'solver': 'adam', 'max_iter': 300, 'learning_rate': 'constant', 'alpha': 0.0014894630297206547}. Best is trial 25 with value: 0.9851666666666666.\u001b[0m\n",
            "\u001b[32m[I 2021-12-05 12:20:05,758]\u001b[0m Trial 92 finished with value: 0.9799333333333333 and parameters: {'classifier': 'MLP', 'hidden_layers_sizes': 86, 'activation': 'tanh', 'solver': 'adam', 'max_iter': 300, 'learning_rate': 'adaptive', 'alpha': 0.0018808393712718952}. Best is trial 25 with value: 0.9851666666666666.\u001b[0m\n",
            "/opt/conda/lib/python3.7/site-packages/sklearn/neural_network/_multilayer_perceptron.py:585: ConvergenceWarning: Stochastic Optimizer: Maximum iterations (250) reached and the optimization hasn't converged yet.\n",
            "  % self.max_iter, ConvergenceWarning)\n",
            "\u001b[32m[I 2021-12-05 12:20:35,499]\u001b[0m Trial 93 finished with value: 0.9820666666666666 and parameters: {'classifier': 'MLP', 'hidden_layers_sizes': 64, 'activation': 'tanh', 'solver': 'adam', 'max_iter': 250, 'learning_rate': 'constant', 'alpha': 0.0030172821378462644}. Best is trial 25 with value: 0.9851666666666666.\u001b[0m\n",
            "\u001b[32m[I 2021-12-05 12:21:07,600]\u001b[0m Trial 94 finished with value: 0.9801333333333333 and parameters: {'classifier': 'MLP', 'hidden_layers_sizes': 94, 'activation': 'tanh', 'solver': 'adam', 'max_iter': 300, 'learning_rate': 'constant', 'alpha': 0.0014847811839299716}. Best is trial 25 with value: 0.9851666666666666.\u001b[0m\n",
            "/opt/conda/lib/python3.7/site-packages/sklearn/neural_network/_multilayer_perceptron.py:585: ConvergenceWarning: Stochastic Optimizer: Maximum iterations (200) reached and the optimization hasn't converged yet.\n",
            "  % self.max_iter, ConvergenceWarning)\n",
            "\u001b[32m[I 2021-12-05 12:21:33,242]\u001b[0m Trial 95 finished with value: 0.9818333333333333 and parameters: {'classifier': 'MLP', 'hidden_layers_sizes': 75, 'activation': 'tanh', 'solver': 'adam', 'max_iter': 200, 'learning_rate': 'constant', 'alpha': 0.0011987529507238096}. Best is trial 25 with value: 0.9851666666666666.\u001b[0m\n",
            "\u001b[32m[I 2021-12-05 12:22:05,144]\u001b[0m Trial 96 finished with value: 0.9813666666666667 and parameters: {'classifier': 'MLP', 'hidden_layers_sizes': 108, 'activation': 'tanh', 'solver': 'adam', 'max_iter': 250, 'learning_rate': 'constant', 'alpha': 0.0016807881645808606}. Best is trial 25 with value: 0.9851666666666666.\u001b[0m\n",
            "\u001b[32m[I 2021-12-05 12:22:30,064]\u001b[0m Trial 97 finished with value: 0.9826666666666667 and parameters: {'classifier': 'MLP', 'hidden_layers_sizes': 56, 'activation': 'tanh', 'solver': 'adam', 'max_iter': 300, 'learning_rate': 'adaptive', 'alpha': 0.002027123096197288}. Best is trial 25 with value: 0.9851666666666666.\u001b[0m\n",
            "/opt/conda/lib/python3.7/site-packages/sklearn/neural_network/_multilayer_perceptron.py:585: ConvergenceWarning: Stochastic Optimizer: Maximum iterations (150) reached and the optimization hasn't converged yet.\n",
            "  % self.max_iter, ConvergenceWarning)\n",
            "\u001b[32m[I 2021-12-05 12:22:54,273]\u001b[0m Trial 98 finished with value: 0.9778 and parameters: {'classifier': 'MLP', 'hidden_layers_sizes': 115, 'activation': 'tanh', 'solver': 'adam', 'max_iter': 150, 'learning_rate': 'constant', 'alpha': 0.001439523708359665}. Best is trial 25 with value: 0.9851666666666666.\u001b[0m\n",
            "/opt/conda/lib/python3.7/site-packages/sklearn/neural_network/_multilayer_perceptron.py:585: ConvergenceWarning: Stochastic Optimizer: Maximum iterations (200) reached and the optimization hasn't converged yet.\n",
            "  % self.max_iter, ConvergenceWarning)\n",
            "\u001b[32m[I 2021-12-05 12:23:20,630]\u001b[0m Trial 99 finished with value: 0.9789666666666667 and parameters: {'classifier': 'MLP', 'hidden_layers_sizes': 82, 'activation': 'tanh', 'solver': 'adam', 'max_iter': 200, 'learning_rate': 'constant', 'alpha': 0.0025808037248028536}. Best is trial 25 with value: 0.9851666666666666.\u001b[0m\n"
          ]
        }
      ],
      "source": [
        "def objective(trial):\n",
        "    \n",
        "    classifier_name = trial.suggest_categorical(\"classifier\", [\"MLP\"])\n",
        "    \n",
        "    if classifier_name==\"MLP\":\n",
        "        hidden_layers_sizes = trial.suggest_int('hidden_layers_sizes',8,256)\n",
        "        activations = trial.suggest_categorical('activation',['logistic', 'tanh', 'relu'])\n",
        "        solvers = trial.suggest_categorical('solver',['adam'])\n",
        "        max_iters = trial.suggest_int('max_iter',50,400,50)\n",
        "        learning_rates = trial.suggest_categorical('learning_rate',['constant', 'invscaling', 'adaptive'])\n",
        "        alphas = trial.suggest_loguniform('alpha',0.001, 1)\n",
        "        clf = MLPClassifier(hidden_layer_sizes=hidden_layers_sizes,activation=activations,learning_rate=learning_rates,alpha=alphas,max_iter=max_iters)\n",
        "    clf.fit(X_resampled,y_resampled)\n",
        "    return clf.score(X_test_minmax, y_test)\n",
        "\n",
        "study = optuna.create_study(direction='maximize')\n",
        "study.optimize(objective, n_trials=100)"
      ]
    },
    {
      "cell_type": "markdown",
      "metadata": {
        "id": "G_V1FqYhTTjE"
      },
      "source": [
        "#### Σημείωση : θέσαμε ως default solver τον adam καθώς προτείνεται από το sklearn για multiclass classification με πολύ μεγάλα datasets. Όταν βάλαμε στο optuna και τους υπόλοιπους solver παρατηρήθηκε error σχετικά με το decode των strings και έτσι δεν μπορέσαμε να τους εισάγουμε στην objective και θεωρήσαμε την default = adam."
      ]
    },
    {
      "cell_type": "markdown",
      "metadata": {
        "id": "wCdpYyRuTTjE"
      },
      "source": [
        "#### Έπειτα παίρνουμε αυτές τις υπερπαραμέτρους και δοκιμάζουμε ξανά τον classifier για να δούμε πιο αναλυτικά το confusion matrix. "
      ]
    },
    {
      "cell_type": "code",
      "execution_count": null,
      "metadata": {
        "execution": {
          "iopub.execute_input": "2021-12-05T12:26:30.184140Z",
          "iopub.status.busy": "2021-12-05T12:26:30.183845Z",
          "iopub.status.idle": "2021-12-05T12:27:01.417577Z",
          "shell.execute_reply": "2021-12-05T12:27:01.416731Z",
          "shell.execute_reply.started": "2021-12-05T12:26:30.184109Z"
        },
        "trusted": true,
        "id": "3oc5SGuKTTjF",
        "outputId": "7a39b7a8-0939-47ca-e34d-296fba45f25a"
      },
      "outputs": [
        {
          "name": "stdout",
          "output_type": "stream",
          "text": [
            "\u001b[1mMultilayer Perceptron\u001b[0m\n",
            "\n",
            "\n",
            "              precision    recall  f1-score   support\n",
            "\n",
            "           0       0.97      1.00      0.98     11397\n",
            "           1       0.99      0.97      0.98     15450\n",
            "           2       0.94      0.97      0.95      3153\n",
            "\n",
            "    accuracy                           0.98     30000\n",
            "   macro avg       0.97      0.98      0.97     30000\n",
            "weighted avg       0.98      0.98      0.98     30000\n",
            " \n",
            "\n",
            "\n",
            "F1 macro \n",
            "0.9725025066781919 \n",
            "\n"
          ]
        },
        {
          "data": {
            "image/png": "[encoded data removed]",
            "text/plain": [
              "<Figure size 720x504 with 2 Axes>"
            ]
          },
          "metadata": {},
          "output_type": "display_data"
        }
      ],
      "source": [
        "clf = MLPClassifier(hidden_layer_sizes= 57,activation='tanh',solver='adam',learning_rate='constant',alpha=0.0019146130015935052,max_iter =300)\n",
        "\n",
        "clf.fit(X_resampled,y_resampled)\n",
        "mlp_pred = clf.predict(X_test_minmax)\n",
        "\n",
        "print('\\033[1m'+\"Multilayer Perceptron\"+'\\033[0m'+\"\\n\\n\")\n",
        "print(classification_report(y_test,mlp_pred),\"\\n\\n\")\n",
        "\n",
        "f1_macro['MLP']=f1_score(y_test,mlp_pred,average='macro')\n",
        "\n",
        "print(\"F1 macro \")\n",
        "print(f1_macro['MLP'],\"\\n\")\n",
        "\n",
        "plot_confusion_matrix(clf, X_test_minmax, y_test)  \n",
        "plt.title('Confusion matrix for the MLP')\n",
        "plt.xlabel('Predicted')\n",
        "plt.ylabel('Actual')\n",
        "plt.show()  "
      ]
    },
    {
      "cell_type": "markdown",
      "metadata": {
        "id": "CjHDj6ugTTjF"
      },
      "source": [
        "#### Παρατηρούμε πως έχουμε ιδιαίτερα μεγάλη βελτίωση καθώς και το accuracy και το f1_macro που μας ενδιαφέρουν παρουσιάζουν άνοδο 27 μονάδων accuracy και 37 στο f1_macro. Έτσι το βέλτιστο μοντέλο MLP (με βάση τις εμπειρικές μας παρατηρήσεις και τα αποτελέσματα της optuna) είναι το μοντέλο (Min_Max_Scaler,Random_Under_Sampler,hidden_layer_sizes= 57,activation='tanh',solver='adam',learning_rate='constant',alpha=0.0019146130015935052,max_iter =300). "
      ]
    },
    {
      "cell_type": "markdown",
      "metadata": {
        "id": "NdKhM-fZTTjF"
      },
      "source": [
        "### SVM Optimazation"
      ]
    },
    {
      "cell_type": "code",
      "execution_count": null,
      "metadata": {
        "execution": {
          "iopub.execute_input": "2021-12-05T17:48:14.383031Z",
          "iopub.status.busy": "2021-12-05T17:48:14.382222Z"
        },
        "trusted": true,
        "id": "uoFmYeUVTTjF",
        "outputId": "da9c9431-2dd9-44a6-b7ec-7bb96408ae90"
      },
      "outputs": [
        {
          "name": "stderr",
          "output_type": "stream",
          "text": [
            "\u001b[32m[I 2021-12-05 17:48:14,386]\u001b[0m A new study created in memory with name: no-name-c1a0ce5d-9757-43a0-89b5-08652bee3a84\u001b[0m\n",
            "\u001b[32m[I 2021-12-05 17:48:37,406]\u001b[0m Trial 0 finished with value: 0.8667333333333334 and parameters: {'classifier': 'SVC', 'C': 1.4264436648322847, 'kernel': 'rbf', 'degree': 12, 'gamma': 'auto'}. Best is trial 0 with value: 0.8667333333333334.\u001b[0m\n",
            "\u001b[32m[I 2021-12-05 17:49:09,718]\u001b[0m Trial 1 finished with value: 0.5116666666666667 and parameters: {'classifier': 'SVC', 'C': 1.0723595613324306, 'kernel': 'poly', 'degree': 29, 'gamma': 'auto'}. Best is trial 0 with value: 0.8667333333333334.\u001b[0m\n",
            "\u001b[32m[I 2021-12-05 17:49:30,664]\u001b[0m Trial 2 finished with value: 0.8829666666666667 and parameters: {'classifier': 'SVC', 'C': 2.2466902395620325, 'kernel': 'rbf', 'degree': 29, 'gamma': 'auto'}. Best is trial 2 with value: 0.8829666666666667.\u001b[0m\n",
            "\u001b[32m[I 2021-12-05 17:49:49,952]\u001b[0m Trial 3 finished with value: 0.8992333333333333 and parameters: {'classifier': 'SVC', 'C': 3.674594707219576, 'kernel': 'rbf', 'degree': 48, 'gamma': 'auto'}. Best is trial 3 with value: 0.8992333333333333.\u001b[0m\n",
            "\u001b[32m[I 2021-12-05 17:50:08,560]\u001b[0m Trial 4 finished with value: 0.9036666666666666 and parameters: {'classifier': 'SVC', 'C': 4.232927653921927, 'kernel': 'rbf', 'degree': 21, 'gamma': 'auto'}. Best is trial 4 with value: 0.9036666666666666.\u001b[0m\n",
            "\u001b[32m[I 2021-12-05 17:50:19,873]\u001b[0m Trial 5 finished with value: 0.9558 and parameters: {'classifier': 'SVC', 'C': 2.8407887144337396, 'kernel': 'rbf', 'degree': 16, 'gamma': 'scale'}. Best is trial 5 with value: 0.9558.\u001b[0m\n",
            "\u001b[32m[I 2021-12-05 17:50:42,017]\u001b[0m Trial 6 finished with value: 0.8723333333333333 and parameters: {'classifier': 'SVC', 'C': 1.6542299451082356, 'kernel': 'rbf', 'degree': 47, 'gamma': 'auto'}. Best is trial 5 with value: 0.9558.\u001b[0m\n",
            "\u001b[32m[I 2021-12-05 17:51:33,882]\u001b[0m Trial 7 finished with value: 0.393 and parameters: {'classifier': 'SVC', 'C': 4.7312260257004075, 'kernel': 'sigmoid', 'degree': 10, 'gamma': 'scale'}. Best is trial 5 with value: 0.9558.\u001b[0m\n",
            "\u001b[32m[I 2021-12-05 17:52:06,100]\u001b[0m Trial 8 finished with value: 0.5124 and parameters: {'classifier': 'SVC', 'C': 1.440721448874645, 'kernel': 'poly', 'degree': 19, 'gamma': 'auto'}. Best is trial 5 with value: 0.9558.\u001b[0m\n",
            "\u001b[32m[I 2021-12-05 17:52:13,513]\u001b[0m Trial 9 finished with value: 0.9496 and parameters: {'classifier': 'SVC', 'C': 4.121341467307897, 'kernel': 'poly', 'degree': 1, 'gamma': 'scale'}. Best is trial 5 with value: 0.9558.\u001b[0m\n",
            "\u001b[32m[I 2021-12-05 17:53:04,897]\u001b[0m Trial 10 finished with value: 0.39276666666666665 and parameters: {'classifier': 'SVC', 'C': 8.820285540779846, 'kernel': 'sigmoid', 'degree': 35, 'gamma': 'scale'}. Best is trial 5 with value: 0.9558.\u001b[0m\n",
            "\u001b[32m[I 2021-12-05 17:53:12,190]\u001b[0m Trial 11 finished with value: 0.9554 and parameters: {'classifier': 'SVC', 'C': 6.166772626037226, 'kernel': 'poly', 'degree': 1, 'gamma': 'scale'}. Best is trial 5 with value: 0.9558.\u001b[0m\n",
            "\u001b[32m[I 2021-12-05 17:53:19,219]\u001b[0m Trial 12 finished with value: 0.9575666666666667 and parameters: {'classifier': 'SVC', 'C': 7.4024683989888365, 'kernel': 'poly', 'degree': 1, 'gamma': 'scale'}. Best is trial 12 with value: 0.9575666666666667.\u001b[0m\n",
            "\u001b[32m[I 2021-12-05 18:08:40,598]\u001b[0m Trial 13 finished with value: 0.9804666666666667 and parameters: {'classifier': 'SVC', 'C': 2.5582880209081416, 'kernel': 'poly', 'degree': 9, 'gamma': 'scale'}. Best is trial 13 with value: 0.9804666666666667.\u001b[0m\n",
            "\u001b[32m[I 2021-12-05 18:13:23,811]\u001b[0m Trial 14 finished with value: 0.9827 and parameters: {'classifier': 'SVC', 'C': 9.101481758647843, 'kernel': 'poly', 'degree': 7, 'gamma': 'scale'}. Best is trial 14 with value: 0.9827.\u001b[0m\n"
          ]
        }
      ],
      "source": [
        "def objective1(trial):\n",
        "    \n",
        "    classifier_name = trial.suggest_categorical(\"classifier\", [\"SVC\"])\n",
        "    if classifier_name==\"SVC\":\n",
        "            \n",
        "        C = trial.suggest_loguniform('C', 1, 10)\n",
        "        kernel = trial.suggest_categorical('kernel',['poly','rbf','sigmoid'])\n",
        "        degree = trial.suggest_int('degree',1, 50)\n",
        "        gamma = trial.suggest_categorical('gamma',['scale', 'auto'])\n",
        "        clf = SVC(C=C,kernel=kernel,degree=degree,gamma=gamma)\n",
        "    clf.fit(X_resampled,y_resampled)    \n",
        "    return clf.score(X_test_minmax, y_test)\n",
        "\n",
        "study = optuna.create_study(direction='maximize')\n",
        "study.optimize(objective1, n_trials=50)"
      ]
    },
    {
      "cell_type": "markdown",
      "metadata": {
        "id": "bwK5qDSaTTjF"
      },
      "source": [
        "#### Μετά από πολλές δοκιμές στο optuna με n=100 kai n=50 καταλήγουμε πως το βέλτιστο μοντέλο για τον SVM είναι 'C': 9.101481758647843, 'kernel': 'poly', 'degree': 7, 'gamma': 'scale'\n",
        "#### Έπειτα παίρνουμε αυτό το μοντέλο και το εφαρόζουμε στον SVM και παρατηρούμε τα scores του και to confusion matrix"
      ]
    },
    {
      "cell_type": "code",
      "execution_count": null,
      "metadata": {
        "execution": {
          "iopub.execute_input": "2021-12-05T19:32:15.800581Z",
          "iopub.status.busy": "2021-12-05T19:32:15.800289Z",
          "iopub.status.idle": "2021-12-05T19:38:40.205747Z",
          "shell.execute_reply": "2021-12-05T19:38:40.204465Z",
          "shell.execute_reply.started": "2021-12-05T19:32:15.800550Z"
        },
        "trusted": true,
        "id": "3yiOW5SlTTjG",
        "outputId": "f1ce2cb9-81a1-4653-adc4-29e4e98287c2"
      },
      "outputs": [
        {
          "name": "stdout",
          "output_type": "stream",
          "text": [
            "\u001b[1mSVM\u001b[0m\n",
            "\n",
            "\n",
            "              precision    recall  f1-score   support\n",
            "\n",
            "           0       0.97      1.00      0.99     11440\n",
            "           1       0.99      0.97      0.98     15361\n",
            "           2       0.96      0.96      0.96      3199\n",
            "\n",
            "    accuracy                           0.98     30000\n",
            "   macro avg       0.97      0.98      0.98     30000\n",
            "weighted avg       0.98      0.98      0.98     30000\n",
            " \n",
            "\n",
            "\n",
            "F1 macro \n",
            "0.9755479159079039 \n",
            "\n"
          ]
        },
        {
          "data": {
            "image/png": "[encoded data removed]",
            "text/plain": [
              "<Figure size 720x504 with 2 Axes>"
            ]
          },
          "metadata": {},
          "output_type": "display_data"
        }
      ],
      "source": [
        "svc = SVC(C= 9.101481758647843, kernel= 'poly', degree = 7, gamma= 'scale')\n",
        "svc.fit(X_resampled,y_resampled)\n",
        "svc_pred = svc.predict(X_test_minmax)\n",
        "\n",
        "print('\\033[1m'+\"SVM\"+'\\033[0m'+\"\\n\\n\")\n",
        "print(classification_report(y_test,svc_pred),\"\\n\\n\")\n",
        "\n",
        "f1_macro['SVC']=f1_score(y_test,svc_pred,average='macro')\n",
        "\n",
        "print(\"F1 macro \")\n",
        "print(f1_macro['SVC'],\"\\n\")\n",
        "\n",
        "plot_confusion_matrix(svc, X_test_minmax, y_test)  \n",
        "plt.title('Confusion matrix for the SVC')\n",
        "plt.xlabel('Predicted')\n",
        "plt.ylabel('Actual')\n",
        "plt.show()  "
      ]
    },
    {
      "cell_type": "markdown",
      "metadata": {
        "id": "Vo-SV2NWTTjG"
      },
      "source": [
        "#### Παρατηρούμε πως έχουμε ιδιαίτερα μεγάλη βελτίωση καθώς και το accuracy και το f1_macro που μας ενδιαφέρουν παρουσιάζουν άνοδο 32 μονάδων accuracy και 50 στο f1_macro. "
      ]
    },
    {
      "cell_type": "markdown",
      "metadata": {
        "id": "a28nZTjKTTjG"
      },
      "source": [
        "##### Στην αναπτυξη του κωδικα μέσω της βιβλιοθήκης Optuna για τους ταξινομητες SVC και MLP δε χρησιμοποιησαμε pipeline για την προεπεξεργασια των δεδομενων. Αντιθετως, πραγματοποιησαμε προεπεξεργασια πριν την εισαγωγη της βιβλιοθηκης βελτιστοποιησης και χρησιμοποιησαμε τα τροποποιημενα data στους ταξινομητες. Ωστοσο, καταβαλαμε μεγαλη προσπαθεια για να βρουμε τον τροπο που θα εισαγωγουμε το pipeline στην Optuna και τελικα τα καταφεραμε αλλα δεν προλαβαιναμε να τρεξουμε τους ταξινομητες με τους διαφορους συνδυασμους στο pipeline. Εν συντομια, στον κώδικα που παρασουσιαζεται παρακατω, εντος του pipe2 μπορουμε να διατηρησουμε οποιους μετασχηματιστες θελουμε και να τεσταρουμε τους συνδυασμους."
      ]
    },
    {
      "cell_type": "code",
      "execution_count": null,
      "metadata": {
        "id": "VrK_h358TTjG"
      },
      "outputs": [],
      "source": [
        "# def objective(trial):\n",
        "       \n",
        "#     C = trial.suggest_loguniform('C', 1e-10, 1)\n",
        "#     kernel = trial.suggest_categorical('kernel',['poly','rbf','sigmoid'])\n",
        "#     degree = trial.suggest_int('degree',1, 50)\n",
        "#     gamma = trial.suggest_loguniform('gamma',0.001,10000)\n",
        "\n",
        "#     pca1 = trial.suggest_int('pca',7,10)\n",
        "#     selector1 = trial.suggest_float('selector',0,2)\n",
        "    \n",
        "#     selector = VarianceThreshold(threshold = selector1)\n",
        "#     pca = PCA(n_components = pca1)\n",
        "#     scaler = MinMaxScaler()\n",
        "#     sampler = RandomUnderSampler()\n",
        "#     svc = SVC(C=C,kernel=kernel,degree=degree,gamma=gamma)\n",
        "#     pipe2 = Pipeline(steps=[('selector', selector),('scaler', scaler),('sampler',sampler),('SVM', svc)], memory = 'tmp')\n",
        "\n",
        "#     pipe2.fit(x_train,y_train)    \n",
        "#     return pipe2.score(x_test, y_test)\n",
        "\n",
        "# study = optuna.create_study(direction='maximize')\n",
        "# study.optimize(objective, n_trials=10)\n"
      ]
    },
    {
      "cell_type": "markdown",
      "metadata": {
        "id": "d8VDS96jTTjH"
      },
      "source": [
        "### Ιδιαίτερα σημαντική επισήμανση :\n",
        "#### \n",
        "#### Σταματήσαμε το run για την βιβλιοθήκη optuna ston SVM καθώς για να φανεί το output στο notebook που θα παραδώσουμε πρέπει να κάνουμε save το notebook και commit το οποίο ήθελε run all οπότε ξεκινήσαμε το run αργοπορημένα χωρίς να έχουμε υπόψιν την επιλογή quick save. Έτσι θα έπαιρνε πολύ χρόνο η ολοκλήρωση και την σταματήσαμε στην καλύτερη τιμή που παρατηρήσαμε, η οποία σημειωτέον ήταν και η καλύτερη απο όλα τα προηγούμενα runs με n=50 kai n=100 που κάναμε"
      ]
    },
    {
      "cell_type": "markdown",
      "metadata": {
        "id": "aeJnLq2HTTjH"
      },
      "source": [
        "### Συμπεράσματα - Σχολιασμός\n",
        "#### \n",
        "#### Με βάση την παραπάνω μελέτη εξάγουμε το συμπέρασμα πως ο MLP είναι προτιμότερος του SVM για το συγκεκριμένο dataset καθώς παράγουν παρόμοια scores και στο accuracy και στο f1_macro, όμως οι χρόνοι ολοκλήρωσης της βελτιστοποίησης αλλά και του baseline classification είναι σχεδόν υπερδιπλάσιοι για τον SVM απ ότι για τον MLP πράγμα που απαιτεί μεγαλύτερη υπολογιστική δύναμη αλλά και χρόνο. Προτείνεται λοιπόν ο MLP με το μοντέλο που περιγράφεται παραπάνω."
      ]
    },
    {
      "cell_type": "code",
      "execution_count": null,
      "metadata": {
        "id": "UNdCyfRsTTjI"
      },
      "outputs": [],
      "source": []
    }
  ],
  "metadata": {
    "kernelspec": {
      "display_name": "Python 3",
      "language": "python",
      "name": "python3"
    },
    "language_info": {
      "codemirror_mode": {
        "name": "ipython",
        "version": 3
      },
      "file_extension": ".py",
      "mimetype": "text/x-python",
      "name": "python",
      "nbconvert_exporter": "python",
      "pygments_lexer": "ipython3",
      "version": "3.7.10"
    },
    "colab": {
      "provenance": [],
      "collapsed_sections": [
        "gCvxe45ATTi7",
        "mve8I0HyTTi8",
        "px5jB5duTTi9",
        "8eAnlBaNTTi-",
        "uazJegd3TTi_",
        "rExlCYreTTjD",
        "2jY2ggNeTTjE",
        "G_V1FqYhTTjE",
        "wCdpYyRuTTjE",
        "CjHDj6ugTTjF",
        "bwK5qDSaTTjF",
        "Vo-SV2NWTTjG"
      ]
    }
  },
  "nbformat": 4,
  "nbformat_minor": 0
}